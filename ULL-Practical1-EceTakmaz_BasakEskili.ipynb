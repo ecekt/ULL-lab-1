{
 "cells": [
  {
   "cell_type": "markdown",
   "metadata": {},
   "source": [
    "# Evaluating Word Representations\n",
    "\n",
    "## Getting the pre-trained word vectors\n",
    "\n",
    "In this part, we read the word embeddings from the files."
   ]
  },
  {
   "cell_type": "code",
   "execution_count": 1,
   "metadata": {
    "collapsed": true
   },
   "outputs": [],
   "source": [
    "import numpy as np\n",
    "from scipy.stats import pearsonr\n",
    "from scipy.stats import spearmanr\n",
    "from sklearn.metrics.pairwise import cosine_similarity\n",
    "from scipy import spatial\n",
    "from scipy import stats"
   ]
  },
  {
   "cell_type": "code",
   "execution_count": 2,
   "metadata": {
    "collapsed": true
   },
   "outputs": [],
   "source": [
    "bow2_file = 'bow2.words'\n",
    "bow5_file = 'bow5.words'\n",
    "dependency_file = 'deps.words'\n",
    "\n",
    "#read the files\n",
    "with open(bow2_file) as f:\n",
    "    bow2 = f.readlines()\n",
    "    \n",
    "with open(bow5_file) as f:\n",
    "    bow5 = f.readlines()\n",
    "    \n",
    "with open(dependency_file) as f:\n",
    "    dependency = f.readlines()\n",
    "  "
   ]
  },
  {
   "cell_type": "code",
   "execution_count": 3,
   "metadata": {},
   "outputs": [
    {
     "name": "stdout",
     "output_type": "stream",
     "text": [
      "183870\n",
      "183870\n",
      "174015\n"
     ]
    }
   ],
   "source": [
    "print(len(bow2))\n",
    "print(len(bow5))\n",
    "print(len(dependency))"
   ]
  },
  {
   "cell_type": "markdown",
   "metadata": {},
   "source": [
    "We found out that the number of word embeddings were different for BoW vs. dependency. However, as we use the word pairs from the human rating files, we use the same subset of embeddings."
   ]
  },
  {
   "cell_type": "code",
   "execution_count": 4,
   "metadata": {
    "collapsed": true
   },
   "outputs": [],
   "source": [
    "word2 = []\n",
    "word5 = []\n",
    "word_deps = []\n",
    "\n",
    "#dictionaries for word embeddings\n",
    "#key is the string word\n",
    "#value is the 300 dimensional embedding\n",
    "\n",
    "vector2 = dict()\n",
    "vector5 = dict()\n",
    "vector_deps = dict()"
   ]
  },
  {
   "cell_type": "code",
   "execution_count": 5,
   "metadata": {
    "collapsed": true
   },
   "outputs": [],
   "source": [
    "#fill in the word arrays and the respective vector arrays\n",
    "\n",
    "#bow2\n",
    "for l in bow2:\n",
    "    #split line\n",
    "    split_line = str.split(l)\n",
    "    \n",
    "    #first one is the word - string\n",
    "    word = split_line[0]\n",
    "    word2.append(word)\n",
    "    \n",
    "    #remaining elements are the embedding values - float\n",
    "    vector = []\n",
    "    for vd in split_line[1:]:\n",
    "        vector.append(float(vd))\n",
    "        \n",
    "    vector2[word] = vector\n",
    "    "
   ]
  },
  {
   "cell_type": "code",
   "execution_count": 6,
   "metadata": {
    "collapsed": true
   },
   "outputs": [],
   "source": [
    "#bow5\n",
    "for l in bow5:\n",
    "    #split line\n",
    "    split_line = str.split(l)\n",
    "    \n",
    "    #first one is the word - string\n",
    "    word = split_line[0]\n",
    "    word5.append(word)\n",
    "    \n",
    "    #remaining elements are the embedding values - float\n",
    "    vector = []\n",
    "    for vd in split_line[1:]:\n",
    "        vector.append(float(vd))\n",
    "        \n",
    "    vector5[word] = vector"
   ]
  },
  {
   "cell_type": "code",
   "execution_count": 7,
   "metadata": {
    "collapsed": true
   },
   "outputs": [],
   "source": [
    "#dependency\n",
    "for l in dependency:\n",
    "    #split line\n",
    "    split_line = str.split(l)\n",
    "    \n",
    "    #first one is the word - string\n",
    "    word = split_line[0]\n",
    "    word_deps.append(word)\n",
    "    \n",
    "    #remaining elements are the embedding values - float\n",
    "    vector = []\n",
    "    for vd in split_line[1:]:\n",
    "        vector.append(float(vd))\n",
    "        \n",
    "    vector_deps[word] = vector"
   ]
  },
  {
   "cell_type": "markdown",
   "metadata": {},
   "source": [
    "## Word Similarity Task\n",
    "In this part, we define the methods to get the human scores and the cosine similarities of the word pairs. We first define the normalized version, in which we normalize the scores by subtracting the minimum and dividing by the range of values. Then, we define the method that does not normalize the human scores."
   ]
  },
  {
   "cell_type": "code",
   "execution_count": 11,
   "metadata": {
    "collapsed": true
   },
   "outputs": [],
   "source": [
    "#function to get the human ratings and cosine similarities (ratings are normalized to [0,1])\n",
    "\n",
    "def get_scores_cosines(keys, word_pairs, vector_embeds, norm_min, norm_max):\n",
    "    scores = []\n",
    "    cosines = []\n",
    "\n",
    "    #key is a tuple indicating a pair from the human scores dataset\n",
    "   \n",
    "    for key in keys:\n",
    "       \n",
    "        #words of a given pair\n",
    "        word1 = key[0]\n",
    "        word2 = key[1]\n",
    "        \n",
    "        #human ratings of similarity or relatdness\n",
    "        score = (float(score) - norm_min)/(norm_max - norm_min) #normalization\n",
    "        \n",
    "        #if both of the words are in the vector embeddings, get their embeddings and calculate the cos similarity\n",
    "        if word1 in vector_embeds.keys() and word2 in vector_embeds.keys():\n",
    "            word1_embed = vector_embeds[word1]\n",
    "            word2_embed = vector_embeds[word2]\n",
    "            \n",
    "            #sim = 1 - distance\n",
    "            cosine_similarity = 1 - spatial.distance.cosine(word1_embed, word2_embed)\n",
    "            scores.append(score)\n",
    "            cosines.append(cosine_similarity)\n",
    "            \n",
    "            \n",
    "    return scores, cosines\n",
    "        "
   ]
  },
  {
   "cell_type": "code",
   "execution_count": 12,
   "metadata": {
    "collapsed": true
   },
   "outputs": [],
   "source": [
    "#function to get the human ratings and cosine similarities  (ratings are NOT normalized to [0,1]\n",
    "\n",
    "def get_scores_cosines_not_normalize(keys, word_pairs, vector_embeds):\n",
    "    \n",
    "    scores = []\n",
    "    cosines = []\n",
    "\n",
    "    #key is a tuple indicating a pair from the human scores dataset\n",
    "    \n",
    "    for key in keys:\n",
    "        \n",
    "        #words of a given pair\n",
    "        word1 = key[0]\n",
    "        word2 = key[1]\n",
    "        \n",
    "        #human ratings of similarity or relatdness\n",
    "        score = float(word_pairs[(word1,word2)])\n",
    "        \n",
    "        #if both of the words are in the vector embeddings, get their embeddings and calculate the cos similarity\n",
    "        if word1 in vector_embeds.keys() and word2 in vector_embeds.keys():\n",
    "            word1_embed = vector_embeds[word1]\n",
    "            word2_embed = vector_embeds[word2]\n",
    "                                \n",
    "            #sim = 1 - distance\n",
    "            cosine_similarity = 1 - spatial.distance.cosine(word1_embed, word2_embed)\n",
    "            \n",
    "            scores.append(score)\n",
    "            cosines.append(cosine_similarity)\n",
    "            \n",
    "            \n",
    "    return scores, cosines\n",
    "        "
   ]
  },
  {
   "cell_type": "markdown",
   "metadata": {},
   "source": [
    "We first read the full MEN dataset comprised of natural word forms. "
   ]
  },
  {
   "cell_type": "code",
   "execution_count": 13,
   "metadata": {
    "collapsed": true
   },
   "outputs": [],
   "source": [
    "#natural form MEN dataset\n",
    "word_pairs = {}\n",
    "\n",
    "filename = 'MEN/MEN_dataset_natural_form_full'\n",
    "\n",
    "with open(filename) as f:\n",
    "    lines = f.readlines()\n",
    "    \n",
    "for line in lines:\n",
    "    line = line.split()\n",
    "    word1 = line[0]\n",
    "    word2 = line[1]\n",
    "    score = line[2]\n",
    "    word_pairs[(word1,word2)] = score\n",
    "    \n",
    "keys = list(word_pairs.keys())"
   ]
  },
  {
   "cell_type": "code",
   "execution_count": 17,
   "metadata": {
    "collapsed": true
   },
   "outputs": [],
   "source": [
    "norm_max = 50 #for MEN\n",
    "norm_min = 0 #for MEN\n",
    "\n",
    "#normalized\n",
    "\n",
    "#vector2 and cosine similarity comparison\n",
    "scores_2, cosines_2 = get_scores_cosines(keys, word_pairs, vector2, norm_min, norm_max)\n",
    "\n",
    "#vector5 and cosine similarity comparison\n",
    "scores_5, cosines_5 = get_scores_cosines(keys, word_pairs, vector5, norm_min, norm_max)\n",
    "\n",
    "#vector_deps and cosine similarity comparison\n",
    "scores_deps, cosines_deps = get_scores_cosines(keys, word_pairs, vector_deps, norm_min, norm_max)\n",
    "\n",
    "\n",
    "#non-normalized\n",
    "#vector2 and cosine similarity comparison\n",
    "scores_2_nn, cosines_2_nn = get_scores_cosines_not_normalize(keys, word_pairs, vector2)\n",
    "\n",
    "#vector5 and cosine similarity comparison\n",
    "scores_5_nn, cosines_5_nn = get_scores_cosines_not_normalize(keys, word_pairs, vector5)\n",
    "\n",
    "#vector_deps and cosine similarity comparison\n",
    "scores_deps_nn, cosines_deps_nn = get_scores_cosines_not_normalize(keys, word_pairs, vector_deps)"
   ]
  },
  {
   "cell_type": "markdown",
   "metadata": {},
   "source": [
    "In the cell below, we check if the correlation results when using the normalized or the non-normalized scores are different for the MEN dataset."
   ]
  },
  {
   "cell_type": "code",
   "execution_count": 30,
   "metadata": {},
   "outputs": [
    {
     "name": "stdout",
     "output_type": "stream",
     "text": [
      "(0.67769822446992301, 0.0)\n",
      "(0.67769822446992301, 0.0)\n",
      "SpearmanrResult(correlation=0.69990475583081901, pvalue=0.0)\n",
      "SpearmanrResult(correlation=0.69990475583081901, pvalue=0.0)\n",
      "(0.70823624804715701, 0.0)\n",
      "(0.7082362480471569, 0.0)\n",
      "SpearmanrResult(correlation=0.72316865613688441, pvalue=0.0)\n",
      "SpearmanrResult(correlation=0.72316865613688441, pvalue=0.0)\n",
      "(0.59740160446667256, 1.0183783114137056e-289)\n",
      "(0.59740160446667256, 1.0183783114137056e-289)\n",
      "SpearmanrResult(correlation=0.61782279002070517, pvalue=2.3702603610424921e-315)\n",
      "SpearmanrResult(correlation=0.61782279002070517, pvalue=2.3702603610424921e-315)\n"
     ]
    }
   ],
   "source": [
    "print(pearsonr(scores_2, cosines_2))\n",
    "print(pearsonr(scores_2_nn, cosines_2_nn))\n",
    "\n",
    "print(spearmanr(scores_2, cosines_2))\n",
    "print(spearmanr(scores_2_nn, cosines_2_nn))\n",
    "\n",
    "\n",
    "print(pearsonr(scores_5, cosines_5))\n",
    "print(pearsonr(scores_5_nn, cosines_5_nn))\n",
    "\n",
    "print(spearmanr(scores_5, cosines_5))\n",
    "print(spearmanr(scores_5_nn, cosines_5_nn))\n",
    "\n",
    "\n",
    "print(pearsonr(scores_deps, cosines_deps))\n",
    "print(pearsonr(scores_deps_nn, cosines_deps_nn))\n",
    "\n",
    "print(spearmanr(scores_deps, cosines_deps))\n",
    "print(spearmanr(scores_deps_nn, cosines_deps_nn))"
   ]
  },
  {
   "cell_type": "markdown",
   "metadata": {},
   "source": [
    "We found out that the results are in fact the same for the normalized vs. non-normalized datasets. **Pearson** explains the linear proportional relation between the datasets; hence, the difference between the means does not affect the correlation coefficient. **Spearman**, on the other hand, represents the values by their ranks and account for monotonic, non-linear correlation and more robust to outliers, as well. This might explain the higher values we obtained with Spearman compared to Pearson.\n",
    "\n",
    "https://en.wikipedia.org/wiki/Pearson_correlation_coefficient\n",
    "https://en.wikipedia.org/wiki/Spearman%27s_rank_correlation_coefficient\n",
    "\n",
    "We also check for the normality of the datasets, just to observe if the scores are normally-distributed.\n",
    "\n",
    "In the cell below, we define a function to extract the statistical outcomes given the normalized human ratings and the cosine similarities. We report the means, standard deviations, normality test results and t-test results we applied for exploration."
   ]
  },
  {
   "cell_type": "code",
   "execution_count": 21,
   "metadata": {
    "collapsed": true
   },
   "outputs": [],
   "source": [
    "def get_stats(cosines_2, scores_2, cosines_5, scores_5, cosines_deps, scores_deps):\n",
    "    cosines_2 = np.asarray(cosines_2)\n",
    "    cosines_5 = np.asarray(cosines_5)\n",
    "    cosines_deps = np.asarray(cosines_deps)\n",
    "\n",
    "    #report means and stds\n",
    "    mean_cos_2 = np.mean(cosines_2)\n",
    "    std_cos_2 = np.std(cosines_2)\n",
    "\n",
    "    mean_cos_5 = np.mean(cosines_5)\n",
    "    std_cos_5 = np.std(cosines_5)\n",
    "\n",
    "    mean_cos_deps = np.mean(cosines_deps)\n",
    "    std_cos_deps= np.std(cosines_deps)\n",
    "\n",
    "    print('Means and stds')\n",
    "    print('Bow2:',mean_cos_2, std_cos_2)\n",
    "    print('Bow5:',mean_cos_5, std_cos_5)\n",
    "    print('Deps:',mean_cos_deps, std_cos_deps)\n",
    "    \n",
    "    print()\n",
    "    \n",
    "    #normality tests\n",
    "    print('Normality tests')\n",
    "    print('Bow2 scores:',stats.normaltest(scores_2)[1])\n",
    "    print('Bow5 scores:',stats.normaltest(scores_5)[1])\n",
    "    print('Deps scores:',stats.normaltest(scores_deps)[1])\n",
    "    print()\n",
    "    print('Bow2 cosines:',stats.normaltest(cosines_2)[1])\n",
    "    print('Bow5 cosines:',stats.normaltest(cosines_5)[1])\n",
    "    print('Deps cosines:',stats.normaltest(cosines_deps)[1])\n",
    "    print()\n",
    "    \n",
    "    #difference between the embed types cosine similarities\n",
    "    print('T-test between Bow2 and Bow5')\n",
    "    print(stats.ttest_ind(cosines_2, cosines_5)[1])\n",
    "    print('T-test between Bow2 and Dependency')\n",
    "    print(stats.ttest_ind(cosines_2, cosines_deps)[1])\n",
    "    print('T-test between Dependency and Bow2')\n",
    "    print(stats.ttest_ind(cosines_deps, cosines_5)[1])\n",
    "    print()\n",
    "    \n",
    "    #difference between the embed types cosine similarities vs human ratings\n",
    "    print('T-test between Bow2 and human scores')\n",
    "    print(stats.ttest_ind(cosines_2, scores_2)[1])\n",
    "    print('T-test between Bow5 and human scores')\n",
    "    print(stats.ttest_ind(cosines_5, scores_5)[1])\n",
    "    print('T-test between Dependency and human scores')\n",
    "    print(stats.ttest_ind(cosines_deps, scores_deps)[1])\n",
    "    print()\n",
    "    \n",
    "    #correlation tests for bow2\n",
    "    pr_2, sig_p_2 = pearsonr(scores_2, cosines_2)\n",
    "    spr_2, sig_s_2 = spearmanr(scores_2, cosines_2)\n",
    "\n",
    "    print('Correlation results for BOW2 vs. human ratings')\n",
    "    print('Pearson\\'s r:',pr_2, 'p-value =', sig_p_2)\n",
    "    print('Spearman\\'s r:',spr_2, 'p-value =', sig_s_2)\n",
    "    print()\n",
    "    ###\n",
    "\n",
    "    #correlation tests for bow5\n",
    "    pr_5, sig_p_5 = pearsonr(scores_5, cosines_5)\n",
    "    spr_5, sig_s_5 = spearmanr(scores_5, cosines_5)\n",
    "\n",
    "    print('Correlation results for BOW5 vs. human ratings')\n",
    "    print('Pearson\\'s r:',pr_5, 'p-value =', sig_p_5)\n",
    "    print('Spearman\\'s r:',spr_5, 'p-value =', sig_s_5)\n",
    "    print()\n",
    "\n",
    "    ###\n",
    "    #correlation tests for dependency\n",
    "    pr_deps, sig_p_deps = pearsonr(scores_deps, cosines_deps)\n",
    "    spr_deps, sig_s_deps = spearmanr(scores_deps, cosines_deps)\n",
    "\n",
    "    print('Correlation results for Dependency vs. human ratings')\n",
    "    print('Pearson\\'s r:',pr_deps, 'p-value =', sig_p_deps)\n",
    "    print('Spearman\\'s r:',spr_deps, 'p-value =', sig_s_deps)"
   ]
  },
  {
   "cell_type": "code",
   "execution_count": 35,
   "metadata": {},
   "outputs": [
    {
     "name": "stdout",
     "output_type": "stream",
     "text": [
      "Both are in all the sets\n"
     ]
    }
   ],
   "source": [
    "if 'stair' in vector2 and 'stairs' in vector2:\n",
    "    if 'stair' in vector5 and 'stairs' in vector5:\n",
    "        if 'stair' in vector_deps and 'stairs' in vector_deps:\n",
    "            print('Both are in all the sets')"
   ]
  },
  {
   "cell_type": "markdown",
   "metadata": {},
   "source": [
    "Natural form as well as the lemmatized form exist in the embeddings."
   ]
  },
  {
   "cell_type": "code",
   "execution_count": 44,
   "metadata": {},
   "outputs": [
    {
     "name": "stdout",
     "output_type": "stream",
     "text": [
      "***Stats for MEN natural form***\n",
      "Means and stds\n",
      "Bow2: 0.414526703042 0.151395221895\n",
      "Bow5: 0.394065125766 0.177624443678\n",
      "Deps: 0.51009262559 0.14463670385\n",
      "\n",
      "Normality tests\n",
      "Bow2 scores: 4.38064395798e-91\n",
      "Bow5 scores: 4.38064395798e-91\n",
      "Deps scores: 4.38064395798e-91\n",
      "\n",
      "Bow2 cosines: 0.0068174623159\n",
      "Bow5 cosines: 5.0465250376e-05\n",
      "Deps cosines: 0.00270064091624\n",
      "\n",
      "T-test between Bow2 and Bow5\n",
      "0.0056880562319\n",
      "T-test between Bow2 and Dependency\n",
      "7.23679328236e-45\n",
      "T-test between Dependency and Bow2\n",
      "2.88769953723e-54\n",
      "\n",
      "T-test between Bow2 and human scores\n",
      "1.21687154224e-05\n",
      "T-test between Bow5 and human scores\n",
      "5.44130401006e-10\n",
      "T-test between Dependency and human scores\n",
      "1.63990179398e-08\n",
      "\n",
      "Correlation results for BOW2 vs. human ratings\n",
      "Pearson's r: 0.428458661816 p-value = 7.99299665224e-46\n",
      "Spearman's r: 0.414145767773 p-value = 1.22681286925e-42\n",
      "\n",
      "Correlation results for BOW5 vs. human ratings\n",
      "Pearson's r: 0.375600597067 p-value = 8.6074105723e-35\n",
      "Spearman's r: 0.367396136698 p-value = 2.97757810672e-33\n",
      "\n",
      "Correlation results for Dependency vs. human ratings\n",
      "Pearson's r: 0.461901344297 p-value = 6.83893566241e-54\n",
      "Spearman's r: 0.445640934933 p-value = 7.41429571147e-50\n"
     ]
    }
   ],
   "source": [
    "print('***Stats for MEN natural form***')\n",
    "get_stats(cosines_2, scores_2, cosines_5, scores_5, cosines_deps, scores_deps)"
   ]
  },
  {
   "cell_type": "markdown",
   "metadata": {},
   "source": [
    "**MEN natural form:** Scores and cosines are not normally distributed, p < 0.01; therefore, the t-tests are not meaningful. We inspect the correlation results for the similarity scores vs. human ratings. They all indicate a significant positive correlation, p < 0.01. When we look at the values, we see that for this dataset, BoW5 finds higher correlation, then BoW2 and then Dependency. This means that BoW5 is better at predicting and approximating relatednes judgements of humans.\n",
    "\n",
    "We also look at the **lemmatized MEN dataset**, which consists of the same words without suffixes. "
   ]
  },
  {
   "cell_type": "code",
   "execution_count": 28,
   "metadata": {
    "collapsed": true
   },
   "outputs": [],
   "source": [
    "#lemmatized MEN, which includes POS-tags and words with inflections \n",
    "\n",
    "word_pairs = {}\n",
    "pos_tag_pairs = {}\n",
    "\n",
    "filename = 'MEN/MEN_dataset_lemma_form_full'\n",
    "\n",
    "with open(filename) as f:\n",
    "    lines = f.readlines()\n",
    "    \n",
    "for line in lines:\n",
    "    line = line.split()\n",
    "    \n",
    "    word_pos_1 = line[0]\n",
    "    split_wp = word_pos_1.split('-')\n",
    "    word1 = split_wp[0]\n",
    "    pos1 = split_wp[1]\n",
    "    \n",
    "    word_pos_2 = line[1]\n",
    "    split_wp = word_pos_2.split('-')\n",
    "    word2= split_wp[0]\n",
    "    pos2 = split_wp[1]\n",
    "    \n",
    "    score = line[2]\n",
    "    word_pairs[(word1,word2)] = score\n",
    "    pos_tag_pairs[(word1, word2)] = (pos1, pos2)\n",
    "    \n",
    "keys = list(word_pairs.keys())"
   ]
  },
  {
   "cell_type": "code",
   "execution_count": 30,
   "metadata": {},
   "outputs": [
    {
     "name": "stdout",
     "output_type": "stream",
     "text": [
      "***Stats for MEN lemma form***\n",
      "Means and stds\n",
      "Bow2: 0.316803512667 0.145607303311\n",
      "Bow5: 0.308255587339 0.186932626717\n",
      "Deps: 0.403399757048 0.149368049522\n",
      "\n",
      "Normality tests\n",
      "Bow2 scores: 0.0\n",
      "Bow5 scores: 0.0\n",
      "Deps scores: 0.0\n",
      "\n",
      "Bow2 cosines: 4.79219186707e-25\n",
      "Bow5 cosines: 5.29522735224e-57\n",
      "Deps cosines: 4.32604518066e-30\n",
      "\n",
      "T-test between Bow2 and Bow5\n",
      "0.0482493426745\n",
      "T-test between Bow2 and Dependency\n",
      "8.03242845857e-110\n",
      "T-test between Dependency and Bow2\n",
      "3.04144684951e-101\n",
      "\n",
      "T-test between Bow2 and human scores\n",
      "5.14499760051e-246\n",
      "T-test between Bow5 and human scores\n",
      "4.15970305652e-232\n",
      "T-test between Dependency and human scores\n",
      "8.876674085e-74\n",
      "\n",
      "Correlation results for BOW2 vs. human ratings\n",
      "Pearson's r: 0.669495069415 p-value = 0.0\n",
      "Spearman's r: 0.686061690441 p-value = 0.0\n",
      "\n",
      "Correlation results for BOW5 vs. human ratings\n",
      "Pearson's r: 0.703135928466 p-value = 0.0\n",
      "Spearman's r: 0.715675453077 p-value = 0.0\n",
      "\n",
      "Correlation results for Dependency vs. human ratings\n",
      "Pearson's r: 0.58814663439 p-value = 1.06640642166e-278\n",
      "Spearman's r: 0.605532590481 p-value = 1.05889084861e-299\n"
     ]
    }
   ],
   "source": [
    "#vector2 and cosine similarity comparison\n",
    "scores_2, cosines_2 = get_scores_cosines(keys, word_pairs, vector2, norm_min, norm_max)\n",
    "\n",
    "#vector5 and cosine similarity comparison\n",
    "scores_5, cosines_5 = get_scores_cosines(keys, word_pairs, vector5, norm_min, norm_max)\n",
    "\n",
    "#vector2 and cosine similarity comparison\n",
    "scores_deps, cosines_deps = get_scores_cosines(keys, word_pairs, vector_deps, norm_min, norm_max)\n",
    "\n",
    "print('***Stats for MEN lemma form***')\n",
    "get_stats(cosines_2, scores_2, cosines_5, scores_5, cosines_deps, scores_deps)"
   ]
  },
  {
   "cell_type": "markdown",
   "metadata": {},
   "source": [
    "**MEN lemmatized:**\n",
    "Scores and cosines are again not normally distributed p < 0.01; therefore, the t-tests are not meaningful. We inspect the correlation results for the similarity scores vs. human ratings. They all indicate a significant positive correlation, p < 0.01. When we look at the values, we see that for this dataset, BoW5 finds higher correlation, then BoW2 and then Dependency. This means that BoW5 is better at predicting and approximating relatednes judgements of humans.\n"
   ]
  },
  {
   "cell_type": "code",
   "execution_count": 29,
   "metadata": {
    "scrolled": true
   },
   "outputs": [
    {
     "data": {
      "text/plain": [
       "3000"
      ]
     },
     "execution_count": 29,
     "metadata": {},
     "output_type": "execute_result"
    }
   ],
   "source": [
    "len(cosines_2)"
   ]
  },
  {
   "cell_type": "code",
   "execution_count": 25,
   "metadata": {
    "collapsed": true
   },
   "outputs": [],
   "source": [
    "def get_pair_count(keys, vector_embeds):\n",
    "    count = 0\n",
    "    \n",
    "    for key in keys:\n",
    "        word1 = key[0]\n",
    "        word2 = key[1]\n",
    "        if word1 in vector_embeds.keys() and word2 in vector_embeds.keys():\n",
    "            count = count + 1\n",
    "        else:\n",
    "            print(word1, word2)\n",
    "           \n",
    "    return count"
   ]
  },
  {
   "cell_type": "code",
   "execution_count": 26,
   "metadata": {},
   "outputs": [
    {
     "name": "stdout",
     "output_type": "stream",
     "text": [
      "3000 3000 3000\n"
     ]
    }
   ],
   "source": [
    "print(get_pair_count(keys, vector2), get_pair_count(keys, vector5),get_pair_count(keys, vector_deps))"
   ]
  },
  {
   "cell_type": "markdown",
   "metadata": {},
   "source": [
    "We also obtain the pairs and scores in SimLex-999 set."
   ]
  },
  {
   "cell_type": "code",
   "execution_count": 40,
   "metadata": {
    "collapsed": true
   },
   "outputs": [],
   "source": [
    "# Simlex Dataset Read\n",
    "\n",
    "word_pairs = {}\n",
    "\n",
    "filename = 'SimLex-999/SimLex-999.txt'\n",
    "\n",
    "with open(filename) as f:\n",
    "    lines = f.readlines()\n",
    "    \n",
    "lines = lines[1:]\n",
    "for line in lines:\n",
    "    line = line.split()\n",
    "    word1 = line[0]\n",
    "    word2 = line[1]\n",
    "    score = line[3]\n",
    "    word_pairs[(word1,word2)] = score\n",
    "    \n",
    "keys = list(word_pairs.keys())"
   ]
  },
  {
   "cell_type": "code",
   "execution_count": 41,
   "metadata": {},
   "outputs": [
    {
     "data": {
      "text/plain": [
       "False"
      ]
     },
     "execution_count": 41,
     "metadata": {},
     "output_type": "execute_result"
    }
   ],
   "source": [
    "'disorganize' in vector2 #this one is not in the embedding vectors"
   ]
  },
  {
   "cell_type": "code",
   "execution_count": 42,
   "metadata": {
    "scrolled": true
   },
   "outputs": [
    {
     "name": "stdout",
     "output_type": "stream",
     "text": [
      "***Stats for SimLex***\n",
      "Means and stds\n",
      "Bow2: 0.414526703042 0.151395221895\n",
      "Bow5: 0.394065125766 0.177624443678\n",
      "Deps: 0.51009262559 0.14463670385\n",
      "\n",
      "Normality tests\n",
      "Bow2 scores: 4.38064395798e-91\n",
      "Bow5 scores: 4.38064395798e-91\n",
      "Deps scores: 4.38064395798e-91\n",
      "\n",
      "Bow2 cosines: 0.0068174623159\n",
      "Bow5 cosines: 5.0465250376e-05\n",
      "Deps cosines: 0.00270064091624\n",
      "\n",
      "T-test between Bow2 and Bow5\n",
      "0.0056880562319\n",
      "T-test between Bow2 and Dependency\n",
      "7.23679328236e-45\n",
      "T-test between Dependency and Bow2\n",
      "2.88769953723e-54\n",
      "\n",
      "T-test between Bow2 and human scores\n",
      "1.21687154224e-05\n",
      "T-test between Bow5 and human scores\n",
      "5.44130401006e-10\n",
      "T-test between Dependency and human scores\n",
      "1.63990179398e-08\n",
      "\n",
      "Correlation results for BOW2 vs. human ratings\n",
      "Pearson's r: 0.428458661816 p-value = 7.99299665224e-46\n",
      "Spearman's r: 0.414145767773 p-value = 1.22681286925e-42\n",
      "\n",
      "Correlation results for BOW5 vs. human ratings\n",
      "Pearson's r: 0.375600597067 p-value = 8.6074105723e-35\n",
      "Spearman's r: 0.367396136698 p-value = 2.97757810672e-33\n",
      "\n",
      "Correlation results for Dependency vs. human ratings\n",
      "Pearson's r: 0.461901344297 p-value = 6.83893566241e-54\n",
      "Spearman's r: 0.445640934933 p-value = 7.41429571147e-50\n"
     ]
    }
   ],
   "source": [
    "norm_min = 0 #For SimLex\n",
    "norm_max = 10 #For SimLex\n",
    "\n",
    "#vector2 and cosine similarity comparison\n",
    "scores_2, cosines_2 = get_scores_cosines(keys, word_pairs, vector2, norm_min, norm_max)\n",
    "\n",
    "#vector5 and cosine similarity comparison\n",
    "scores_5, cosines_5 = get_scores_cosines(keys, word_pairs, vector5, norm_min, norm_max)\n",
    "\n",
    "#vector2 and cosine similarity comparison\n",
    "scores_deps, cosines_deps = get_scores_cosines(keys, word_pairs, vector_deps, norm_min, norm_max)\n",
    "\n",
    "print('***Stats for SimLex***')\n",
    "get_stats(cosines_2, scores_2, cosines_5, scores_5, cosines_deps, scores_deps)"
   ]
  },
  {
   "cell_type": "markdown",
   "metadata": {},
   "source": [
    "Above, we report the results for the **SimLex** file. Since the normality tests indicate non-normality, we do not explain the t-test outcomes. The difference here is that Dependency-based embeddings result in the highest correlation, followed by BoW2 and BoW5.\n",
    "\n",
    "Below, we apply the same process **separately to the Adjective pairs, Verb pairs and the Noun pairs** available in SimLex-999."
   ]
  },
  {
   "cell_type": "code",
   "execution_count": 43,
   "metadata": {},
   "outputs": [
    {
     "name": "stdout",
     "output_type": "stream",
     "text": [
      "***Stats for SimLex adjectives***\n",
      "Means and stds\n",
      "Bow2: 0.429408977788 0.153553097417\n",
      "Bow5: 0.404101579003 0.165794902768\n",
      "Deps: 0.557244590288 0.126373151432\n",
      "\n",
      "Normality tests\n",
      "Bow2 scores: 0.991469439045\n",
      "Bow5 scores: 0.991469439045\n",
      "Deps scores: 0.991469439045\n",
      "\n",
      "Bow2 cosines: 0.0288751644963\n",
      "Bow5 cosines: 0.0662996826409\n",
      "Deps cosines: 0.27052873445\n",
      "\n",
      "T-test between Bow2 and Bow5\n",
      "0.241439947752\n",
      "T-test between Bow2 and Dependency\n",
      "1.35603744254e-10\n",
      "T-test between Dependency and Bow2\n",
      "4.44120705389e-13\n",
      "\n",
      "T-test between Bow2 and human scores\n",
      "0.263093962608\n",
      "T-test between Bow5 and human scores\n",
      "0.0729133083622\n",
      "T-test between Dependency and human scores\n",
      "0.0129443874718\n",
      "\n",
      "Correlation results for BOW2 vs. human ratings\n",
      "Pearson's r: 0.523060854465 p-value = 3.87401237505e-09\n",
      "Spearman's r: 0.538251768825 p-value = 1.10969616259e-09\n",
      "\n",
      "Correlation results for BOW5 vs. human ratings\n",
      "Pearson's r: 0.46354770461 p-value = 2.99891460879e-07\n",
      "Spearman's r: 0.481179617875 p-value = 9.00169009555e-08\n",
      "\n",
      "Correlation results for Dependency vs. human ratings\n",
      "Pearson's r: 0.485339911845 p-value = 6.70911663171e-08\n",
      "Spearman's r: 0.496927442105 p-value = 2.89753998324e-08\n",
      "***Stats for SimLex nouns***\n",
      "Means and stds\n",
      "Bow2: 0.391301176341 0.152459175565\n",
      "Bow5: 0.38138498903 0.187469921862\n",
      "Deps: 0.489268225066 0.151230378654\n",
      "\n",
      "Normality tests\n",
      "Bow2 scores: 4.87865272213e-29\n",
      "Bow5 scores: 4.87865272213e-29\n",
      "Deps scores: 4.87865272213e-29\n",
      "\n",
      "Bow2 cosines: 0.00999290689674\n",
      "Bow5 cosines: 7.90190629704e-05\n",
      "Deps cosines: 3.33347124736e-05\n",
      "\n",
      "T-test between Bow2 and Bow5\n",
      "0.290130758765\n",
      "T-test between Bow2 and Dependency\n",
      "1.81545263326e-30\n",
      "T-test between Dependency and Bow2\n",
      "1.7782294738e-29\n",
      "\n",
      "T-test between Bow2 and human scores\n",
      "2.82381963443e-07\n",
      "T-test between Bow5 and human scores\n",
      "1.88178440339e-08\n",
      "T-test between Dependency and human scores\n",
      "0.000293661402461\n",
      "\n",
      "Correlation results for BOW2 vs. human ratings\n",
      "Pearson's r: 0.437518081006 p-value = 1.62423639667e-32\n",
      "Spearman's r: 0.436845075856 p-value = 2.0711050338e-32\n",
      "\n",
      "Correlation results for BOW5 vs. human ratings\n",
      "Pearson's r: 0.385198706881 p-value = 5.53727669639e-25\n",
      "Spearman's r: 0.380136848321 p-value = 2.53128164026e-24\n",
      "\n",
      "Correlation results for Dependency vs. human ratings\n",
      "Pearson's r: 0.486374025199 p-value = 7.63784716341e-41\n",
      "Spearman's r: 0.474312754385 p-value = 1.16325344169e-38\n",
      "***Stats for SimLex verbs***\n",
      "Means and stds\n",
      "Bow2: 0.47704375411 0.126374574423\n",
      "Bow5: 0.427236731001 0.145337578464\n",
      "Deps: 0.549165850332 0.116518174254\n",
      "\n",
      "Normality tests\n",
      "Bow2 scores: 5.50068662517e-23\n",
      "Bow5 scores: 5.50068662517e-23\n",
      "Deps scores: 5.50068662517e-23\n",
      "\n",
      "Bow2 cosines: 0.0472681382188\n",
      "Bow5 cosines: 0.0398102929776\n",
      "Deps cosines: 0.102309467106\n",
      "\n",
      "T-test between Bow2 and Bow5\n",
      "0.000143463918669\n",
      "T-test between Bow2 and Dependency\n",
      "1.13538421502e-09\n",
      "T-test between Dependency and Bow2\n",
      "2.55107556061e-20\n",
      "\n",
      "T-test between Bow2 and human scores\n",
      "0.82639948104\n",
      "T-test between Bow5 and human scores\n",
      "0.0251701454816\n",
      "T-test between Dependency and human scores\n",
      "9.35595937518e-05\n",
      "\n",
      "Correlation results for BOW2 vs. human ratings\n",
      "Pearson's r: 0.360906817983 p-value = 3.35006588169e-08\n",
      "Spearman's r: 0.322356116445 p-value = 9.76448833573e-07\n",
      "\n",
      "Correlation results for BOW5 vs. human ratings\n",
      "Pearson's r: 0.300254760142 p-value = 5.53093695175e-06\n",
      "Spearman's r: 0.273830704265 p-value = 3.67756789722e-05\n",
      "\n",
      "Correlation results for Dependency vs. human ratings\n",
      "Pearson's r: 0.416133361965 p-value = 1.14898127131e-10\n",
      "Spearman's r: 0.384972420665 p-value = 3.21297674692e-09\n"
     ]
    }
   ],
   "source": [
    "#similarity results for adjectives, nouns, verbs separately\n",
    "\n",
    "word_pairs_adj = {}\n",
    "word_pairs_noun = {}\n",
    "word_pairs_verb = {}\n",
    "\n",
    "\n",
    "filename = 'SimLex-999/SimLex-999.txt'\n",
    "\n",
    "with open(filename) as f:\n",
    "    lines = f.readlines()\n",
    "    \n",
    "lines = lines[1:]\n",
    "for line in lines:\n",
    "    line = line.split()\n",
    "    word1 = line[0]\n",
    "    word2 = line[1]\n",
    "    score = line[3]\n",
    "    if line[2] == \"A\":\n",
    "        word_pairs_adj[(word1,word2)] = score\n",
    "    \n",
    "    if line[2] == \"N\":\n",
    "        word_pairs_noun[(word1,word2)] = score\n",
    "    if line[2] == \"V\":\n",
    "        word_pairs_verb[(word1,word2)] = score\n",
    "        \n",
    "keys_adj = list(word_pairs_adj.keys())\n",
    "keys_noun = list(word_pairs_noun.keys())\n",
    "keys_verb = list(word_pairs_verb.keys())\n",
    "\n",
    "\n",
    "\n",
    "norm_min = 0 #For SimLex\n",
    "norm_max = 10 #For SimLex\n",
    "\n",
    "scores_adj_2, cosines_adj_2 = get_scores_cosines(keys_adj, word_pairs_adj, vector2, norm_min, norm_max)\n",
    "scores_adj_5, cosines_adj_5 = get_scores_cosines(keys_adj, word_pairs_adj, vector5, norm_min, norm_max)\n",
    "scores_adj_deps, cosines_adj_deps = get_scores_cosines(keys_adj, word_pairs_adj, vector_deps, norm_min, norm_max)\n",
    "\n",
    "print('***Stats for SimLex adjectives***')\n",
    "get_stats(cosines_adj_2, scores_adj_2, cosines_adj_5, scores_adj_5, cosines_adj_deps, scores_adj_deps)\n",
    "\n",
    "\n",
    "scores_noun_2, cosines_noun_2 = get_scores_cosines(keys_noun, word_pairs_noun, vector2, norm_min, norm_max)\n",
    "scores_noun_5, cosines_noun_5 = get_scores_cosines(keys_noun, word_pairs_noun, vector5, norm_min, norm_max)\n",
    "scores_noun_deps, cosines_noun_deps = get_scores_cosines(keys_noun, word_pairs_noun, vector_deps, norm_min, norm_max)\n",
    "\n",
    "print('***Stats for SimLex nouns***')\n",
    "get_stats(cosines_noun_2, scores_noun_2, cosines_noun_5, scores_noun_5, cosines_noun_deps, scores_noun_deps)\n",
    "\n",
    "\n",
    "scores_verb_2, cosines_verb_2 = get_scores_cosines(keys_verb, word_pairs_verb, vector2, norm_min, norm_max)\n",
    "scores_verb_5, cosines_verb_5 = get_scores_cosines(keys_verb, word_pairs_verb, vector5, norm_min, norm_max)\n",
    "scores_verb_deps, cosines_verb_deps = get_scores_cosines(keys_verb, word_pairs_verb, vector_deps, norm_min, norm_max)\n",
    "\n",
    "print('***Stats for SimLex verbs***')\n",
    "get_stats(cosines_verb_2, scores_verb_2, cosines_verb_5, scores_verb_5, cosines_verb_deps, scores_verb_deps)\n",
    "\n",
    "\n"
   ]
  },
  {
   "cell_type": "markdown",
   "metadata": {},
   "source": [
    "Some subsets are normally-distributed; however, their counterparts may not be. Thus, we do not explain the t-tests.\n",
    "\n",
    "The trend that we observe here is that:\n",
    "\n",
    "**Adjectives**: BoW2 > Dependency > BoW5\n",
    "\n",
    "**Nouns**:  Dependency > BoW2 > BoW5\n",
    "\n",
    "**Verbs**: Dependency > BoW2 > BoW5"
   ]
  },
  {
   "cell_type": "markdown",
   "metadata": {},
   "source": [
    "## Word Analogy Task\n",
    "\n",
    "In this part, we obtain the analogy pairs from Google Analogy set. "
   ]
  },
  {
   "cell_type": "code",
   "execution_count": 46,
   "metadata": {},
   "outputs": [
    {
     "name": "stdout",
     "output_type": "stream",
     "text": [
      ": capital-common-countries\n",
      "\n",
      ": capital-world\n",
      "\n",
      ": currency\n",
      "\n",
      ": city-in-state\n",
      "\n",
      ": family\n",
      "\n",
      ": gram1-adjective-to-adverb\n",
      "\n",
      ": gram2-opposite\n",
      "\n",
      ": gram3-comparative\n",
      "\n",
      ": gram4-superlative\n",
      "\n",
      ": gram5-present-participle\n",
      "\n",
      ": gram6-nationality-adjective\n",
      "\n",
      ": gram7-past-tense\n",
      "\n",
      ": gram8-plural\n",
      "\n",
      ": gram9-plural-verbs\n",
      "\n"
     ]
    }
   ],
   "source": [
    "analogy_file = 'questions-words.txt'\n",
    "\n",
    "#read the files\n",
    "with open(analogy_file) as f:\n",
    "    analogies = f.readlines()\n",
    "    \n",
    "for a in analogies:\n",
    "    if ':' in a:\n",
    "        print(a)"
   ]
  },
  {
   "cell_type": "markdown",
   "metadata": {},
   "source": [
    "There are 14 subsets; yet, we were able to use 12 of them. We read all the subsets into lists separately"
   ]
  },
  {
   "cell_type": "code",
   "execution_count": 48,
   "metadata": {},
   "outputs": [],
   "source": [
    "# all types of analogies\n",
    "all_analogy_pairs = []\n",
    "\n",
    "#they are also stored separately\n",
    "capital_common_countries = []\n",
    "capital_world = []\n",
    "currency = []\n",
    "city_in_state = []\n",
    "family = []\n",
    "gram1_adjective_to_adverb = []\n",
    "gram2_opposite = []\n",
    "gram3_comparative = []\n",
    "gram4_superlative = []\n",
    "gram5_present_participle = []\n",
    "gram6_nationality_adjective = []\n",
    "gram7_past_tense = []\n",
    "gram8_plural = []\n",
    "gram9_plural_verbs = []\n",
    "\n",
    "#while reading into the arrays, keep the current array\n",
    "current = []\n",
    "\n",
    "for i in range(len(analogies)):\n",
    "    #one line -> question-answer pair\n",
    "    a = analogies[i]\n",
    "    \n",
    "    if ': capital-common-countries' in a:\n",
    "        continue\n",
    "    elif ': capital-world' in a:\n",
    "\n",
    "        #store current array\n",
    "        capital_common_countries = current\n",
    "\n",
    "        #reset current\n",
    "        current = []  \n",
    "        continue\n",
    "    elif ': currency' in a:\n",
    "\n",
    "        #store current array\n",
    "        capital_world = current\n",
    "\n",
    "        #reset current\n",
    "        current = []  \n",
    "        continue\n",
    "    elif ': city-in-state' in a:\n",
    "\n",
    "        #store current array\n",
    "        currency = current\n",
    "\n",
    "        #reset current\n",
    "        current = []  \n",
    "        continue\n",
    "\n",
    "    elif ': family' in a:\n",
    "\n",
    "        #store current array\n",
    "        city_in_state = current\n",
    "\n",
    "        #reset current\n",
    "        current = [] \n",
    "        continue\n",
    "\n",
    "    elif ': gram1-adjective-to-adverb' in a:\n",
    "\n",
    "        #store current array\n",
    "        family = current\n",
    "\n",
    "        #reset current\n",
    "        current = [] \n",
    "        continue\n",
    "    elif ': gram2-opposite' in a:\n",
    "\n",
    "        #store current array\n",
    "        gram1_adjective_to_adverb = current\n",
    "\n",
    "        #reset current\n",
    "        current = [] \n",
    "        continue\n",
    "    elif ': gram3-comparative'in a:\n",
    "\n",
    "        #store current array\n",
    "        gram2_opposite = current\n",
    "\n",
    "        #reset current\n",
    "        current = [] \n",
    "        continue\n",
    "    elif ': gram4-superlative' in a:\n",
    "\n",
    "        #store current array\n",
    "        gram3_comparative = current\n",
    "\n",
    "        #reset current\n",
    "        current = [] \n",
    "        continue\n",
    "    elif ': gram5-present-participle' in a:\n",
    "\n",
    "        #store current array\n",
    "        gram4_superlative = current\n",
    "\n",
    "        #reset current\n",
    "        current = [] \n",
    "        continue\n",
    "    elif ': gram6-nationality-adjective' in a:\n",
    "\n",
    "        #store current array\n",
    "        gram5_present_participle = current\n",
    "\n",
    "        #reset current\n",
    "        current = [] \n",
    "        continue\n",
    "    elif ': gram7-past-tense' in a:\n",
    "\n",
    "        #store current array\n",
    "        gram6_nationality_adjective = current\n",
    "\n",
    "        #reset current\n",
    "        current = [] \n",
    "        continue\n",
    "    elif ': gram8-plural' in a:\n",
    "\n",
    "        #store current array\n",
    "        gram7_past_tense = current\n",
    "\n",
    "        #reset current\n",
    "        current = [] \n",
    "        continue\n",
    "    elif ': gram9-plural-verbs' in a:\n",
    "\n",
    "        #store current array\n",
    "        gram8_plural = current\n",
    "\n",
    "        #reset current\n",
    "        current = [] \n",
    "        continue\n",
    "    current.append(a)\n",
    "    \n",
    "    if i == len(analogies)-1:\n",
    "        #last item in the file\n",
    "        gram9_plural_verbs = current\n",
    "        \n"
   ]
  },
  {
   "cell_type": "code",
   "execution_count": 50,
   "metadata": {},
   "outputs": [],
   "source": [
    "all_analogy_pairs = capital_common_countries + capital_world + currency \\\n",
    "+ city_in_state + family + gram1_adjective_to_adverb + gram2_opposite \\\n",
    "+ gram3_comparative + gram4_superlative + gram5_present_participle \\\n",
    "+ gram6_nationality_adjective + gram7_past_tense + gram8_plural + gram9_plural_verbs"
   ]
  },
  {
   "cell_type": "markdown",
   "metadata": {},
   "source": [
    "**Procedure for finding answers to analogy questions:**\n",
    "\n",
    "The function below is the main process for the analogy task. We first get the embeddings of one type (BoW2, BoW5, dependency). Then, we get the question words from the file. For each question a:a* = b:b*, we get the 4 words, convert them to lowercase. Then, we calculate the offset as the subtraction a* - a. We normalize this offset and add to b. We obtain an estimated vector for the answer, which we normalize again. At this stage, we go over the whole dictionary of embeddings to find the closest vector to the estimated vector. We calculate the cosine similarities and rank the dictionary in descending order by similarity. Then, we check the first word and the ranking of the correct answer (both keeping the question words in the ranking and also omitting them)."
   ]
  },
  {
   "cell_type": "code",
   "execution_count": null,
   "metadata": {
    "collapsed": true
   },
   "outputs": [],
   "source": [
    "def get_analogy_accuracy_MRR(file_name, vectors, analogy_pairs):\n",
    "    \n",
    "    #accuracy and MRR if we keep the question words in the ranking\n",
    "    accuracy = 0.0\n",
    "    MRR = 0.0\n",
    "    \n",
    "    #accuracy and MRR if we remove the question words from the ranking\n",
    "    accuracy_omit = 0.0\n",
    "    MRR_omit = 0.0\n",
    "\n",
    "    file = open(file_name, 'w')\n",
    "\n",
    "    for ap in analogy_pairs:\n",
    "        \n",
    "        #for each question pair\n",
    "        #question pair 1, question pair 2, answer pair 1, answer pair 2\n",
    "        [qs1, qs2, a1, a2] = ap.split()\n",
    "\n",
    "        #print(qs1, qs2, a1, a2)\n",
    "        #convert to lowercase\n",
    "        qs1 = qs1.lower()\n",
    "        qs2 = qs2.lower()\n",
    "        a1 = a1.lower()\n",
    "        a2 = a2.lower()\n",
    "\n",
    "        if qs1 in vectors and qs2 in vectors and a1 in vectors and a2 in vectors:\n",
    "            header = '*' + qs1 + ' ' + qs2 + ' ' +  a1 + ' ' +  a2\n",
    "            file.write(header)\n",
    "            file.write('\\n')\n",
    "            # a:a* = b:b*\n",
    "\n",
    "            # offset = a* - a\n",
    "            offset = np.asarray(vectors[qs2]) - np.asarray(vectors[qs1])\n",
    "\n",
    "            #normalize vector\n",
    "            offset = offset/np.linalg.norm(offset)\n",
    "\n",
    "            # approx b* = b + offset\n",
    "            approx = np.asarray(vectors[a1]) + offset\n",
    "            approx = approx/np.linalg.norm(approx)\n",
    "\n",
    "            score_ranks = dict()\n",
    "\n",
    "            for key in vectors.keys():\n",
    "                word_embed = vectors[key]\n",
    "\n",
    "                cosine_similarity = 1 - spatial.distance.cosine(approx, word_embed)\n",
    "\n",
    "                score_ranks[key] = cosine_similarity\n",
    "\n",
    "            #sort dictionary in descending order with respect to cosine similarity\n",
    "            sorted_d = sorted(score_ranks.items(), key=lambda x: x[1], reverse=True)\n",
    "\n",
    "            #closest 5\n",
    "            for i in range(5):\n",
    "                sorted_res = sorted_d[i][0] + ' ' + str(sorted_d[i][1])\n",
    "                file.write(sorted_res)\n",
    "                file.write('\\n')\n",
    "            rank_of_correct = -1\n",
    "\n",
    "            #correct answer in the first rank\n",
    "            if sorted_d[0][0] == a2:\n",
    "                accuracy = accuracy + 1\n",
    "                accuracy_omit = accuracy_omit + 1\n",
    "                \n",
    "                file.write('1') #all words\n",
    "                file.write('\\n')\n",
    "                file.write('1') #question words omitted\n",
    "                MRR = MRR + 1\n",
    "                MRR_omit = MRR_omit + 1\n",
    "                \n",
    "            else:\n",
    "                #find the rank of the correct answer\n",
    "                count = 0\n",
    "                for i in range(len(sorted_d)):\n",
    "                    \n",
    "                    if (sorted_d[i][0] == qs1):\n",
    "                        count = count + 1\n",
    "                    elif (sorted_d[i][0] == qs2):\n",
    "                        count = count + 1\n",
    "                    elif (sorted_d[i][0] == a1):\n",
    "                        count = count + 1\n",
    "                    \n",
    "                    if(sorted_d[i][0] == a2):\n",
    "                        MRR = MRR + (1/(i+1))\n",
    "                        file.write(str(i+1)) #all words\n",
    "                        file.write('\\n')\n",
    "                        file.write(str(i+1-count))#question words omitted\n",
    "                        if i+1-count == 1:\n",
    "                            accuracy_omit = accuracy_omit + 1 #correct answer when question words omitted\n",
    "                            MRR_omit = MRR_omit + 1\n",
    "                        else:\n",
    "                            MRR_omit = MRR_omit + 1/(i+1-count)\n",
    "                        \n",
    "                        break\n",
    "                        \n",
    "                \n",
    "\n",
    "            file.write('\\n')\n",
    "            file.write('\\n')\n",
    "        \n",
    "    file.close()\n",
    "    \n",
    "    return accuracy, MRR, accuracy_omit, MRR_omit\n"
   ]
  },
  {
   "cell_type": "markdown",
   "metadata": {},
   "source": [
    "In the following couple of cells, we calculate the **accuracy and MRR sums**, which we later **divided by the length of the subset lists**. The actual values and the formulas we utilized are listed in the report as an **Appendix**. This part took a long time for us (2000 pairs for one of the embedding types ~3 hours). Therefore, we obtained the results separately. We put the files in the GitHub repository. The files include the question words, closest 5 words without omitting the question words, overall ranking of the correct answer, ranking of the correct answer when we remove the question words."
   ]
  },
  {
   "cell_type": "code",
   "execution_count": 62,
   "metadata": {},
   "outputs": [
    {
     "name": "stdout",
     "output_type": "stream",
     "text": [
      "bow2, gram3\n",
      "334.0 795.8026570691794 1190.0 1248.342314948962\n"
     ]
    }
   ],
   "source": [
    "print('bow2, gram3')\n",
    "acc, MRR, accuracy_omit, MRR_omit = get_analogy_accuracy_MRR('vector2_gram3_analogy.txt', vector2, gram3_comparative) #returns just the sum\n",
    "print(acc, MRR, accuracy_omit, MRR_omit)"
   ]
  },
  {
   "cell_type": "code",
   "execution_count": null,
   "metadata": {
    "collapsed": true
   },
   "outputs": [],
   "source": [
    "print('bow2, gram4')\n",
    "acc, MRR, accuracy_omit, MRR_omit = get_analogy_accuracy_MRR('vector2_gram4_analogy.txt', vector2, gram4_superlative) #returns just the sum\n",
    "print(acc, MRR, accuracy_omit, MRR_omit )\n",
    "\n",
    "print('bow2, gram5')\n",
    "acc, MRR, accuracy_omit, MRR_omit = get_analogy_accuracy_MRR('vector2_gram5_analogy.txt', vector2, gram5_present_participle) #returns just the sum\n",
    "print(acc, MRR, accuracy_omit, MRR_omit )\n",
    "\n",
    "print('bow2, gram6')\n",
    "acc, MRR, accuracy_omit, MRR_omit  = get_analogy_accuracy_MRR('vector2_gram6_analogy.txt', vector2, gram6_nationality_adjective) #returns just the sum\n",
    "print(acc, MRR, accuracy_omit, MRR_omit )"
   ]
  },
  {
   "cell_type": "code",
   "execution_count": 19,
   "metadata": {},
   "outputs": [
    {
     "name": "stdout",
     "output_type": "stream",
     "text": [
      "bow2, gram7\n",
      "57.0 550.4777891869769 873.0 1030.7275568170394\n",
      "bow2, gram8\n",
      "62.0 548.8735782514889 962.0 1039.882287976904\n",
      "bow2, gram9\n",
      "195.0 475.5675211208835 707.0 752.7789159672095\n"
     ]
    }
   ],
   "source": [
    "print('bow2, gram7')\n",
    "acc, MRR, accuracy_omit, MRR_omit  = get_analogy_accuracy_MRR('vector2_gram7_analogy.txt', vector2, gram7_past_tense) #returns just the sum\n",
    "print(acc, MRR, accuracy_omit, MRR_omit )\n",
    "\n",
    "print('bow2, gram8')\n",
    "acc, MRR, accuracy_omit, MRR_omit  = get_analogy_accuracy_MRR('vector2_gram8_analogy.txt', vector2, gram8_plural) #returns just the sum\n",
    "print(acc, MRR, accuracy_omit, MRR_omit )\n",
    "\n",
    "print('bow2, gram9')\n",
    "acc, MRR, accuracy_omit, MRR_omit  = get_analogy_accuracy_MRR('vector2_gram9_analogy.txt', vector2, gram9_plural_verbs) #returns just the sum\n",
    "print(acc, MRR, accuracy_omit, MRR_omit )\n",
    "\n",
    "# MRR = MRR / len(all_analogy_pairs)\n",
    "# accuracy = accuracy / len(all_analogy_pairs)"
   ]
  },
  {
   "cell_type": "code",
   "execution_count": 20,
   "metadata": {},
   "outputs": [
    {
     "name": "stdout",
     "output_type": "stream",
     "text": [
      "bow5, gram3\n",
      "353.0 778.2240838913727 1109.0 1188.7007216292038\n",
      "bow5, gram4\n",
      "22.0 374.1301716109278 591.0 728.2471678596495\n",
      "bow5, gram5\n",
      "85.0 469.38113438479235 734.0 835.8424117158804\n",
      "bow5, gram6\n",
      "1081.0 1254.3311307274807 1317.0 1384.4179863554455\n",
      "bow5, gram7\n",
      "65.0 579.339317203351 868.0 1047.3449668095632\n",
      "bow5, gram8\n",
      "102.0 560.8954244705972 886.0 994.6656001527431\n",
      "bow5, gram9\n",
      "175.0 462.20226622887236 660.0 727.9221725030171\n"
     ]
    }
   ],
   "source": [
    "print('bow5, gram3')\n",
    "acc, MRR, accuracy_omit, MRR_omit = get_analogy_accuracy_MRR('vector5_gram3_analogy.txt', vector5, gram3_comparative) #returns just the sum\n",
    "print(acc, MRR, accuracy_omit, MRR_omit)\n",
    "\n",
    "print('bow5, gram4')\n",
    "acc, MRR, accuracy_omit, MRR_omit = get_analogy_accuracy_MRR('vector5_gram4_analogy.txt', vector5, gram4_superlative) #returns just the sum\n",
    "print(acc, MRR, accuracy_omit, MRR_omit )\n",
    "\n",
    "print('bow5, gram5')\n",
    "acc, MRR, accuracy_omit, MRR_omit = get_analogy_accuracy_MRR('vector5_gram5_analogy.txt', vector5, gram5_present_participle) #returns just the sum\n",
    "print(acc, MRR, accuracy_omit, MRR_omit )\n",
    "\n",
    "print('bow5, gram6')\n",
    "acc, MRR, accuracy_omit, MRR_omit  = get_analogy_accuracy_MRR('vector5_gram6_analogy.txt', vector5, gram6_nationality_adjective) #returns just the sum\n",
    "print(acc, MRR, accuracy_omit, MRR_omit )\n",
    "\n",
    "print('bow5, gram7')\n",
    "acc, MRR, accuracy_omit, MRR_omit  = get_analogy_accuracy_MRR('vector5_gram7_analogy.txt', vector5, gram7_past_tense) #returns just the sum\n",
    "print(acc, MRR, accuracy_omit, MRR_omit )\n",
    "\n",
    "print('bow5, gram8')\n",
    "acc, MRR, accuracy_omit, MRR_omit  = get_analogy_accuracy_MRR('vector5_gram8_analogy.txt', vector5, gram8_plural) #returns just the sum\n",
    "print(acc, MRR, accuracy_omit, MRR_omit )\n",
    "\n",
    "print('bow5, gram9')\n",
    "acc, MRR, accuracy_omit, MRR_omit  = get_analogy_accuracy_MRR('vector5_gram9_analogy.txt', vector5, gram9_plural_verbs) #returns just the sum\n",
    "print(acc, MRR, accuracy_omit, MRR_omit )\n",
    "\n",
    "# MRR = MRR / len(all_analogy_pairs)\n",
    "# accuracy = accuracy / len(all_analogy_pairs)\n"
   ]
  },
  {
   "cell_type": "code",
   "execution_count": 21,
   "metadata": {},
   "outputs": [
    {
     "name": "stdout",
     "output_type": "stream",
     "text": [
      "deps, gram3\n",
      "256.0 685.6668484779887 1069.0 1139.9184449807553\n",
      "deps, gram4\n",
      "77.0 355.5526149856181 572.0 659.5176870558452\n",
      "deps, gram5\n",
      "146.0 461.8999625207582 660.0 754.0437917178315\n",
      "deps, gram6\n",
      "9.0 225.74263402997013 212.0 374.8033556264193\n",
      "deps, gram7\n",
      "282.0 692.9835686744567 975.0 1086.9980003784908\n",
      "deps, gram8\n",
      "169.0 564.1231094336666 845.0 935.233196422589\n",
      "deps, gram9\n",
      "399.0 611.4879826755688 779.0 810.8552995697944\n"
     ]
    }
   ],
   "source": [
    "print('deps, gram3')\n",
    "acc, MRR, accuracy_omit, MRR_omit = get_analogy_accuracy_MRR('vector_deps_gram3_analogy.txt', vector_deps, gram3_comparative) #returns just the sum\n",
    "print(acc, MRR, accuracy_omit, MRR_omit)\n",
    "\n",
    "print('deps, gram4')\n",
    "acc, MRR, accuracy_omit, MRR_omit = get_analogy_accuracy_MRR('vector_deps_gram4_analogy.txt', vector_deps, gram4_superlative) #returns just the sum\n",
    "print(acc, MRR, accuracy_omit, MRR_omit )\n",
    "\n",
    "print('deps, gram5')\n",
    "acc, MRR, accuracy_omit, MRR_omit = get_analogy_accuracy_MRR('vector_deps_gram5_analogy.txt', vector_deps, gram5_present_participle) #returns just the sum\n",
    "print(acc, MRR, accuracy_omit, MRR_omit )\n",
    "\n",
    "print('deps, gram6')\n",
    "acc, MRR, accuracy_omit, MRR_omit  = get_analogy_accuracy_MRR('vector_deps_gram6_analogy.txt', vector_deps, gram6_nationality_adjective) #returns just the sum\n",
    "print(acc, MRR, accuracy_omit, MRR_omit )\n",
    "\n",
    "print('deps, gram7')\n",
    "acc, MRR, accuracy_omit, MRR_omit  = get_analogy_accuracy_MRR('vector_deps_gram7_analogy.txt', vector_deps, gram7_past_tense) #returns just the sum\n",
    "print(acc, MRR, accuracy_omit, MRR_omit )\n",
    "\n",
    "print('deps, gram8')\n",
    "acc, MRR, accuracy_omit, MRR_omit  = get_analogy_accuracy_MRR('vector_deps_gram8_analogy.txt', vector_deps, gram8_plural) #returns just the sum\n",
    "print(acc, MRR, accuracy_omit, MRR_omit )\n",
    "\n",
    "print('deps, gram9')\n",
    "acc, MRR, accuracy_omit, MRR_omit  = get_analogy_accuracy_MRR('vector_deps_gram9_analogy.txt', vector_deps, gram9_plural_verbs) #returns just the sum\n",
    "print(acc, MRR, accuracy_omit, MRR_omit )\n",
    "\n",
    "# MRR = MRR / len(all_analogy_pairs)\n",
    "# accuracy = accuracy / len(all_analogy_pairs)\n"
   ]
  },
  {
   "cell_type": "code",
   "execution_count": null,
   "metadata": {},
   "outputs": [],
   "source": [
    "print('vector2, capital world')\n",
    "acc, MRR, accuracy_omit, MRR_omit  = get_analogy_accuracy_MRR('vector_2_capital_world_analogy.txt', vector2, capital_world) #returns just the sum\n",
    "print(acc, MRR, accuracy_omit, MRR_omit )\n",
    "\n",
    "print('vector5, capital world')\n",
    "acc, MRR, accuracy_omit, MRR_omit  = get_analogy_accuracy_MRR('vector_5_capital_world_analogy.txt', vector5, capital_world) #returns just the sum\n",
    "print(acc, MRR, accuracy_omit, MRR_omit )\n",
    "\n",
    "print('deps, capital world')\n",
    "acc, MRR, accuracy_omit, MRR_omit  = get_analogy_accuracy_MRR('vector_deps_capital_world_analogy.txt', vector_deps, capital_world) #returns just the sum\n",
    "print(acc, MRR, accuracy_omit, MRR_omit )"
   ]
  },
  {
   "cell_type": "markdown",
   "metadata": {},
   "source": [
    "## Clustering Word Vectors"
   ]
  },
  {
   "cell_type": "code",
   "execution_count": 58,
   "metadata": {
    "collapsed": true
   },
   "outputs": [],
   "source": [
    "from sklearn.decomposition import PCA\n",
    "from sklearn.cluster import KMeans\n",
    "import matplotlib.pyplot as plt\n",
    "from mpl_toolkits.mplot3d import Axes3D"
   ]
  },
  {
   "cell_type": "code",
   "execution_count": 59,
   "metadata": {},
   "outputs": [
    {
     "name": "stdout",
     "output_type": "stream",
     "text": [
      "1998\n",
      "['dollar', 'formula', 'pound', 'quote', 'ability', 'absence', 'abuse', 'acceptance', 'access', 'accident']\n"
     ]
    }
   ],
   "source": [
    "#read 2000 frequent nouns\n",
    "freq_file = '2000_nouns_sorted.txt'\n",
    "\n",
    "#read the files\n",
    "with open(freq_file) as f:\n",
    "    freq_nouns = [line.strip() for line in f]\n",
    "\n",
    "#remove 'fig.' because it is not a key in the embedding lists\n",
    "if 'fig.' in freq_nouns:\n",
    "    freq_nouns.remove('fig.')\n",
    "\n",
    "print(len(freq_nouns))\n",
    "print(freq_nouns[:10])"
   ]
  },
  {
   "cell_type": "markdown",
   "metadata": {},
   "source": [
    "We removed 'fig.' because it did not have a corresponding embedding in the vectors. In addition, we noticed that there are in fact 1999 words in the set, rather than 2000. We also noticed that they are not alphabetically ordered."
   ]
  },
  {
   "cell_type": "code",
   "execution_count": 60,
   "metadata": {},
   "outputs": [],
   "source": [
    "#keep the vectors of most frequent words\n",
    "freq_vectors_2 = []\n",
    "freq_vectors_5 = []\n",
    "freq_vectors_deps = []\n",
    "\n",
    "for i in range(len(freq_nouns)):\n",
    "    word = freq_nouns[i]    \n",
    "    #get vectors\n",
    "    freq_vectors_2.append(vector2[word])\n",
    "    freq_vectors_5.append(vector5[word])\n",
    "    freq_vectors_deps.append(vector_deps[word])\n"
   ]
  },
  {
   "cell_type": "markdown",
   "metadata": {},
   "source": [
    "The function below returns the vectors transformed through PCA given a number of dimensions. It also provides the results for the PCA procedure."
   ]
  },
  {
   "cell_type": "code",
   "execution_count": 61,
   "metadata": {
    "collapsed": true
   },
   "outputs": [],
   "source": [
    "def get_transformed_PCA(vectors, dims):\n",
    "    \n",
    "    pca = PCA(n_components= dims)\n",
    "    pca_result = pca.fit(vectors)\n",
    "    reduced_vectors = pca.transform(vectors)\n",
    "    reduced_vectors = np.asarray(reduced_vectors)\n",
    "    \n",
    "    return reduced_vectors, pca_result"
   ]
  },
  {
   "cell_type": "markdown",
   "metadata": {},
   "source": [
    "Below, we reduce the vector dimensions from 3000 to 2 or 3. "
   ]
  },
  {
   "cell_type": "code",
   "execution_count": 68,
   "metadata": {},
   "outputs": [
    {
     "name": "stdout",
     "output_type": "stream",
     "text": [
      "PCA to 2 dimensions\n",
      "\n",
      "Bow2\n",
      "Dim 1 - Explained variance: 0.026315019779\n",
      "Dim 1 - Explained variance ratio: 0.0316112713852\n",
      "Dim 2 - Explained variance: 0.0222873251121\n",
      "Dim 2 - Explained variance ratio: 0.0267729490034\n",
      "\n",
      "Bow5\n",
      "Dim 1 - Explained variance: 0.0360711225071\n",
      "Dim 1 - Explained variance ratio: 0.040241220254\n",
      "Dim 2 - Explained variance: 0.0296041430071\n",
      "Dim 2 - Explained variance ratio: 0.0330266084441\n",
      "\n",
      "Dependency\n",
      "Dim 1 - Explained variance: 0.0265275300924\n",
      "Dim 1 - Explained variance ratio: 0.0354738840077\n",
      "Dim 2 - Explained variance: 0.0239070679307\n",
      "Dim 2 - Explained variance ratio: 0.0319696764752\n",
      "\n",
      "\n",
      "PCA to 3 dimensions\n",
      "\n",
      "Bow2\n",
      "Dim 1 - Explained variance: 0.0263150199819\n",
      "Dim 1 - Explained variance ratio: 0.0316112716289\n",
      "Dim 2 - Explained variance: 0.0222873257666\n",
      "Dim 2 - Explained variance ratio: 0.0267729497897\n",
      "Dim 3 - Explained variance: 0.0178805885968\n",
      "Dim 3 - Explained variance ratio: 0.0214792975041\n",
      "\n",
      "Bow5\n",
      "Dim 1 - Explained variance: 0.0360711223541\n",
      "Dim 1 - Explained variance ratio: 0.0402412200833\n",
      "Dim 2 - Explained variance: 0.0296041434787\n",
      "Dim 2 - Explained variance ratio: 0.0330266089702\n",
      "Dim 3 - Explained variance: 0.0239920039385\n",
      "Dim 3 - Explained variance ratio: 0.0267656631599\n",
      "\n",
      "Dependency\n",
      "Dim 1 - Explained variance: 0.0265275298706\n",
      "Dim 1 - Explained variance ratio: 0.0354738837111\n",
      "Dim 2 - Explained variance: 0.0239070754199\n",
      "Dim 2 - Explained variance ratio: 0.0319696864901\n",
      "Dim 3 - Explained variance: 0.0167304160537\n",
      "Dim 3 - Explained variance ratio: 0.0223727137968\n",
      "\n"
     ]
    }
   ],
   "source": [
    "dimensions = 2\n",
    "\n",
    "print('PCA to 2 dimensions')\n",
    "print()\n",
    "\n",
    "reduced2_vectors_2, pca2_2 = get_transformed_PCA(freq_vectors_2, dimensions)\n",
    "reduced2_vectors_5, pca2_5 = get_transformed_PCA(freq_vectors_5, dimensions)\n",
    "reduced2_vectors_deps, pca2_deps = get_transformed_PCA(freq_vectors_deps, dimensions)\n",
    "\n",
    "print('Bow2')\n",
    "\n",
    "print('Dim 1 - Explained variance:', pca2_2.explained_variance_[0])\n",
    "print('Dim 1 - Explained variance ratio:', pca2_2.explained_variance_ratio_[0])\n",
    "\n",
    "print('Dim 2 - Explained variance:', pca2_2.explained_variance_[1])\n",
    "print('Dim 2 - Explained variance ratio:', pca2_2.explained_variance_ratio_[1])\n",
    "\n",
    "print()\n",
    "\n",
    "print('Bow5')\n",
    "\n",
    "print('Dim 1 - Explained variance:', pca2_5.explained_variance_[0])\n",
    "print('Dim 1 - Explained variance ratio:', pca2_5.explained_variance_ratio_[0])\n",
    "\n",
    "print('Dim 2 - Explained variance:', pca2_5.explained_variance_[1])\n",
    "print('Dim 2 - Explained variance ratio:', pca2_5.explained_variance_ratio_[1])\n",
    "\n",
    "print()\n",
    "\n",
    "print('Dependency')\n",
    "\n",
    "print('Dim 1 - Explained variance:', pca2_deps.explained_variance_[0])\n",
    "print('Dim 1 - Explained variance ratio:', pca2_deps.explained_variance_ratio_[0])\n",
    "\n",
    "print('Dim 2 - Explained variance:', pca2_deps.explained_variance_[1])\n",
    "print('Dim 2 - Explained variance ratio:', pca2_deps.explained_variance_ratio_[1])\n",
    "\n",
    "print()\n",
    "print()\n",
    "\n",
    "dimensions = 3\n",
    "\n",
    "\n",
    "print('PCA to 3 dimensions')\n",
    "print()\n",
    "\n",
    "reduced3_vectors_2, pca3_2 = get_transformed_PCA(freq_vectors_2, dimensions)\n",
    "reduced3_vectors_5, pca3_5 = get_transformed_PCA(freq_vectors_5, dimensions)\n",
    "reduced3_vectors_deps, pca3_deps = get_transformed_PCA(freq_vectors_deps, dimensions)\n",
    "\n",
    "print('Bow2')\n",
    "\n",
    "print('Dim 1 - Explained variance:', pca3_2.explained_variance_[0])\n",
    "print('Dim 1 - Explained variance ratio:', pca3_2.explained_variance_ratio_[0])\n",
    "\n",
    "print('Dim 2 - Explained variance:', pca3_2.explained_variance_[1])\n",
    "print('Dim 2 - Explained variance ratio:', pca3_2.explained_variance_ratio_[1])\n",
    "\n",
    "print('Dim 3 - Explained variance:', pca3_2.explained_variance_[2])\n",
    "print('Dim 3 - Explained variance ratio:', pca3_2.explained_variance_ratio_[2])\n",
    "\n",
    "print()\n",
    "\n",
    "print('Bow5')\n",
    "\n",
    "print('Dim 1 - Explained variance:', pca3_5.explained_variance_[0])\n",
    "print('Dim 1 - Explained variance ratio:', pca3_5.explained_variance_ratio_[0])\n",
    "\n",
    "print('Dim 2 - Explained variance:', pca3_5.explained_variance_[1])\n",
    "print('Dim 2 - Explained variance ratio:', pca3_5.explained_variance_ratio_[1])\n",
    "\n",
    "print('Dim 3 - Explained variance:', pca3_5.explained_variance_[2])\n",
    "print('Dim 3 - Explained variance ratio:', pca3_5.explained_variance_ratio_[2])\n",
    "\n",
    "print()\n",
    "\n",
    "print('Dependency')\n",
    "\n",
    "print('Dim 1 - Explained variance:', pca3_deps.explained_variance_[0])\n",
    "print('Dim 1 - Explained variance ratio:', pca3_deps.explained_variance_ratio_[0])\n",
    "\n",
    "print('Dim 2 - Explained variance:', pca3_deps.explained_variance_[1])\n",
    "print('Dim 2 - Explained variance ratio:', pca3_deps.explained_variance_ratio_[1])\n",
    "\n",
    "print('Dim 3 - Explained variance:', pca3_deps.explained_variance_[2])\n",
    "print('Dim 3 - Explained variance ratio:', pca3_deps.explained_variance_ratio_[2])\n",
    "\n",
    "print()\n"
   ]
  },
  {
   "cell_type": "markdown",
   "metadata": {},
   "source": [
    "We used the function below for clustering via applying k-means."
   ]
  },
  {
   "cell_type": "code",
   "execution_count": 14,
   "metadata": {
    "collapsed": true
   },
   "outputs": [],
   "source": [
    "def clustering(vectors, no_clusters):\n",
    "        \n",
    "    kmeans_model = KMeans(n_clusters=no_clusters, random_state=0) \n",
    "    kmeans_fit = kmeans_model.fit(vectors)\n",
    "    predictions = kmeans_fit.predict(vectors)    \n",
    "    return kmeans_fit, predictions"
   ]
  },
  {
   "cell_type": "code",
   "execution_count": 15,
   "metadata": {
    "collapsed": true
   },
   "outputs": [],
   "source": [
    "def visualize_clusters(reduced_vectors, freq_nouns, dims, annotate, predictions):\n",
    "\n",
    "    #2D visualization\n",
    "    if dims == 2:\n",
    "        fig, ax = plt.subplots()\n",
    "        \n",
    "        for i in range(len(freq_nouns)):\n",
    "            x = reduced_vectors[i,0]\n",
    "            y = reduced_vectors[i,1]\n",
    "\n",
    "            txt = freq_nouns[i]\n",
    "            if annotate:\n",
    "                ax.annotate(txt, (x, y))\n",
    "\n",
    "            # TODO FOR MORE THAN 2 CLUSTERS???\n",
    "            if predictions[i] == 0:\n",
    "                ax.scatter(x, y, c = 'blue')\n",
    "            else:\n",
    "                ax.scatter(x, y, c = 'orange')\n",
    "\n",
    "        ax.set_xlabel('PC1')\n",
    "        ax.set_ylabel('PC2')\n",
    "        plt.show()\n",
    "    #3D visualization  \n",
    "    elif dims == 3:\n",
    "        \n",
    "        fig = plt.figure()\n",
    "        ax = fig.add_subplot(111, projection='3d')\n",
    "\n",
    "        for i in range(len(freq_nouns)):\n",
    "            x = reduced_vectors[i,0]\n",
    "            y = reduced_vectors[i,1]\n",
    "            z = reduced_vectors[i,2]\n",
    "            txt = freq_nouns[i]\n",
    "            if annotate:\n",
    "                ax.annotate(txt, (x, y))\n",
    "\n",
    "            # TODO FOR MORE THAN 2 CLUSTERS???\n",
    "            if predictions[i] == 0:\n",
    "                ax.scatter(x, y, z, c = 'blue')\n",
    "            else:\n",
    "                ax.scatter(x, y, z, c = 'orange')\n",
    "\n",
    "        ax.set_xlabel('PC1')\n",
    "        ax.set_ylabel('PC2')\n",
    "        ax.set_zlabel('PC3')\n",
    "        plt.show()\n",
    "        \n",
    "    "
   ]
  },
  {
   "cell_type": "code",
   "execution_count": 23,
   "metadata": {
    "collapsed": true
   },
   "outputs": [],
   "source": [
    "kmeans_fit_2, predictions_2 = clustering(freq_vectors_2, no_clusters)\n",
    "kmeans_fit_5, predictions_5 = clustering(freq_vectors_5, no_clusters)\n",
    "kmeans_fit_deps, predictions_deps = clustering(freq_vectors_deps, no_clusters)"
   ]
  },
  {
   "cell_type": "code",
   "execution_count": 84,
   "metadata": {},
   "outputs": [
    {
     "data": {
      "image/png": "[encoded data removed]",
      "text/plain": [
       "<matplotlib.figure.Figure at 0x7f9b1c7751d0>"
      ]
     },
     "metadata": {},
     "output_type": "display_data"
    },
    {
     "data": {
      "image/png": "[encoded data removed]",
      "text/plain": [
       "<matplotlib.figure.Figure at 0x7f9b12359048>"
      ]
     },
     "metadata": {},
     "output_type": "display_data"
    },
    {
     "data": {
      "image/png": "[encoded data removed]",
      "text/plain": [
       "<matplotlib.figure.Figure at 0x7f9b12359080>"
      ]
     },
     "metadata": {},
     "output_type": "display_data"
    },
    {
     "data": {
      "image/png": "[encoded data removed]",
      "text/plain": [
       "<matplotlib.figure.Figure at 0x7f9b112a12b0>"
      ]
     },
     "metadata": {},
     "output_type": "display_data"
    },
    {
     "data": {
      "image/png": "[encoded data removed]",
      "text/plain": [
       "<matplotlib.figure.Figure at 0x7f9b1c60b6d8>"
      ]
     },
     "metadata": {},
     "output_type": "display_data"
    },
    {
     "data": {
      "image/png": "[encoded data removed]",
      "text/plain": [
       "<matplotlib.figure.Figure at 0x7f9b15fdd2b0>"
      ]
     },
     "metadata": {},
     "output_type": "display_data"
    },
    {
     "ename": "ValueError",
     "evalue": "object too deep for desired array",
     "output_type": "error",
     "traceback": [
      "\u001b[0;31m---------------------------------------------------------------------------\u001b[0m",
      "\u001b[0;31mValueError\u001b[0m                                Traceback (most recent call last)",
      "\u001b[0;32m~/anaconda3/lib/python3.6/site-packages/IPython/core/formatters.py\u001b[0m in \u001b[0;36m__call__\u001b[0;34m(self, obj)\u001b[0m\n\u001b[1;32m    330\u001b[0m                 \u001b[0;32mpass\u001b[0m\u001b[0;34m\u001b[0m\u001b[0m\n\u001b[1;32m    331\u001b[0m             \u001b[0;32melse\u001b[0m\u001b[0;34m:\u001b[0m\u001b[0;34m\u001b[0m\u001b[0m\n\u001b[0;32m--> 332\u001b[0;31m                 \u001b[0;32mreturn\u001b[0m \u001b[0mprinter\u001b[0m\u001b[0;34m(\u001b[0m\u001b[0mobj\u001b[0m\u001b[0;34m)\u001b[0m\u001b[0;34m\u001b[0m\u001b[0m\n\u001b[0m\u001b[1;32m    333\u001b[0m             \u001b[0;31m# Finally look for special method names\u001b[0m\u001b[0;34m\u001b[0m\u001b[0;34m\u001b[0m\u001b[0m\n\u001b[1;32m    334\u001b[0m             \u001b[0mmethod\u001b[0m \u001b[0;34m=\u001b[0m \u001b[0mget_real_method\u001b[0m\u001b[0;34m(\u001b[0m\u001b[0mobj\u001b[0m\u001b[0;34m,\u001b[0m \u001b[0mself\u001b[0m\u001b[0;34m.\u001b[0m\u001b[0mprint_method\u001b[0m\u001b[0;34m)\u001b[0m\u001b[0;34m\u001b[0m\u001b[0m\n",
      "\u001b[0;32m~/anaconda3/lib/python3.6/site-packages/IPython/core/pylabtools.py\u001b[0m in \u001b[0;36m<lambda>\u001b[0;34m(fig)\u001b[0m\n\u001b[1;32m    235\u001b[0m \u001b[0;34m\u001b[0m\u001b[0m\n\u001b[1;32m    236\u001b[0m     \u001b[0;32mif\u001b[0m \u001b[0;34m'png'\u001b[0m \u001b[0;32min\u001b[0m \u001b[0mformats\u001b[0m\u001b[0;34m:\u001b[0m\u001b[0;34m\u001b[0m\u001b[0m\n\u001b[0;32m--> 237\u001b[0;31m         \u001b[0mpng_formatter\u001b[0m\u001b[0;34m.\u001b[0m\u001b[0mfor_type\u001b[0m\u001b[0;34m(\u001b[0m\u001b[0mFigure\u001b[0m\u001b[0;34m,\u001b[0m \u001b[0;32mlambda\u001b[0m \u001b[0mfig\u001b[0m\u001b[0;34m:\u001b[0m \u001b[0mprint_figure\u001b[0m\u001b[0;34m(\u001b[0m\u001b[0mfig\u001b[0m\u001b[0;34m,\u001b[0m \u001b[0;34m'png'\u001b[0m\u001b[0;34m,\u001b[0m \u001b[0;34m**\u001b[0m\u001b[0mkwargs\u001b[0m\u001b[0;34m)\u001b[0m\u001b[0;34m)\u001b[0m\u001b[0;34m\u001b[0m\u001b[0m\n\u001b[0m\u001b[1;32m    238\u001b[0m     \u001b[0;32mif\u001b[0m \u001b[0;34m'retina'\u001b[0m \u001b[0;32min\u001b[0m \u001b[0mformats\u001b[0m \u001b[0;32mor\u001b[0m \u001b[0;34m'png2x'\u001b[0m \u001b[0;32min\u001b[0m \u001b[0mformats\u001b[0m\u001b[0;34m:\u001b[0m\u001b[0;34m\u001b[0m\u001b[0m\n\u001b[1;32m    239\u001b[0m         \u001b[0mpng_formatter\u001b[0m\u001b[0;34m.\u001b[0m\u001b[0mfor_type\u001b[0m\u001b[0;34m(\u001b[0m\u001b[0mFigure\u001b[0m\u001b[0;34m,\u001b[0m \u001b[0;32mlambda\u001b[0m \u001b[0mfig\u001b[0m\u001b[0;34m:\u001b[0m \u001b[0mretina_figure\u001b[0m\u001b[0;34m(\u001b[0m\u001b[0mfig\u001b[0m\u001b[0;34m,\u001b[0m \u001b[0;34m**\u001b[0m\u001b[0mkwargs\u001b[0m\u001b[0;34m)\u001b[0m\u001b[0;34m)\u001b[0m\u001b[0;34m\u001b[0m\u001b[0m\n",
      "\u001b[0;32m~/anaconda3/lib/python3.6/site-packages/IPython/core/pylabtools.py\u001b[0m in \u001b[0;36mprint_figure\u001b[0;34m(fig, fmt, bbox_inches, **kwargs)\u001b[0m\n\u001b[1;32m    119\u001b[0m \u001b[0;34m\u001b[0m\u001b[0m\n\u001b[1;32m    120\u001b[0m     \u001b[0mbytes_io\u001b[0m \u001b[0;34m=\u001b[0m \u001b[0mBytesIO\u001b[0m\u001b[0;34m(\u001b[0m\u001b[0;34m)\u001b[0m\u001b[0;34m\u001b[0m\u001b[0m\n\u001b[0;32m--> 121\u001b[0;31m     \u001b[0mfig\u001b[0m\u001b[0;34m.\u001b[0m\u001b[0mcanvas\u001b[0m\u001b[0;34m.\u001b[0m\u001b[0mprint_figure\u001b[0m\u001b[0;34m(\u001b[0m\u001b[0mbytes_io\u001b[0m\u001b[0;34m,\u001b[0m \u001b[0;34m**\u001b[0m\u001b[0mkw\u001b[0m\u001b[0;34m)\u001b[0m\u001b[0;34m\u001b[0m\u001b[0m\n\u001b[0m\u001b[1;32m    122\u001b[0m     \u001b[0mdata\u001b[0m \u001b[0;34m=\u001b[0m \u001b[0mbytes_io\u001b[0m\u001b[0;34m.\u001b[0m\u001b[0mgetvalue\u001b[0m\u001b[0;34m(\u001b[0m\u001b[0;34m)\u001b[0m\u001b[0;34m\u001b[0m\u001b[0m\n\u001b[1;32m    123\u001b[0m     \u001b[0;32mif\u001b[0m \u001b[0mfmt\u001b[0m \u001b[0;34m==\u001b[0m \u001b[0;34m'svg'\u001b[0m\u001b[0;34m:\u001b[0m\u001b[0;34m\u001b[0m\u001b[0m\n",
      "\u001b[0;32m~/anaconda3/lib/python3.6/site-packages/matplotlib/backend_bases.py\u001b[0m in \u001b[0;36mprint_figure\u001b[0;34m(self, filename, dpi, facecolor, edgecolor, orientation, format, **kwargs)\u001b[0m\n\u001b[1;32m   2206\u001b[0m                     \u001b[0morientation\u001b[0m\u001b[0;34m=\u001b[0m\u001b[0morientation\u001b[0m\u001b[0;34m,\u001b[0m\u001b[0;34m\u001b[0m\u001b[0m\n\u001b[1;32m   2207\u001b[0m                     \u001b[0mdryrun\u001b[0m\u001b[0;34m=\u001b[0m\u001b[0;32mTrue\u001b[0m\u001b[0;34m,\u001b[0m\u001b[0;34m\u001b[0m\u001b[0m\n\u001b[0;32m-> 2208\u001b[0;31m                     **kwargs)\n\u001b[0m\u001b[1;32m   2209\u001b[0m                 \u001b[0mrenderer\u001b[0m \u001b[0;34m=\u001b[0m \u001b[0mself\u001b[0m\u001b[0;34m.\u001b[0m\u001b[0mfigure\u001b[0m\u001b[0;34m.\u001b[0m\u001b[0m_cachedRenderer\u001b[0m\u001b[0;34m\u001b[0m\u001b[0m\n\u001b[1;32m   2210\u001b[0m                 \u001b[0mbbox_inches\u001b[0m \u001b[0;34m=\u001b[0m \u001b[0mself\u001b[0m\u001b[0;34m.\u001b[0m\u001b[0mfigure\u001b[0m\u001b[0;34m.\u001b[0m\u001b[0mget_tightbbox\u001b[0m\u001b[0;34m(\u001b[0m\u001b[0mrenderer\u001b[0m\u001b[0;34m)\u001b[0m\u001b[0;34m\u001b[0m\u001b[0m\n",
      "\u001b[0;32m~/anaconda3/lib/python3.6/site-packages/matplotlib/backends/backend_agg.py\u001b[0m in \u001b[0;36mprint_png\u001b[0;34m(self, filename_or_obj, *args, **kwargs)\u001b[0m\n\u001b[1;32m    505\u001b[0m \u001b[0;34m\u001b[0m\u001b[0m\n\u001b[1;32m    506\u001b[0m     \u001b[0;32mdef\u001b[0m \u001b[0mprint_png\u001b[0m\u001b[0;34m(\u001b[0m\u001b[0mself\u001b[0m\u001b[0;34m,\u001b[0m \u001b[0mfilename_or_obj\u001b[0m\u001b[0;34m,\u001b[0m \u001b[0;34m*\u001b[0m\u001b[0margs\u001b[0m\u001b[0;34m,\u001b[0m \u001b[0;34m**\u001b[0m\u001b[0mkwargs\u001b[0m\u001b[0;34m)\u001b[0m\u001b[0;34m:\u001b[0m\u001b[0;34m\u001b[0m\u001b[0m\n\u001b[0;32m--> 507\u001b[0;31m         \u001b[0mFigureCanvasAgg\u001b[0m\u001b[0;34m.\u001b[0m\u001b[0mdraw\u001b[0m\u001b[0;34m(\u001b[0m\u001b[0mself\u001b[0m\u001b[0;34m)\u001b[0m\u001b[0;34m\u001b[0m\u001b[0m\n\u001b[0m\u001b[1;32m    508\u001b[0m         \u001b[0mrenderer\u001b[0m \u001b[0;34m=\u001b[0m \u001b[0mself\u001b[0m\u001b[0;34m.\u001b[0m\u001b[0mget_renderer\u001b[0m\u001b[0;34m(\u001b[0m\u001b[0;34m)\u001b[0m\u001b[0;34m\u001b[0m\u001b[0m\n\u001b[1;32m    509\u001b[0m         \u001b[0moriginal_dpi\u001b[0m \u001b[0;34m=\u001b[0m \u001b[0mrenderer\u001b[0m\u001b[0;34m.\u001b[0m\u001b[0mdpi\u001b[0m\u001b[0;34m\u001b[0m\u001b[0m\n",
      "\u001b[0;32m~/anaconda3/lib/python3.6/site-packages/matplotlib/backends/backend_agg.py\u001b[0m in \u001b[0;36mdraw\u001b[0;34m(self)\u001b[0m\n\u001b[1;32m    428\u001b[0m             \u001b[0;32mif\u001b[0m \u001b[0mtoolbar\u001b[0m\u001b[0;34m:\u001b[0m\u001b[0;34m\u001b[0m\u001b[0m\n\u001b[1;32m    429\u001b[0m                 \u001b[0mtoolbar\u001b[0m\u001b[0;34m.\u001b[0m\u001b[0mset_cursor\u001b[0m\u001b[0;34m(\u001b[0m\u001b[0mcursors\u001b[0m\u001b[0;34m.\u001b[0m\u001b[0mWAIT\u001b[0m\u001b[0;34m)\u001b[0m\u001b[0;34m\u001b[0m\u001b[0m\n\u001b[0;32m--> 430\u001b[0;31m             \u001b[0mself\u001b[0m\u001b[0;34m.\u001b[0m\u001b[0mfigure\u001b[0m\u001b[0;34m.\u001b[0m\u001b[0mdraw\u001b[0m\u001b[0;34m(\u001b[0m\u001b[0mself\u001b[0m\u001b[0;34m.\u001b[0m\u001b[0mrenderer\u001b[0m\u001b[0;34m)\u001b[0m\u001b[0;34m\u001b[0m\u001b[0m\n\u001b[0m\u001b[1;32m    431\u001b[0m         \u001b[0;32mfinally\u001b[0m\u001b[0;34m:\u001b[0m\u001b[0;34m\u001b[0m\u001b[0m\n\u001b[1;32m    432\u001b[0m             \u001b[0;32mif\u001b[0m \u001b[0mtoolbar\u001b[0m\u001b[0;34m:\u001b[0m\u001b[0;34m\u001b[0m\u001b[0m\n",
      "\u001b[0;32m~/anaconda3/lib/python3.6/site-packages/matplotlib/artist.py\u001b[0m in \u001b[0;36mdraw_wrapper\u001b[0;34m(artist, renderer, *args, **kwargs)\u001b[0m\n\u001b[1;32m     53\u001b[0m                 \u001b[0mrenderer\u001b[0m\u001b[0;34m.\u001b[0m\u001b[0mstart_filter\u001b[0m\u001b[0;34m(\u001b[0m\u001b[0;34m)\u001b[0m\u001b[0;34m\u001b[0m\u001b[0m\n\u001b[1;32m     54\u001b[0m \u001b[0;34m\u001b[0m\u001b[0m\n\u001b[0;32m---> 55\u001b[0;31m             \u001b[0;32mreturn\u001b[0m \u001b[0mdraw\u001b[0m\u001b[0;34m(\u001b[0m\u001b[0martist\u001b[0m\u001b[0;34m,\u001b[0m \u001b[0mrenderer\u001b[0m\u001b[0;34m,\u001b[0m \u001b[0;34m*\u001b[0m\u001b[0margs\u001b[0m\u001b[0;34m,\u001b[0m \u001b[0;34m**\u001b[0m\u001b[0mkwargs\u001b[0m\u001b[0;34m)\u001b[0m\u001b[0;34m\u001b[0m\u001b[0m\n\u001b[0m\u001b[1;32m     56\u001b[0m         \u001b[0;32mfinally\u001b[0m\u001b[0;34m:\u001b[0m\u001b[0;34m\u001b[0m\u001b[0m\n\u001b[1;32m     57\u001b[0m             \u001b[0;32mif\u001b[0m \u001b[0martist\u001b[0m\u001b[0;34m.\u001b[0m\u001b[0mget_agg_filter\u001b[0m\u001b[0;34m(\u001b[0m\u001b[0;34m)\u001b[0m \u001b[0;32mis\u001b[0m \u001b[0;32mnot\u001b[0m \u001b[0;32mNone\u001b[0m\u001b[0;34m:\u001b[0m\u001b[0;34m\u001b[0m\u001b[0m\n",
      "\u001b[0;32m~/anaconda3/lib/python3.6/site-packages/matplotlib/figure.py\u001b[0m in \u001b[0;36mdraw\u001b[0;34m(self, renderer)\u001b[0m\n\u001b[1;32m   1293\u001b[0m \u001b[0;34m\u001b[0m\u001b[0m\n\u001b[1;32m   1294\u001b[0m             mimage._draw_list_compositing_images(\n\u001b[0;32m-> 1295\u001b[0;31m                 renderer, self, artists, self.suppressComposite)\n\u001b[0m\u001b[1;32m   1296\u001b[0m \u001b[0;34m\u001b[0m\u001b[0m\n\u001b[1;32m   1297\u001b[0m             \u001b[0mrenderer\u001b[0m\u001b[0;34m.\u001b[0m\u001b[0mclose_group\u001b[0m\u001b[0;34m(\u001b[0m\u001b[0;34m'figure'\u001b[0m\u001b[0;34m)\u001b[0m\u001b[0;34m\u001b[0m\u001b[0m\n",
      "\u001b[0;32m~/anaconda3/lib/python3.6/site-packages/matplotlib/image.py\u001b[0m in \u001b[0;36m_draw_list_compositing_images\u001b[0;34m(renderer, parent, artists, suppress_composite)\u001b[0m\n\u001b[1;32m    136\u001b[0m     \u001b[0;32mif\u001b[0m \u001b[0mnot_composite\u001b[0m \u001b[0;32mor\u001b[0m \u001b[0;32mnot\u001b[0m \u001b[0mhas_images\u001b[0m\u001b[0;34m:\u001b[0m\u001b[0;34m\u001b[0m\u001b[0m\n\u001b[1;32m    137\u001b[0m         \u001b[0;32mfor\u001b[0m \u001b[0ma\u001b[0m \u001b[0;32min\u001b[0m \u001b[0martists\u001b[0m\u001b[0;34m:\u001b[0m\u001b[0;34m\u001b[0m\u001b[0m\n\u001b[0;32m--> 138\u001b[0;31m             \u001b[0ma\u001b[0m\u001b[0;34m.\u001b[0m\u001b[0mdraw\u001b[0m\u001b[0;34m(\u001b[0m\u001b[0mrenderer\u001b[0m\u001b[0;34m)\u001b[0m\u001b[0;34m\u001b[0m\u001b[0m\n\u001b[0m\u001b[1;32m    139\u001b[0m     \u001b[0;32melse\u001b[0m\u001b[0;34m:\u001b[0m\u001b[0;34m\u001b[0m\u001b[0m\n\u001b[1;32m    140\u001b[0m         \u001b[0;31m# Composite any adjacent images together\u001b[0m\u001b[0;34m\u001b[0m\u001b[0;34m\u001b[0m\u001b[0m\n",
      "\u001b[0;32m~/anaconda3/lib/python3.6/site-packages/matplotlib/artist.py\u001b[0m in \u001b[0;36mdraw_wrapper\u001b[0;34m(artist, renderer, *args, **kwargs)\u001b[0m\n\u001b[1;32m     53\u001b[0m                 \u001b[0mrenderer\u001b[0m\u001b[0;34m.\u001b[0m\u001b[0mstart_filter\u001b[0m\u001b[0;34m(\u001b[0m\u001b[0;34m)\u001b[0m\u001b[0;34m\u001b[0m\u001b[0m\n\u001b[1;32m     54\u001b[0m \u001b[0;34m\u001b[0m\u001b[0m\n\u001b[0;32m---> 55\u001b[0;31m             \u001b[0;32mreturn\u001b[0m \u001b[0mdraw\u001b[0m\u001b[0;34m(\u001b[0m\u001b[0martist\u001b[0m\u001b[0;34m,\u001b[0m \u001b[0mrenderer\u001b[0m\u001b[0;34m,\u001b[0m \u001b[0;34m*\u001b[0m\u001b[0margs\u001b[0m\u001b[0;34m,\u001b[0m \u001b[0;34m**\u001b[0m\u001b[0mkwargs\u001b[0m\u001b[0;34m)\u001b[0m\u001b[0;34m\u001b[0m\u001b[0m\n\u001b[0m\u001b[1;32m     56\u001b[0m         \u001b[0;32mfinally\u001b[0m\u001b[0;34m:\u001b[0m\u001b[0;34m\u001b[0m\u001b[0m\n\u001b[1;32m     57\u001b[0m             \u001b[0;32mif\u001b[0m \u001b[0martist\u001b[0m\u001b[0;34m.\u001b[0m\u001b[0mget_agg_filter\u001b[0m\u001b[0;34m(\u001b[0m\u001b[0;34m)\u001b[0m \u001b[0;32mis\u001b[0m \u001b[0;32mnot\u001b[0m \u001b[0;32mNone\u001b[0m\u001b[0;34m:\u001b[0m\u001b[0;34m\u001b[0m\u001b[0m\n",
      "\u001b[0;32m~/anaconda3/lib/python3.6/site-packages/matplotlib/axes/_base.py\u001b[0m in \u001b[0;36mdraw\u001b[0;34m(self, renderer, inframe)\u001b[0m\n\u001b[1;32m   2397\u001b[0m             \u001b[0mrenderer\u001b[0m\u001b[0;34m.\u001b[0m\u001b[0mstop_rasterizing\u001b[0m\u001b[0;34m(\u001b[0m\u001b[0;34m)\u001b[0m\u001b[0;34m\u001b[0m\u001b[0m\n\u001b[1;32m   2398\u001b[0m \u001b[0;34m\u001b[0m\u001b[0m\n\u001b[0;32m-> 2399\u001b[0;31m         \u001b[0mmimage\u001b[0m\u001b[0;34m.\u001b[0m\u001b[0m_draw_list_compositing_images\u001b[0m\u001b[0;34m(\u001b[0m\u001b[0mrenderer\u001b[0m\u001b[0;34m,\u001b[0m \u001b[0mself\u001b[0m\u001b[0;34m,\u001b[0m \u001b[0martists\u001b[0m\u001b[0;34m)\u001b[0m\u001b[0;34m\u001b[0m\u001b[0m\n\u001b[0m\u001b[1;32m   2400\u001b[0m \u001b[0;34m\u001b[0m\u001b[0m\n\u001b[1;32m   2401\u001b[0m         \u001b[0mrenderer\u001b[0m\u001b[0;34m.\u001b[0m\u001b[0mclose_group\u001b[0m\u001b[0;34m(\u001b[0m\u001b[0;34m'axes'\u001b[0m\u001b[0;34m)\u001b[0m\u001b[0;34m\u001b[0m\u001b[0m\n",
      "\u001b[0;32m~/anaconda3/lib/python3.6/site-packages/matplotlib/image.py\u001b[0m in \u001b[0;36m_draw_list_compositing_images\u001b[0;34m(renderer, parent, artists, suppress_composite)\u001b[0m\n\u001b[1;32m    136\u001b[0m     \u001b[0;32mif\u001b[0m \u001b[0mnot_composite\u001b[0m \u001b[0;32mor\u001b[0m \u001b[0;32mnot\u001b[0m \u001b[0mhas_images\u001b[0m\u001b[0;34m:\u001b[0m\u001b[0;34m\u001b[0m\u001b[0m\n\u001b[1;32m    137\u001b[0m         \u001b[0;32mfor\u001b[0m \u001b[0ma\u001b[0m \u001b[0;32min\u001b[0m \u001b[0martists\u001b[0m\u001b[0;34m:\u001b[0m\u001b[0;34m\u001b[0m\u001b[0m\n\u001b[0;32m--> 138\u001b[0;31m             \u001b[0ma\u001b[0m\u001b[0;34m.\u001b[0m\u001b[0mdraw\u001b[0m\u001b[0;34m(\u001b[0m\u001b[0mrenderer\u001b[0m\u001b[0;34m)\u001b[0m\u001b[0;34m\u001b[0m\u001b[0m\n\u001b[0m\u001b[1;32m    139\u001b[0m     \u001b[0;32melse\u001b[0m\u001b[0;34m:\u001b[0m\u001b[0;34m\u001b[0m\u001b[0m\n\u001b[1;32m    140\u001b[0m         \u001b[0;31m# Composite any adjacent images together\u001b[0m\u001b[0;34m\u001b[0m\u001b[0;34m\u001b[0m\u001b[0m\n",
      "\u001b[0;32m~/anaconda3/lib/python3.6/site-packages/matplotlib/artist.py\u001b[0m in \u001b[0;36mdraw_wrapper\u001b[0;34m(artist, renderer, *args, **kwargs)\u001b[0m\n\u001b[1;32m     53\u001b[0m                 \u001b[0mrenderer\u001b[0m\u001b[0;34m.\u001b[0m\u001b[0mstart_filter\u001b[0m\u001b[0;34m(\u001b[0m\u001b[0;34m)\u001b[0m\u001b[0;34m\u001b[0m\u001b[0m\n\u001b[1;32m     54\u001b[0m \u001b[0;34m\u001b[0m\u001b[0m\n\u001b[0;32m---> 55\u001b[0;31m             \u001b[0;32mreturn\u001b[0m \u001b[0mdraw\u001b[0m\u001b[0;34m(\u001b[0m\u001b[0martist\u001b[0m\u001b[0;34m,\u001b[0m \u001b[0mrenderer\u001b[0m\u001b[0;34m,\u001b[0m \u001b[0;34m*\u001b[0m\u001b[0margs\u001b[0m\u001b[0;34m,\u001b[0m \u001b[0;34m**\u001b[0m\u001b[0mkwargs\u001b[0m\u001b[0;34m)\u001b[0m\u001b[0;34m\u001b[0m\u001b[0m\n\u001b[0m\u001b[1;32m     56\u001b[0m         \u001b[0;32mfinally\u001b[0m\u001b[0;34m:\u001b[0m\u001b[0;34m\u001b[0m\u001b[0m\n\u001b[1;32m     57\u001b[0m             \u001b[0;32mif\u001b[0m \u001b[0martist\u001b[0m\u001b[0;34m.\u001b[0m\u001b[0mget_agg_filter\u001b[0m\u001b[0;34m(\u001b[0m\u001b[0;34m)\u001b[0m \u001b[0;32mis\u001b[0m \u001b[0;32mnot\u001b[0m \u001b[0;32mNone\u001b[0m\u001b[0;34m:\u001b[0m\u001b[0;34m\u001b[0m\u001b[0m\n",
      "\u001b[0;32m~/anaconda3/lib/python3.6/site-packages/matplotlib/collections.py\u001b[0m in \u001b[0;36mdraw\u001b[0;34m(self, renderer)\u001b[0m\n\u001b[1;32m    843\u001b[0m     \u001b[0;32mdef\u001b[0m \u001b[0mdraw\u001b[0m\u001b[0;34m(\u001b[0m\u001b[0mself\u001b[0m\u001b[0;34m,\u001b[0m \u001b[0mrenderer\u001b[0m\u001b[0;34m)\u001b[0m\u001b[0;34m:\u001b[0m\u001b[0;34m\u001b[0m\u001b[0m\n\u001b[1;32m    844\u001b[0m         \u001b[0mself\u001b[0m\u001b[0;34m.\u001b[0m\u001b[0mset_sizes\u001b[0m\u001b[0;34m(\u001b[0m\u001b[0mself\u001b[0m\u001b[0;34m.\u001b[0m\u001b[0m_sizes\u001b[0m\u001b[0;34m,\u001b[0m \u001b[0mself\u001b[0m\u001b[0;34m.\u001b[0m\u001b[0mfigure\u001b[0m\u001b[0;34m.\u001b[0m\u001b[0mdpi\u001b[0m\u001b[0;34m)\u001b[0m\u001b[0;34m\u001b[0m\u001b[0m\n\u001b[0;32m--> 845\u001b[0;31m         \u001b[0mCollection\u001b[0m\u001b[0;34m.\u001b[0m\u001b[0mdraw\u001b[0m\u001b[0;34m(\u001b[0m\u001b[0mself\u001b[0m\u001b[0;34m,\u001b[0m \u001b[0mrenderer\u001b[0m\u001b[0;34m)\u001b[0m\u001b[0;34m\u001b[0m\u001b[0m\n\u001b[0m\u001b[1;32m    846\u001b[0m \u001b[0;34m\u001b[0m\u001b[0m\n\u001b[1;32m    847\u001b[0m \u001b[0;34m\u001b[0m\u001b[0m\n",
      "\u001b[0;32m~/anaconda3/lib/python3.6/site-packages/matplotlib/artist.py\u001b[0m in \u001b[0;36mdraw_wrapper\u001b[0;34m(artist, renderer, *args, **kwargs)\u001b[0m\n\u001b[1;32m     53\u001b[0m                 \u001b[0mrenderer\u001b[0m\u001b[0;34m.\u001b[0m\u001b[0mstart_filter\u001b[0m\u001b[0;34m(\u001b[0m\u001b[0;34m)\u001b[0m\u001b[0;34m\u001b[0m\u001b[0m\n\u001b[1;32m     54\u001b[0m \u001b[0;34m\u001b[0m\u001b[0m\n\u001b[0;32m---> 55\u001b[0;31m             \u001b[0;32mreturn\u001b[0m \u001b[0mdraw\u001b[0m\u001b[0;34m(\u001b[0m\u001b[0martist\u001b[0m\u001b[0;34m,\u001b[0m \u001b[0mrenderer\u001b[0m\u001b[0;34m,\u001b[0m \u001b[0;34m*\u001b[0m\u001b[0margs\u001b[0m\u001b[0;34m,\u001b[0m \u001b[0;34m**\u001b[0m\u001b[0mkwargs\u001b[0m\u001b[0;34m)\u001b[0m\u001b[0;34m\u001b[0m\u001b[0m\n\u001b[0m\u001b[1;32m     56\u001b[0m         \u001b[0;32mfinally\u001b[0m\u001b[0;34m:\u001b[0m\u001b[0;34m\u001b[0m\u001b[0m\n\u001b[1;32m     57\u001b[0m             \u001b[0;32mif\u001b[0m \u001b[0martist\u001b[0m\u001b[0;34m.\u001b[0m\u001b[0mget_agg_filter\u001b[0m\u001b[0;34m(\u001b[0m\u001b[0;34m)\u001b[0m \u001b[0;32mis\u001b[0m \u001b[0;32mnot\u001b[0m \u001b[0;32mNone\u001b[0m\u001b[0;34m:\u001b[0m\u001b[0;34m\u001b[0m\u001b[0m\n",
      "\u001b[0;32m~/anaconda3/lib/python3.6/site-packages/matplotlib/collections.py\u001b[0m in \u001b[0;36mdraw\u001b[0;34m(self, renderer)\u001b[0m\n\u001b[1;32m    311\u001b[0m             renderer.draw_markers(\n\u001b[1;32m    312\u001b[0m                 \u001b[0mgc\u001b[0m\u001b[0;34m,\u001b[0m \u001b[0mpaths\u001b[0m\u001b[0;34m[\u001b[0m\u001b[0;36m0\u001b[0m\u001b[0;34m]\u001b[0m\u001b[0;34m,\u001b[0m \u001b[0mcombined_transform\u001b[0m\u001b[0;34m.\u001b[0m\u001b[0mfrozen\u001b[0m\u001b[0;34m(\u001b[0m\u001b[0;34m)\u001b[0m\u001b[0;34m,\u001b[0m\u001b[0;34m\u001b[0m\u001b[0m\n\u001b[0;32m--> 313\u001b[0;31m                 mpath.Path(offsets), transOffset, tuple(facecolors[0]))\n\u001b[0m\u001b[1;32m    314\u001b[0m         \u001b[0;32melse\u001b[0m\u001b[0;34m:\u001b[0m\u001b[0;34m\u001b[0m\u001b[0m\n\u001b[1;32m    315\u001b[0m             renderer.draw_path_collection(\n",
      "\u001b[0;32m~/anaconda3/lib/python3.6/site-packages/matplotlib/backends/backend_agg.py\u001b[0m in \u001b[0;36mdraw_markers\u001b[0;34m(self, *kl, **kw)\u001b[0m\n\u001b[1;32m    115\u001b[0m     \u001b[0;31m# maybe there is better way to do it.\u001b[0m\u001b[0;34m\u001b[0m\u001b[0;34m\u001b[0m\u001b[0m\n\u001b[1;32m    116\u001b[0m     \u001b[0;32mdef\u001b[0m \u001b[0mdraw_markers\u001b[0m\u001b[0;34m(\u001b[0m\u001b[0mself\u001b[0m\u001b[0;34m,\u001b[0m \u001b[0;34m*\u001b[0m\u001b[0mkl\u001b[0m\u001b[0;34m,\u001b[0m \u001b[0;34m**\u001b[0m\u001b[0mkw\u001b[0m\u001b[0;34m)\u001b[0m\u001b[0;34m:\u001b[0m\u001b[0;34m\u001b[0m\u001b[0m\n\u001b[0;32m--> 117\u001b[0;31m         \u001b[0;32mreturn\u001b[0m \u001b[0mself\u001b[0m\u001b[0;34m.\u001b[0m\u001b[0m_renderer\u001b[0m\u001b[0;34m.\u001b[0m\u001b[0mdraw_markers\u001b[0m\u001b[0;34m(\u001b[0m\u001b[0;34m*\u001b[0m\u001b[0mkl\u001b[0m\u001b[0;34m,\u001b[0m \u001b[0;34m**\u001b[0m\u001b[0mkw\u001b[0m\u001b[0;34m)\u001b[0m\u001b[0;34m\u001b[0m\u001b[0m\n\u001b[0m\u001b[1;32m    118\u001b[0m \u001b[0;34m\u001b[0m\u001b[0m\n\u001b[1;32m    119\u001b[0m     \u001b[0;32mdef\u001b[0m \u001b[0mdraw_path_collection\u001b[0m\u001b[0;34m(\u001b[0m\u001b[0mself\u001b[0m\u001b[0;34m,\u001b[0m \u001b[0;34m*\u001b[0m\u001b[0mkl\u001b[0m\u001b[0;34m,\u001b[0m \u001b[0;34m**\u001b[0m\u001b[0mkw\u001b[0m\u001b[0;34m)\u001b[0m\u001b[0;34m:\u001b[0m\u001b[0;34m\u001b[0m\u001b[0m\n",
      "\u001b[0;31mValueError\u001b[0m: object too deep for desired array"
     ]
    },
    {
     "data": {
      "text/plain": [
       "<matplotlib.figure.Figure at 0x7f9b123104a8>"
      ]
     },
     "metadata": {},
     "output_type": "display_data"
    }
   ],
   "source": [
    "visualize_clusters(reduced_vectors_2, freq_nouns, dimensions, annotate, predictions_2)\n",
    "visualize_clusters(reduced_vectors_5, freq_nouns, dimensions, annotate, predictions_5)\n",
    "visualize_clusters(reduced_vectors_deps, freq_nouns, dimensions, annotate, predictions_deps)"
   ]
  },
  {
   "cell_type": "code",
   "execution_count": 26,
   "metadata": {},
   "outputs": [
    {
     "data": {
      "text/html": [
       "\n",
       "    <div class=\"bk-root\">\n",
       "        <a href=\"https://bokeh.pydata.org\" target=\"_blank\" class=\"bk-logo bk-logo-small bk-logo-notebook\"></a>\n",
       "        <span id=\"58ffb9c3-b04d-4287-8e00-42f0321c3722\">Loading BokehJS ...</span>\n",
       "    </div>"
      ]
     },
     "metadata": {},
     "output_type": "display_data"
    },
    {
     "data": {
      "application/javascript": [
       "\n",
       "(function(root) {\n",
       "  function now() {\n",
       "    return new Date();\n",
       "  }\n",
       "\n",
       "  var force = true;\n",
       "\n",
       "  if (typeof (root._bokeh_onload_callbacks) === \"undefined\" || force === true) {\n",
       "    root._bokeh_onload_callbacks = [];\n",
       "    root._bokeh_is_loading = undefined;\n",
       "  }\n",
       "\n",
       "  var JS_MIME_TYPE = 'application/javascript';\n",
       "  var HTML_MIME_TYPE = 'text/html';\n",
       "  var EXEC_MIME_TYPE = 'application/vnd.bokehjs_exec.v0+json';\n",
       "  var CLASS_NAME = 'output_bokeh rendered_html';\n",
       "\n",
       "  /**\n",
       "   * Render data to the DOM node\n",
       "   */\n",
       "  function render(props, node) {\n",
       "    var script = document.createElement(\"script\");\n",
       "    node.appendChild(script);\n",
       "  }\n",
       "\n",
       "  /**\n",
       "   * Handle when an output is cleared or removed\n",
       "   */\n",
       "  function handleClearOutput(event, handle) {\n",
       "    var cell = handle.cell;\n",
       "\n",
       "    var id = cell.output_area._bokeh_element_id;\n",
       "    var server_id = cell.output_area._bokeh_server_id;\n",
       "    // Clean up Bokeh references\n",
       "    if (id !== undefined) {\n",
       "      Bokeh.index[id].model.document.clear();\n",
       "      delete Bokeh.index[id];\n",
       "    }\n",
       "\n",
       "    if (server_id !== undefined) {\n",
       "      // Clean up Bokeh references\n",
       "      var cmd = \"from bokeh.io.state import curstate; print(curstate().uuid_to_server['\" + server_id + \"'].get_sessions()[0].document.roots[0]._id)\";\n",
       "      cell.notebook.kernel.execute(cmd, {\n",
       "        iopub: {\n",
       "          output: function(msg) {\n",
       "            var element_id = msg.content.text.trim();\n",
       "            Bokeh.index[element_id].model.document.clear();\n",
       "            delete Bokeh.index[element_id];\n",
       "          }\n",
       "        }\n",
       "      });\n",
       "      // Destroy server and session\n",
       "      var cmd = \"import bokeh.io.notebook as ion; ion.destroy_server('\" + server_id + \"')\";\n",
       "      cell.notebook.kernel.execute(cmd);\n",
       "    }\n",
       "  }\n",
       "\n",
       "  /**\n",
       "   * Handle when a new output is added\n",
       "   */\n",
       "  function handleAddOutput(event, handle) {\n",
       "    var output_area = handle.output_area;\n",
       "    var output = handle.output;\n",
       "\n",
       "    // limit handleAddOutput to display_data with EXEC_MIME_TYPE content only\n",
       "    if ((output.output_type != \"display_data\") || (!output.data.hasOwnProperty(EXEC_MIME_TYPE))) {\n",
       "      return\n",
       "    }\n",
       "\n",
       "    var toinsert = output_area.element.find(`.${CLASS_NAME.split(' ')[0]}`);\n",
       "\n",
       "    if (output.metadata[EXEC_MIME_TYPE][\"id\"] !== undefined) {\n",
       "      toinsert[0].firstChild.textContent = output.data[JS_MIME_TYPE];\n",
       "      // store reference to embed id on output_area\n",
       "      output_area._bokeh_element_id = output.metadata[EXEC_MIME_TYPE][\"id\"];\n",
       "    }\n",
       "    if (output.metadata[EXEC_MIME_TYPE][\"server_id\"] !== undefined) {\n",
       "      var bk_div = document.createElement(\"div\");\n",
       "      bk_div.innerHTML = output.data[HTML_MIME_TYPE];\n",
       "      var script_attrs = bk_div.children[0].attributes;\n",
       "      for (var i = 0; i < script_attrs.length; i++) {\n",
       "        toinsert[0].firstChild.setAttribute(script_attrs[i].name, script_attrs[i].value);\n",
       "      }\n",
       "      // store reference to server id on output_area\n",
       "      output_area._bokeh_server_id = output.metadata[EXEC_MIME_TYPE][\"server_id\"];\n",
       "    }\n",
       "  }\n",
       "\n",
       "  function register_renderer(events, OutputArea) {\n",
       "\n",
       "    function append_mime(data, metadata, element) {\n",
       "      // create a DOM node to render to\n",
       "      var toinsert = this.create_output_subarea(\n",
       "        metadata,\n",
       "        CLASS_NAME,\n",
       "        EXEC_MIME_TYPE\n",
       "      );\n",
       "      this.keyboard_manager.register_events(toinsert);\n",
       "      // Render to node\n",
       "      var props = {data: data, metadata: metadata[EXEC_MIME_TYPE]};\n",
       "      render(props, toinsert[0]);\n",
       "      element.append(toinsert);\n",
       "      return toinsert\n",
       "    }\n",
       "\n",
       "    /* Handle when an output is cleared or removed */\n",
       "    events.on('clear_output.CodeCell', handleClearOutput);\n",
       "    events.on('delete.Cell', handleClearOutput);\n",
       "\n",
       "    /* Handle when a new output is added */\n",
       "    events.on('output_added.OutputArea', handleAddOutput);\n",
       "\n",
       "    /**\n",
       "     * Register the mime type and append_mime function with output_area\n",
       "     */\n",
       "    OutputArea.prototype.register_mime_type(EXEC_MIME_TYPE, append_mime, {\n",
       "      /* Is output safe? */\n",
       "      safe: true,\n",
       "      /* Index of renderer in `output_area.display_order` */\n",
       "      index: 0\n",
       "    });\n",
       "  }\n",
       "\n",
       "  // register the mime type if in Jupyter Notebook environment and previously unregistered\n",
       "  if (root.Jupyter !== undefined) {\n",
       "    var events = require('base/js/events');\n",
       "    var OutputArea = require('notebook/js/outputarea').OutputArea;\n",
       "\n",
       "    if (OutputArea.prototype.mime_types().indexOf(EXEC_MIME_TYPE) == -1) {\n",
       "      register_renderer(events, OutputArea);\n",
       "    }\n",
       "  }\n",
       "\n",
       "  \n",
       "  if (typeof (root._bokeh_timeout) === \"undefined\" || force === true) {\n",
       "    root._bokeh_timeout = Date.now() + 5000;\n",
       "    root._bokeh_failed_load = false;\n",
       "  }\n",
       "\n",
       "  var NB_LOAD_WARNING = {'data': {'text/html':\n",
       "     \"<div style='background-color: #fdd'>\\n\"+\n",
       "     \"<p>\\n\"+\n",
       "     \"BokehJS does not appear to have successfully loaded. If loading BokehJS from CDN, this \\n\"+\n",
       "     \"may be due to a slow or bad network connection. Possible fixes:\\n\"+\n",
       "     \"</p>\\n\"+\n",
       "     \"<ul>\\n\"+\n",
       "     \"<li>re-rerun `output_notebook()` to attempt to load from CDN again, or</li>\\n\"+\n",
       "     \"<li>use INLINE resources instead, as so:</li>\\n\"+\n",
       "     \"</ul>\\n\"+\n",
       "     \"<code>\\n\"+\n",
       "     \"from bokeh.resources import INLINE\\n\"+\n",
       "     \"output_notebook(resources=INLINE)\\n\"+\n",
       "     \"</code>\\n\"+\n",
       "     \"</div>\"}};\n",
       "\n",
       "  function display_loaded() {\n",
       "    var el = document.getElementById(\"58ffb9c3-b04d-4287-8e00-42f0321c3722\");\n",
       "    if (el != null) {\n",
       "      el.textContent = \"BokehJS is loading...\";\n",
       "    }\n",
       "    if (root.Bokeh !== undefined) {\n",
       "      if (el != null) {\n",
       "        el.textContent = \"BokehJS \" + root.Bokeh.version + \" successfully loaded.\";\n",
       "      }\n",
       "    } else if (Date.now() < root._bokeh_timeout) {\n",
       "      setTimeout(display_loaded, 100)\n",
       "    }\n",
       "  }\n",
       "\n",
       "\n",
       "  function run_callbacks() {\n",
       "    try {\n",
       "      root._bokeh_onload_callbacks.forEach(function(callback) { callback() });\n",
       "    }\n",
       "    finally {\n",
       "      delete root._bokeh_onload_callbacks\n",
       "    }\n",
       "    console.info(\"Bokeh: all callbacks have finished\");\n",
       "  }\n",
       "\n",
       "  function load_libs(js_urls, callback) {\n",
       "    root._bokeh_onload_callbacks.push(callback);\n",
       "    if (root._bokeh_is_loading > 0) {\n",
       "      console.log(\"Bokeh: BokehJS is being loaded, scheduling callback at\", now());\n",
       "      return null;\n",
       "    }\n",
       "    if (js_urls == null || js_urls.length === 0) {\n",
       "      run_callbacks();\n",
       "      return null;\n",
       "    }\n",
       "    console.log(\"Bokeh: BokehJS not loaded, scheduling load and callback at\", now());\n",
       "    root._bokeh_is_loading = js_urls.length;\n",
       "    for (var i = 0; i < js_urls.length; i++) {\n",
       "      var url = js_urls[i];\n",
       "      var s = document.createElement('script');\n",
       "      s.src = url;\n",
       "      s.async = false;\n",
       "      s.onreadystatechange = s.onload = function() {\n",
       "        root._bokeh_is_loading--;\n",
       "        if (root._bokeh_is_loading === 0) {\n",
       "          console.log(\"Bokeh: all BokehJS libraries loaded\");\n",
       "          run_callbacks()\n",
       "        }\n",
       "      };\n",
       "      s.onerror = function() {\n",
       "        console.warn(\"failed to load library \" + url);\n",
       "      };\n",
       "      console.log(\"Bokeh: injecting script tag for BokehJS library: \", url);\n",
       "      document.getElementsByTagName(\"head\")[0].appendChild(s);\n",
       "    }\n",
       "  };var element = document.getElementById(\"58ffb9c3-b04d-4287-8e00-42f0321c3722\");\n",
       "  if (element == null) {\n",
       "    console.log(\"Bokeh: ERROR: autoload.js configured with elementid '58ffb9c3-b04d-4287-8e00-42f0321c3722' but no matching script tag was found. \")\n",
       "    return false;\n",
       "  }\n",
       "\n",
       "  var js_urls = [\"https://cdn.pydata.org/bokeh/release/bokeh-0.12.10.min.js\", \"https://cdn.pydata.org/bokeh/release/bokeh-widgets-0.12.10.min.js\", \"https://cdn.pydata.org/bokeh/release/bokeh-tables-0.12.10.min.js\", \"https://cdn.pydata.org/bokeh/release/bokeh-gl-0.12.10.min.js\"];\n",
       "\n",
       "  var inline_js = [\n",
       "    function(Bokeh) {\n",
       "      Bokeh.set_log_level(\"info\");\n",
       "    },\n",
       "    \n",
       "    function(Bokeh) {\n",
       "      \n",
       "    },\n",
       "    function(Bokeh) {\n",
       "      console.log(\"Bokeh: injecting CSS: https://cdn.pydata.org/bokeh/release/bokeh-0.12.10.min.css\");\n",
       "      Bokeh.embed.inject_css(\"https://cdn.pydata.org/bokeh/release/bokeh-0.12.10.min.css\");\n",
       "      console.log(\"Bokeh: injecting CSS: https://cdn.pydata.org/bokeh/release/bokeh-widgets-0.12.10.min.css\");\n",
       "      Bokeh.embed.inject_css(\"https://cdn.pydata.org/bokeh/release/bokeh-widgets-0.12.10.min.css\");\n",
       "      console.log(\"Bokeh: injecting CSS: https://cdn.pydata.org/bokeh/release/bokeh-tables-0.12.10.min.css\");\n",
       "      Bokeh.embed.inject_css(\"https://cdn.pydata.org/bokeh/release/bokeh-tables-0.12.10.min.css\");\n",
       "    }\n",
       "  ];\n",
       "\n",
       "  function run_inline_js() {\n",
       "    \n",
       "    if ((root.Bokeh !== undefined) || (force === true)) {\n",
       "      for (var i = 0; i < inline_js.length; i++) {\n",
       "        inline_js[i].call(root, root.Bokeh);\n",
       "      }if (force === true) {\n",
       "        display_loaded();\n",
       "      }} else if (Date.now() < root._bokeh_timeout) {\n",
       "      setTimeout(run_inline_js, 100);\n",
       "    } else if (!root._bokeh_failed_load) {\n",
       "      console.log(\"Bokeh: BokehJS failed to load within specified timeout.\");\n",
       "      root._bokeh_failed_load = true;\n",
       "    } else if (force !== true) {\n",
       "      var cell = $(document.getElementById(\"58ffb9c3-b04d-4287-8e00-42f0321c3722\")).parents('.cell').data().cell;\n",
       "      cell.output_area.append_execute_result(NB_LOAD_WARNING)\n",
       "    }\n",
       "\n",
       "  }\n",
       "\n",
       "  if (root._bokeh_is_loading === 0) {\n",
       "    console.log(\"Bokeh: BokehJS loaded, going straight to plotting\");\n",
       "    run_inline_js();\n",
       "  } else {\n",
       "    load_libs(js_urls, function() {\n",
       "      console.log(\"Bokeh: BokehJS plotting callback run at\", now());\n",
       "      run_inline_js();\n",
       "    });\n",
       "  }\n",
       "}(window));"
      ],
      "application/vnd.bokehjs_load.v0+json": "\n(function(root) {\n  function now() {\n    return new Date();\n  }\n\n  var force = true;\n\n  if (typeof (root._bokeh_onload_callbacks) === \"undefined\" || force === true) {\n    root._bokeh_onload_callbacks = [];\n    root._bokeh_is_loading = undefined;\n  }\n\n  \n\n  \n  if (typeof (root._bokeh_timeout) === \"undefined\" || force === true) {\n    root._bokeh_timeout = Date.now() + 5000;\n    root._bokeh_failed_load = false;\n  }\n\n  var NB_LOAD_WARNING = {'data': {'text/html':\n     \"<div style='background-color: #fdd'>\\n\"+\n     \"<p>\\n\"+\n     \"BokehJS does not appear to have successfully loaded. If loading BokehJS from CDN, this \\n\"+\n     \"may be due to a slow or bad network connection. Possible fixes:\\n\"+\n     \"</p>\\n\"+\n     \"<ul>\\n\"+\n     \"<li>re-rerun `output_notebook()` to attempt to load from CDN again, or</li>\\n\"+\n     \"<li>use INLINE resources instead, as so:</li>\\n\"+\n     \"</ul>\\n\"+\n     \"<code>\\n\"+\n     \"from bokeh.resources import INLINE\\n\"+\n     \"output_notebook(resources=INLINE)\\n\"+\n     \"</code>\\n\"+\n     \"</div>\"}};\n\n  function display_loaded() {\n    var el = document.getElementById(\"58ffb9c3-b04d-4287-8e00-42f0321c3722\");\n    if (el != null) {\n      el.textContent = \"BokehJS is loading...\";\n    }\n    if (root.Bokeh !== undefined) {\n      if (el != null) {\n        el.textContent = \"BokehJS \" + root.Bokeh.version + \" successfully loaded.\";\n      }\n    } else if (Date.now() < root._bokeh_timeout) {\n      setTimeout(display_loaded, 100)\n    }\n  }\n\n\n  function run_callbacks() {\n    try {\n      root._bokeh_onload_callbacks.forEach(function(callback) { callback() });\n    }\n    finally {\n      delete root._bokeh_onload_callbacks\n    }\n    console.info(\"Bokeh: all callbacks have finished\");\n  }\n\n  function load_libs(js_urls, callback) {\n    root._bokeh_onload_callbacks.push(callback);\n    if (root._bokeh_is_loading > 0) {\n      console.log(\"Bokeh: BokehJS is being loaded, scheduling callback at\", now());\n      return null;\n    }\n    if (js_urls == null || js_urls.length === 0) {\n      run_callbacks();\n      return null;\n    }\n    console.log(\"Bokeh: BokehJS not loaded, scheduling load and callback at\", now());\n    root._bokeh_is_loading = js_urls.length;\n    for (var i = 0; i < js_urls.length; i++) {\n      var url = js_urls[i];\n      var s = document.createElement('script');\n      s.src = url;\n      s.async = false;\n      s.onreadystatechange = s.onload = function() {\n        root._bokeh_is_loading--;\n        if (root._bokeh_is_loading === 0) {\n          console.log(\"Bokeh: all BokehJS libraries loaded\");\n          run_callbacks()\n        }\n      };\n      s.onerror = function() {\n        console.warn(\"failed to load library \" + url);\n      };\n      console.log(\"Bokeh: injecting script tag for BokehJS library: \", url);\n      document.getElementsByTagName(\"head\")[0].appendChild(s);\n    }\n  };var element = document.getElementById(\"58ffb9c3-b04d-4287-8e00-42f0321c3722\");\n  if (element == null) {\n    console.log(\"Bokeh: ERROR: autoload.js configured with elementid '58ffb9c3-b04d-4287-8e00-42f0321c3722' but no matching script tag was found. \")\n    return false;\n  }\n\n  var js_urls = [\"https://cdn.pydata.org/bokeh/release/bokeh-0.12.10.min.js\", \"https://cdn.pydata.org/bokeh/release/bokeh-widgets-0.12.10.min.js\", \"https://cdn.pydata.org/bokeh/release/bokeh-tables-0.12.10.min.js\", \"https://cdn.pydata.org/bokeh/release/bokeh-gl-0.12.10.min.js\"];\n\n  var inline_js = [\n    function(Bokeh) {\n      Bokeh.set_log_level(\"info\");\n    },\n    \n    function(Bokeh) {\n      \n    },\n    function(Bokeh) {\n      console.log(\"Bokeh: injecting CSS: https://cdn.pydata.org/bokeh/release/bokeh-0.12.10.min.css\");\n      Bokeh.embed.inject_css(\"https://cdn.pydata.org/bokeh/release/bokeh-0.12.10.min.css\");\n      console.log(\"Bokeh: injecting CSS: https://cdn.pydata.org/bokeh/release/bokeh-widgets-0.12.10.min.css\");\n      Bokeh.embed.inject_css(\"https://cdn.pydata.org/bokeh/release/bokeh-widgets-0.12.10.min.css\");\n      console.log(\"Bokeh: injecting CSS: https://cdn.pydata.org/bokeh/release/bokeh-tables-0.12.10.min.css\");\n      Bokeh.embed.inject_css(\"https://cdn.pydata.org/bokeh/release/bokeh-tables-0.12.10.min.css\");\n    }\n  ];\n\n  function run_inline_js() {\n    \n    if ((root.Bokeh !== undefined) || (force === true)) {\n      for (var i = 0; i < inline_js.length; i++) {\n        inline_js[i].call(root, root.Bokeh);\n      }if (force === true) {\n        display_loaded();\n      }} else if (Date.now() < root._bokeh_timeout) {\n      setTimeout(run_inline_js, 100);\n    } else if (!root._bokeh_failed_load) {\n      console.log(\"Bokeh: BokehJS failed to load within specified timeout.\");\n      root._bokeh_failed_load = true;\n    } else if (force !== true) {\n      var cell = $(document.getElementById(\"58ffb9c3-b04d-4287-8e00-42f0321c3722\")).parents('.cell').data().cell;\n      cell.output_area.append_execute_result(NB_LOAD_WARNING)\n    }\n\n  }\n\n  if (root._bokeh_is_loading === 0) {\n    console.log(\"Bokeh: BokehJS loaded, going straight to plotting\");\n    run_inline_js();\n  } else {\n    load_libs(js_urls, function() {\n      console.log(\"Bokeh: BokehJS plotting callback run at\", now());\n      run_inline_js();\n    });\n  }\n}(window));"
     },
     "metadata": {},
     "output_type": "display_data"
    }
   ],
   "source": [
    "#NOTE: THIS PART OF THE CODE IS TAKEN FROM ONE OF THE NLP1 LAB ASSIGNMENTS\n",
    "\n",
    "# The perplexity used in t-SNE has significant effects on the resulting\n",
    "# visualization. Generally, values in the range 5-30 work well. \n",
    "# If you have less data, or it is very high dimensional, you should go lower.\n",
    "# If the data is packed closely together (lower dimension, more data), \n",
    "# then higher perplexity generally works better.\n",
    "\n",
    "\n",
    "from sklearn.cluster import KMeans\n",
    "from sklearn.manifold import TSNE\n",
    "\n",
    "from bokeh.models import ColumnDataSource, LabelSet\n",
    "from bokeh.plotting import figure, show, output_file\n",
    "from bokeh.palettes import d3\n",
    "from bokeh.io import output_notebook\n",
    "output_notebook()\n",
    "\n",
    "def emb_scatter(data, names, perplexity=30.0, N=20):\n",
    "    \"\"\"\n",
    "    Uses t-SNE with given perplexity to reduce the dimension of the \n",
    "    vectors in data to 2, plots these in a bokeh 2d scatter plot, \n",
    "    and colors them with N colors using K-means clustering of the \n",
    "    originial vectors. The colored dots are tagged with labels from\n",
    "    the list names.\n",
    "    \n",
    "    :param data: numpy array of shape [num_vectors, embedding_dim]\n",
    "    :param names: a list of words of length num_vectors in the same order as data\n",
    "    :param perplexity: the perplexity for t-SNE\n",
    "    :param N: the number of clusters to find by K-means\n",
    "    \"\"\"\n",
    "    ## Try to find some clusters ##\n",
    "    print(\"Finding clusters\")\n",
    "    kmeans = KMeans(n_clusters=N)\n",
    "    kmeans.fit(data)\n",
    "    klabels = kmeans.labels_\n",
    "\n",
    "    ## Get a tsne fit ##\n",
    "    print(\"Fitting tsne\")\n",
    "    tsne = TSNE(n_components=2, perplexity=perplexity)\n",
    "    emb_tsne = tsne.fit_transform(data)\n",
    "    \n",
    "    ## Plot the tsne of the embeddings with bokeh ##\n",
    "    # source: https://github.com/oxford-cs-deepnlp-2017/practical-1\n",
    "    p = figure(tools=\"pan,wheel_zoom,reset,save\",\n",
    "               toolbar_location=\"above\",\n",
    "               title=\"T-SNE for most common words\")\n",
    "\n",
    "    # Set colormap as a list\n",
    "    colormap = d3['Category20'][N]\n",
    "    colors = [colormap[i] for i in klabels]\n",
    "\n",
    "    source = ColumnDataSource(data=dict(x1=emb_tsne[:,0],\n",
    "                                        x2=emb_tsne[:,1],\n",
    "                                        names=names,\n",
    "                                        colors=colors))\n",
    "\n",
    "    p.scatter(x=\"x1\", y=\"x2\", size=8, source=source, color='colors')\n",
    "\n",
    "    labels = LabelSet(x=\"x1\", y=\"x2\", text=\"names\", y_offset=6,\n",
    "                      text_font_size=\"8pt\", text_color=\"#555555\",\n",
    "                      source=source, text_align='center')\n",
    "    p.add_layout(labels)\n",
    "\n",
    "    show(p)"
   ]
  },
  {
   "cell_type": "code",
   "execution_count": 20,
   "metadata": {},
   "outputs": [
    {
     "name": "stdout",
     "output_type": "stream",
     "text": [
      "Finding clusters\n",
      "Fitting tsne\n"
     ]
    },
    {
     "data": {
      "text/html": [
       "\n",
       "<div class=\"bk-root\">\n",
       "    <div class=\"bk-plotdiv\" id=\"d593d03f-58d0-472d-8154-20ff4da517f5\"></div>\n",
       "</div>"
      ]
     },
     "metadata": {},
     "output_type": "display_data"
    },
    {
     "data": {
      "application/javascript": [
       "(function(root) {\n",
       "  function embed_document(root) {\n",
       "    var docs_json = {\"458f7199-4d6b-4ce6-bb38-0740a46a30c8\":{\"roots\":{\"references\":[{\"attributes\":{\"data_source\":{\"id\":\"b9ddef2a-4495-4cc1-a9bb-78813212449d\",\"type\":\"ColumnDataSource\"},\"glyph\":{\"id\":\"8d11c263-aed3-4874-8b56-269c61e11141\",\"type\":\"Circle\"},\"hover_glyph\":null,\"muted_glyph\":null,\"nonselection_glyph\":{\"id\":\"076e1172-ffaa-4c95-91e3-1370fa74cd92\",\"type\":\"Circle\"},\"selection_glyph\":null,\"view\":{\"id\":\"281c106c-a818-4ec7-b85d-9ed564b73f46\",\"type\":\"CDSView\"}},\"id\":\"d8f1e8a0-09b2-4d1b-9067-4c0459cced24\",\"type\":\"GlyphRenderer\"},{\"attributes\":{},\"id\":\"ccc075f0-8a89-4ff0-ad0f-fb8895a991a5\",\"type\":\"WheelZoomTool\"},{\"attributes\":{\"plot\":{\"id\":\"65ceafb5-3744-4546-acac-e924063d05b9\",\"subtype\":\"Figure\",\"type\":\"Plot\"},\"ticker\":{\"id\":\"b85538b4-b988-4709-a7a0-f7802b63ce58\",\"type\":\"BasicTicker\"}},\"id\":\"e161fe8f-331f-4b78-b0a1-c51d50ff8dec\",\"type\":\"Grid\"},{\"attributes\":{\"dimension\":1,\"plot\":{\"id\":\"65ceafb5-3744-4546-acac-e924063d05b9\",\"subtype\":\"Figure\",\"type\":\"Plot\"},\"ticker\":{\"id\":\"7c018277-4257-41aa-a691-303459beab7c\",\"type\":\"BasicTicker\"}},\"id\":\"3d5aa022-247f-4474-a849-cd237d000543\",\"type\":\"Grid\"},{\"attributes\":{},\"id\":\"af39be25-3f79-408f-9f4e-16df47275f02\",\"type\":\"ResetTool\"},{\"attributes\":{},\"id\":\"9981c1c8-2da2-4621-8be6-daa1c7c2cc51\",\"type\":\"PanTool\"},{\"attributes\":{\"source\":{\"id\":\"b9ddef2a-4495-4cc1-a9bb-78813212449d\",\"type\":\"ColumnDataSource\"}},\"id\":\"281c106c-a818-4ec7-b85d-9ed564b73f46\",\"type\":\"CDSView\"},{\"attributes\":{\"below\":[{\"id\":\"49aaa71f-e779-4276-bd36-8200964e38ad\",\"type\":\"LinearAxis\"}],\"left\":[{\"id\":\"9a64a571-a75a-4988-aeeb-38aebb6bc9f8\",\"type\":\"LinearAxis\"}],\"renderers\":[{\"id\":\"49aaa71f-e779-4276-bd36-8200964e38ad\",\"type\":\"LinearAxis\"},{\"id\":\"e161fe8f-331f-4b78-b0a1-c51d50ff8dec\",\"type\":\"Grid\"},{\"id\":\"9a64a571-a75a-4988-aeeb-38aebb6bc9f8\",\"type\":\"LinearAxis\"},{\"id\":\"3d5aa022-247f-4474-a849-cd237d000543\",\"type\":\"Grid\"},{\"id\":\"d8f1e8a0-09b2-4d1b-9067-4c0459cced24\",\"type\":\"GlyphRenderer\"},{\"id\":\"f249cd15-2f72-4fdf-8bc2-d8290e007506\",\"type\":\"LabelSet\"}],\"title\":{\"id\":\"06875b85-e1ef-4336-8d19-b1d150c60f6c\",\"type\":\"Title\"},\"toolbar\":{\"id\":\"c53a081c-cf4a-4716-bf4d-a4937be90b50\",\"type\":\"Toolbar\"},\"toolbar_location\":\"above\",\"x_range\":{\"id\":\"21a56d5a-1c92-44c6-969d-3b29d2024835\",\"type\":\"DataRange1d\"},\"x_scale\":{\"id\":\"e9f734ca-1ed5-41f1-a6c6-097a7c638f1e\",\"type\":\"LinearScale\"},\"y_range\":{\"id\":\"595ab78a-69c6-4427-820e-ada49062f6dd\",\"type\":\"DataRange1d\"},\"y_scale\":{\"id\":\"ce7445cd-0d77-4f39-a264-3eb617ee1dd1\",\"type\":\"LinearScale\"}},\"id\":\"65ceafb5-3744-4546-acac-e924063d05b9\",\"subtype\":\"Figure\",\"type\":\"Plot\"},{\"attributes\":{},\"id\":\"dc48dafc-3af2-4cc4-a155-997a0bf7374d\",\"type\":\"BasicTickFormatter\"},{\"attributes\":{\"callback\":null,\"column_names\":[\"x1\",\"x2\",\"names\",\"colors\"],\"data\":{\"colors\":[\"#98df8a\",\"#e377c2\",\"#9edae5\",\"#e377c2\",\"#7f7f7f\",\"#bcbd22\",\"#bcbd22\",\"#d62728\",\"#aec7e8\",\"#e377c2\",\"#dbdb8d\",\"#bcbd22\",\"#8c564b\",\"#7f7f7f\",\"#d62728\",\"#ff7f0e\",\"#d62728\",\"#98df8a\",\"#bcbd22\",\"#ff9896\",\"#8c564b\",\"#1f77b4\",\"#aec7e8\",\"#aec7e8\",\"#c5b0d5\",\"#d62728\",\"#d62728\",\"#e377c2\",\"#bcbd22\",\"#ff9896\",\"#dbdb8d\",\"#dbdb8d\",\"#d62728\",\"#c5b0d5\",\"#ffbb78\",\"#ffbb78\",\"#98df8a\",\"#c49c94\",\"#d62728\",\"#ffbb78\",\"#d62728\",\"#e377c2\",\"#dbdb8d\",\"#ffbb78\",\"#ff7f0e\",\"#98df8a\",\"#17becf\",\"#1f77b4\",\"#bcbd22\",\"#c49c94\",\"#ff9896\",\"#aec7e8\",\"#c5b0d5\",\"#aec7e8\",\"#8c564b\",\"#bcbd22\",\"#c49c94\",\"#ffbb78\",\"#ffbb78\",\"#7f7f7f\",\"#ff9896\",\"#c5b0d5\",\"#9edae5\",\"#dbdb8d\",\"#2ca02c\",\"#ff7f0e\",\"#c7c7c7\",\"#1f77b4\",\"#1f77b4\",\"#ffbb78\",\"#d62728\",\"#aec7e8\",\"#aec7e8\",\"#9edae5\",\"#d62728\",\"#e377c2\",\"#9edae5\",\"#c49c94\",\"#ff9896\",\"#c5b0d5\",\"#7f7f7f\",\"#d62728\",\"#ffbb78\",\"#8c564b\",\"#dbdb8d\",\"#e377c2\",\"#ff9896\",\"#ffbb78\",\"#aec7e8\",\"#2ca02c\",\"#c49c94\",\"#ffbb78\",\"#9467bd\",\"#aec7e8\",\"#8c564b\",\"#7f7f7f\",\"#dbdb8d\",\"#c49c94\",\"#d62728\",\"#bcbd22\",\"#d62728\",\"#8c564b\",\"#c49c94\",\"#ff9896\",\"#8c564b\",\"#17becf\",\"#e377c2\",\"#dbdb8d\",\"#bcbd22\",\"#aec7e8\",\"#aec7e8\",\"#dbdb8d\",\"#c5b0d5\",\"#ffbb78\",\"#c5b0d5\",\"#d62728\",\"#98df8a\",\"#ff9896\",\"#17becf\",\"#ffbb78\",\"#ff9896\",\"#9edae5\",\"#9edae5\",\"#17becf\",\"#2ca02c\",\"#1f77b4\",\"#7f7f7f\",\"#9467bd\",\"#9edae5\",\"#ffbb78\",\"#c7c7c7\",\"#2ca02c\",\"#e377c2\",\"#ff9896\",\"#9467bd\",\"#9edae5\",\"#9467bd\",\"#ff7f0e\",\"#98df8a\",\"#9edae5\",\"#c7c7c7\",\"#e377c2\",\"#9edae5\",\"#9edae5\",\"#dbdb8d\",\"#ff9896\",\"#e377c2\",\"#bcbd22\",\"#9edae5\",\"#9467bd\",\"#9edae5\",\"#ff9896\",\"#1f77b4\",\"#dbdb8d\",\"#ff9896\",\"#ffbb78\",\"#9467bd\",\"#f7b6d2\",\"#9edae5\",\"#dbdb8d\",\"#f7b6d2\",\"#8c564b\",\"#9edae5\",\"#c7c7c7\",\"#1f77b4\",\"#ff7f0e\",\"#ff7f0e\",\"#ff7f0e\",\"#ff7f0e\",\"#dbdb8d\",\"#9edae5\",\"#17becf\",\"#ff7f0e\",\"#98df8a\",\"#c7c7c7\",\"#98df8a\",\"#e377c2\",\"#9467bd\",\"#98df8a\",\"#f7b6d2\",\"#c7c7c7\",\"#c7c7c7\",\"#e377c2\",\"#9edae5\",\"#ff7f0e\",\"#98df8a\",\"#e377c2\",\"#bcbd22\",\"#9467bd\",\"#ff7f0e\",\"#9edae5\",\"#ff7f0e\",\"#2ca02c\",\"#9467bd\",\"#9467bd\",\"#9edae5\",\"#ffbb78\",\"#1f77b4\",\"#9467bd\",\"#9edae5\",\"#c7c7c7\",\"#c7c7c7\",\"#bcbd22\",\"#98df8a\",\"#17becf\",\"#9edae5\",\"#c7c7c7\",\"#aec7e8\",\"#f7b6d2\",\"#dbdb8d\",\"#c7c7c7\",\"#dbdb8d\",\"#ffbb78\",\"#ff7f0e\",\"#9467bd\",\"#7f7f7f\",\"#dbdb8d\",\"#c7c7c7\",\"#f7b6d2\",\"#c49c94\",\"#9edae5\",\"#dbdb8d\",\"#c5b0d5\",\"#9467bd\",\"#7f7f7f\",\"#7f7f7f\",\"#c49c94\",\"#1f77b4\",\"#ff7f0e\",\"#bcbd22\",\"#ffbb78\",\"#1f77b4\",\"#9467bd\",\"#9467bd\",\"#e377c2\",\"#aec7e8\",\"#e377c2\",\"#9edae5\",\"#f7b6d2\",\"#dbdb8d\",\"#17becf\",\"#f7b6d2\",\"#9edae5\",\"#7f7f7f\",\"#aec7e8\",\"#c7c7c7\",\"#ff7f0e\",\"#ffbb78\",\"#98df8a\",\"#ffbb78\",\"#bcbd22\",\"#ff7f0e\",\"#ffbb78\",\"#8c564b\",\"#dbdb8d\",\"#98df8a\",\"#9edae5\",\"#f7b6d2\",\"#ffbb78\",\"#aec7e8\",\"#8c564b\",\"#7f7f7f\",\"#e377c2\",\"#e377c2\",\"#f7b6d2\",\"#ffbb78\",\"#e377c2\",\"#2ca02c\",\"#aec7e8\",\"#ffbb78\",\"#1f77b4\",\"#1f77b4\",\"#e377c2\",\"#c49c94\",\"#17becf\",\"#9467bd\",\"#17becf\",\"#e377c2\",\"#c7c7c7\",\"#8c564b\",\"#98df8a\",\"#9edae5\",\"#ffbb78\",\"#9467bd\",\"#aec7e8\",\"#ffbb78\",\"#ffbb78\",\"#ffbb78\",\"#9467bd\",\"#9edae5\",\"#e377c2\",\"#aec7e8\",\"#c5b0d5\",\"#ffbb78\",\"#bcbd22\",\"#1f77b4\",\"#98df8a\",\"#e377c2\",\"#aec7e8\",\"#8c564b\",\"#dbdb8d\",\"#9edae5\",\"#aec7e8\",\"#ffbb78\",\"#8c564b\",\"#c7c7c7\",\"#bcbd22\",\"#c7c7c7\",\"#9467bd\",\"#ff7f0e\",\"#f7b6d2\",\"#2ca02c\",\"#d62728\",\"#8c564b\",\"#98df8a\",\"#c49c94\",\"#98df8a\",\"#ff7f0e\",\"#aec7e8\",\"#9edae5\",\"#9467bd\",\"#ff7f0e\",\"#aec7e8\",\"#9467bd\",\"#8c564b\",\"#dbdb8d\",\"#f7b6d2\",\"#8c564b\",\"#ffbb78\",\"#2ca02c\",\"#ff7f0e\",\"#17becf\",\"#e377c2\",\"#c49c94\",\"#8c564b\",\"#aec7e8\",\"#8c564b\",\"#c49c94\",\"#c5b0d5\",\"#d62728\",\"#c49c94\",\"#ff9896\",\"#c49c94\",\"#ffbb78\",\"#ffbb78\",\"#ff9896\",\"#bcbd22\",\"#dbdb8d\",\"#98df8a\",\"#bcbd22\",\"#bcbd22\",\"#17becf\",\"#7f7f7f\",\"#ff9896\",\"#7f7f7f\",\"#aec7e8\",\"#ff7f0e\",\"#bcbd22\",\"#17becf\",\"#7f7f7f\",\"#7f7f7f\",\"#bcbd22\",\"#ff9896\",\"#f7b6d2\",\"#dbdb8d\",\"#bcbd22\",\"#7f7f7f\",\"#d62728\",\"#ffbb78\",\"#bcbd22\",\"#bcbd22\",\"#ff9896\",\"#c5b0d5\",\"#aec7e8\",\"#aec7e8\",\"#ff9896\",\"#d62728\",\"#ff9896\",\"#c5b0d5\",\"#ff9896\",\"#8c564b\",\"#ffbb78\",\"#c49c94\",\"#7f7f7f\",\"#aec7e8\",\"#c5b0d5\",\"#d62728\",\"#bcbd22\",\"#7f7f7f\",\"#aec7e8\",\"#c7c7c7\",\"#bcbd22\",\"#7f7f7f\",\"#17becf\",\"#dbdb8d\",\"#ff9896\",\"#e377c2\",\"#c49c94\",\"#ff9896\",\"#aec7e8\",\"#bcbd22\",\"#aec7e8\",\"#bcbd22\",\"#c49c94\",\"#dbdb8d\",\"#ff9896\",\"#d62728\",\"#f7b6d2\",\"#17becf\",\"#1f77b4\",\"#17becf\",\"#9edae5\",\"#ffbb78\",\"#ffbb78\",\"#9467bd\",\"#ff7f0e\",\"#7f7f7f\",\"#9edae5\",\"#c5b0d5\",\"#8c564b\",\"#98df8a\",\"#17becf\",\"#98df8a\",\"#98df8a\",\"#f7b6d2\",\"#98df8a\",\"#dbdb8d\",\"#e377c2\",\"#ffbb78\",\"#1f77b4\",\"#ff7f0e\",\"#ff9896\",\"#c7c7c7\",\"#ff7f0e\",\"#98df8a\",\"#9467bd\",\"#bcbd22\",\"#9467bd\",\"#c49c94\",\"#c49c94\",\"#98df8a\",\"#dbdb8d\",\"#bcbd22\",\"#aec7e8\",\"#8c564b\",\"#d62728\",\"#2ca02c\",\"#9edae5\",\"#ff7f0e\",\"#98df8a\",\"#dbdb8d\",\"#9467bd\",\"#aec7e8\",\"#aec7e8\",\"#aec7e8\",\"#bcbd22\",\"#9467bd\",\"#2ca02c\",\"#e377c2\",\"#dbdb8d\",\"#17becf\",\"#17becf\",\"#bcbd22\",\"#9edae5\",\"#f7b6d2\",\"#aec7e8\",\"#ff7f0e\",\"#aec7e8\",\"#e377c2\",\"#2ca02c\",\"#8c564b\",\"#1f77b4\",\"#9edae5\",\"#dbdb8d\",\"#f7b6d2\",\"#ffbb78\",\"#bcbd22\",\"#bcbd22\",\"#dbdb8d\",\"#d62728\",\"#c7c7c7\",\"#d62728\",\"#bcbd22\",\"#d62728\",\"#ffbb78\",\"#7f7f7f\",\"#c49c94\",\"#c49c94\",\"#ffbb78\",\"#aec7e8\",\"#ff9896\",\"#aec7e8\",\"#aec7e8\",\"#c5b0d5\",\"#c5b0d5\",\"#98df8a\",\"#aec7e8\",\"#ff9896\",\"#d62728\",\"#8c564b\",\"#aec7e8\",\"#c49c94\",\"#ffbb78\",\"#17becf\",\"#e377c2\",\"#2ca02c\",\"#2ca02c\",\"#8c564b\",\"#ff9896\",\"#aec7e8\",\"#f7b6d2\",\"#bcbd22\",\"#9edae5\",\"#aec7e8\",\"#7f7f7f\",\"#f7b6d2\",\"#ff9896\",\"#ffbb78\",\"#d62728\",\"#2ca02c\",\"#bcbd22\",\"#1f77b4\",\"#98df8a\",\"#aec7e8\",\"#7f7f7f\",\"#7f7f7f\",\"#aec7e8\",\"#17becf\",\"#f7b6d2\",\"#dbdb8d\",\"#ff9896\",\"#8c564b\",\"#c49c94\",\"#dbdb8d\",\"#c7c7c7\",\"#ff9896\",\"#ff9896\",\"#bcbd22\",\"#ff9896\",\"#d62728\",\"#ff9896\",\"#17becf\",\"#ff7f0e\",\"#c7c7c7\",\"#aec7e8\",\"#2ca02c\",\"#bcbd22\",\"#17becf\",\"#ff9896\",\"#7f7f7f\",\"#ffbb78\",\"#bcbd22\",\"#dbdb8d\",\"#f7b6d2\",\"#d62728\",\"#ff9896\",\"#98df8a\",\"#aec7e8\",\"#9467bd\",\"#9467bd\",\"#2ca02c\",\"#aec7e8\",\"#9edae5\",\"#dbdb8d\",\"#ffbb78\",\"#e377c2\",\"#e377c2\",\"#98df8a\",\"#98df8a\",\"#9467bd\",\"#ff7f0e\",\"#98df8a\",\"#c7c7c7\",\"#dbdb8d\",\"#f7b6d2\",\"#c7c7c7\",\"#dbdb8d\",\"#f7b6d2\",\"#bcbd22\",\"#ff7f0e\",\"#aec7e8\",\"#f7b6d2\",\"#bcbd22\",\"#ff7f0e\",\"#98df8a\",\"#c5b0d5\",\"#d62728\",\"#1f77b4\",\"#7f7f7f\",\"#ff9896\",\"#7f7f7f\",\"#bcbd22\",\"#c7c7c7\",\"#c5b0d5\",\"#aec7e8\",\"#7f7f7f\",\"#8c564b\",\"#1f77b4\",\"#d62728\",\"#ffbb78\",\"#1f77b4\",\"#17becf\",\"#7f7f7f\",\"#ffbb78\",\"#ff9896\",\"#ffbb78\",\"#c5b0d5\",\"#c49c94\",\"#d62728\",\"#e377c2\",\"#aec7e8\",\"#ff7f0e\",\"#8c564b\",\"#ffbb78\",\"#ffbb78\",\"#d62728\",\"#c49c94\",\"#bcbd22\",\"#bcbd22\",\"#98df8a\",\"#dbdb8d\",\"#2ca02c\",\"#aec7e8\",\"#98df8a\",\"#aec7e8\",\"#2ca02c\",\"#aec7e8\",\"#7f7f7f\",\"#dbdb8d\",\"#d62728\",\"#ffbb78\",\"#ff9896\",\"#dbdb8d\",\"#ff9896\",\"#98df8a\",\"#e377c2\",\"#ff9896\",\"#ff9896\",\"#bcbd22\",\"#aec7e8\",\"#2ca02c\",\"#c49c94\",\"#aec7e8\",\"#c5b0d5\",\"#ff9896\",\"#ffbb78\",\"#bcbd22\",\"#bcbd22\",\"#ff9896\",\"#ffbb78\",\"#ff9896\",\"#bcbd22\",\"#ff9896\",\"#aec7e8\",\"#c49c94\",\"#ff9896\",\"#ff9896\",\"#ff7f0e\",\"#aec7e8\",\"#7f7f7f\",\"#7f7f7f\",\"#aec7e8\",\"#7f7f7f\",\"#c7c7c7\",\"#2ca02c\",\"#ff7f0e\",\"#e377c2\",\"#aec7e8\",\"#ffbb78\",\"#7f7f7f\",\"#9edae5\",\"#ff9896\",\"#c49c94\",\"#98df8a\",\"#f7b6d2\",\"#9edae5\",\"#1f77b4\",\"#e377c2\",\"#dbdb8d\",\"#8c564b\",\"#e377c2\",\"#c49c94\",\"#aec7e8\",\"#ff7f0e\",\"#ffbb78\",\"#aec7e8\",\"#8c564b\",\"#98df8a\",\"#c7c7c7\",\"#f7b6d2\",\"#2ca02c\",\"#e377c2\",\"#98df8a\",\"#e377c2\",\"#e377c2\",\"#17becf\",\"#98df8a\",\"#2ca02c\",\"#98df8a\",\"#c5b0d5\",\"#aec7e8\",\"#c7c7c7\",\"#ff7f0e\",\"#ffbb78\",\"#ff7f0e\",\"#9467bd\",\"#98df8a\",\"#c7c7c7\",\"#9467bd\",\"#17becf\",\"#98df8a\",\"#c7c7c7\",\"#e377c2\",\"#e377c2\",\"#c7c7c7\",\"#2ca02c\",\"#9467bd\",\"#aec7e8\",\"#e377c2\",\"#9467bd\",\"#ffbb78\",\"#dbdb8d\",\"#f7b6d2\",\"#c7c7c7\",\"#9edae5\",\"#17becf\",\"#17becf\",\"#aec7e8\",\"#e377c2\",\"#98df8a\",\"#98df8a\",\"#c5b0d5\",\"#7f7f7f\",\"#2ca02c\",\"#c7c7c7\",\"#ff9896\",\"#ffbb78\",\"#1f77b4\",\"#c49c94\",\"#ffbb78\",\"#7f7f7f\",\"#8c564b\",\"#ffbb78\",\"#ff7f0e\",\"#ff7f0e\",\"#aec7e8\",\"#2ca02c\",\"#7f7f7f\",\"#c49c94\",\"#9edae5\",\"#c49c94\",\"#aec7e8\",\"#f7b6d2\",\"#e377c2\",\"#9edae5\",\"#9edae5\",\"#9edae5\",\"#ff7f0e\",\"#9467bd\",\"#ff7f0e\",\"#c7c7c7\",\"#e377c2\",\"#17becf\",\"#f7b6d2\",\"#1f77b4\",\"#98df8a\",\"#ffbb78\",\"#aec7e8\",\"#9edae5\",\"#dbdb8d\",\"#9edae5\",\"#e377c2\",\"#9467bd\",\"#e377c2\",\"#98df8a\",\"#9467bd\",\"#aec7e8\",\"#9edae5\",\"#e377c2\",\"#c5b0d5\",\"#c5b0d5\",\"#8c564b\",\"#e377c2\",\"#1f77b4\",\"#ff7f0e\",\"#c5b0d5\",\"#9467bd\",\"#98df8a\",\"#9edae5\",\"#9edae5\",\"#2ca02c\",\"#ff7f0e\",\"#dbdb8d\",\"#dbdb8d\",\"#ff9896\",\"#98df8a\",\"#f7b6d2\",\"#c49c94\",\"#dbdb8d\",\"#ff9896\",\"#dbdb8d\",\"#9edae5\",\"#98df8a\",\"#17becf\",\"#c7c7c7\",\"#98df8a\",\"#f7b6d2\",\"#c7c7c7\",\"#e377c2\",\"#2ca02c\",\"#aec7e8\",\"#bcbd22\",\"#1f77b4\",\"#9edae5\",\"#98df8a\",\"#ffbb78\",\"#c49c94\",\"#ff7f0e\",\"#dbdb8d\",\"#ff7f0e\",\"#2ca02c\",\"#9edae5\",\"#9467bd\",\"#2ca02c\",\"#1f77b4\",\"#9edae5\",\"#9edae5\",\"#dbdb8d\",\"#1f77b4\",\"#ffbb78\",\"#ff9896\",\"#9edae5\",\"#17becf\",\"#8c564b\",\"#c49c94\",\"#ffbb78\",\"#e377c2\",\"#ffbb78\",\"#98df8a\",\"#c7c7c7\",\"#ffbb78\",\"#98df8a\",\"#ffbb78\",\"#9467bd\",\"#ffbb78\",\"#ff7f0e\",\"#9467bd\",\"#98df8a\",\"#9edae5\",\"#f7b6d2\",\"#98df8a\",\"#d62728\",\"#f7b6d2\",\"#98df8a\",\"#f7b6d2\",\"#98df8a\",\"#dbdb8d\",\"#1f77b4\",\"#aec7e8\",\"#9edae5\",\"#f7b6d2\",\"#1f77b4\",\"#aec7e8\",\"#ff9896\",\"#aec7e8\",\"#ff9896\",\"#bcbd22\",\"#d62728\",\"#dbdb8d\",\"#17becf\",\"#aec7e8\",\"#7f7f7f\",\"#ff9896\",\"#ff9896\",\"#aec7e8\",\"#ff9896\",\"#aec7e8\",\"#bcbd22\",\"#17becf\",\"#ff9896\",\"#9467bd\",\"#7f7f7f\",\"#e377c2\",\"#bcbd22\",\"#7f7f7f\",\"#c49c94\",\"#17becf\",\"#ffbb78\",\"#e377c2\",\"#dbdb8d\",\"#ff9896\",\"#17becf\",\"#7f7f7f\",\"#bcbd22\",\"#ff9896\",\"#17becf\",\"#ffbb78\",\"#d62728\",\"#bcbd22\",\"#e377c2\",\"#d62728\",\"#7f7f7f\",\"#d62728\",\"#2ca02c\",\"#ffbb78\",\"#bcbd22\",\"#bcbd22\",\"#8c564b\",\"#aec7e8\",\"#17becf\",\"#c5b0d5\",\"#c49c94\",\"#bcbd22\",\"#17becf\",\"#c49c94\",\"#ff9896\",\"#bcbd22\",\"#7f7f7f\",\"#bcbd22\",\"#ff9896\",\"#d62728\",\"#7f7f7f\",\"#98df8a\",\"#ff9896\",\"#17becf\",\"#d62728\",\"#ffbb78\",\"#bcbd22\",\"#dbdb8d\",\"#d62728\",\"#d62728\",\"#c5b0d5\",\"#c49c94\",\"#d62728\",\"#c49c94\",\"#ffbb78\",\"#1f77b4\",\"#98df8a\",\"#ff9896\",\"#c5b0d5\",\"#aec7e8\",\"#ffbb78\",\"#2ca02c\",\"#1f77b4\",\"#9467bd\",\"#1f77b4\",\"#1f77b4\",\"#1f77b4\",\"#dbdb8d\",\"#ffbb78\",\"#1f77b4\",\"#1f77b4\",\"#dbdb8d\",\"#e377c2\",\"#1f77b4\",\"#1f77b4\",\"#c49c94\",\"#8c564b\",\"#98df8a\",\"#8c564b\",\"#bcbd22\",\"#bcbd22\",\"#9467bd\",\"#ffbb78\",\"#d62728\",\"#ffbb78\",\"#c5b0d5\",\"#1f77b4\",\"#1f77b4\",\"#9467bd\",\"#9edae5\",\"#98df8a\",\"#aec7e8\",\"#f7b6d2\",\"#ffbb78\",\"#8c564b\",\"#9edae5\",\"#9467bd\",\"#c7c7c7\",\"#9467bd\",\"#f7b6d2\",\"#c7c7c7\",\"#ff9896\",\"#ffbb78\",\"#98df8a\",\"#98df8a\",\"#c5b0d5\",\"#ff9896\",\"#ff7f0e\",\"#f7b6d2\",\"#9edae5\",\"#9edae5\",\"#c7c7c7\",\"#e377c2\",\"#98df8a\",\"#ffbb78\",\"#e377c2\",\"#9edae5\",\"#aec7e8\",\"#9edae5\",\"#e377c2\",\"#e377c2\",\"#1f77b4\",\"#8c564b\",\"#2ca02c\",\"#98df8a\",\"#c5b0d5\",\"#c5b0d5\",\"#c7c7c7\",\"#2ca02c\",\"#ffbb78\",\"#dbdb8d\",\"#ffbb78\",\"#f7b6d2\",\"#f7b6d2\",\"#d62728\",\"#2ca02c\",\"#e377c2\",\"#98df8a\",\"#dbdb8d\",\"#aec7e8\",\"#1f77b4\",\"#d62728\",\"#ffbb78\",\"#dbdb8d\",\"#dbdb8d\",\"#7f7f7f\",\"#dbdb8d\",\"#ff7f0e\",\"#ff7f0e\",\"#f7b6d2\",\"#c7c7c7\",\"#7f7f7f\",\"#ff9896\",\"#ff7f0e\",\"#17becf\",\"#aec7e8\",\"#aec7e8\",\"#c49c94\",\"#f7b6d2\",\"#98df8a\",\"#2ca02c\",\"#ffbb78\",\"#e377c2\",\"#9467bd\",\"#7f7f7f\",\"#f7b6d2\",\"#e377c2\",\"#f7b6d2\",\"#9467bd\",\"#aec7e8\",\"#98df8a\",\"#f7b6d2\",\"#d62728\",\"#1f77b4\",\"#1f77b4\",\"#9edae5\",\"#ff7f0e\",\"#17becf\",\"#98df8a\",\"#1f77b4\",\"#8c564b\",\"#98df8a\",\"#aec7e8\",\"#ffbb78\",\"#bcbd22\",\"#98df8a\",\"#98df8a\",\"#bcbd22\",\"#8c564b\",\"#7f7f7f\",\"#98df8a\",\"#f7b6d2\",\"#17becf\",\"#1f77b4\",\"#f7b6d2\",\"#e377c2\",\"#c49c94\",\"#1f77b4\",\"#ffbb78\",\"#1f77b4\",\"#c7c7c7\",\"#17becf\",\"#ffbb78\",\"#e377c2\",\"#7f7f7f\",\"#aec7e8\",\"#17becf\",\"#ff7f0e\",\"#17becf\",\"#17becf\",\"#7f7f7f\",\"#7f7f7f\",\"#ff7f0e\",\"#7f7f7f\",\"#ffbb78\",\"#dbdb8d\",\"#dbdb8d\",\"#2ca02c\",\"#c49c94\",\"#c5b0d5\",\"#d62728\",\"#17becf\",\"#ff7f0e\",\"#d62728\",\"#bcbd22\",\"#e377c2\",\"#aec7e8\",\"#c7c7c7\",\"#7f7f7f\",\"#ff7f0e\",\"#1f77b4\",\"#98df8a\",\"#9edae5\",\"#ff7f0e\",\"#9edae5\",\"#1f77b4\",\"#98df8a\",\"#17becf\",\"#9edae5\",\"#f7b6d2\",\"#7f7f7f\",\"#c5b0d5\",\"#c5b0d5\",\"#c49c94\",\"#ff7f0e\",\"#c7c7c7\",\"#ff7f0e\",\"#dbdb8d\",\"#9467bd\",\"#aec7e8\",\"#2ca02c\",\"#2ca02c\",\"#aec7e8\",\"#2ca02c\",\"#2ca02c\",\"#17becf\",\"#7f7f7f\",\"#dbdb8d\",\"#dbdb8d\",\"#9467bd\",\"#e377c2\",\"#17becf\",\"#9467bd\",\"#1f77b4\",\"#98df8a\",\"#dbdb8d\",\"#ffbb78\",\"#f7b6d2\",\"#17becf\",\"#aec7e8\",\"#98df8a\",\"#9edae5\",\"#9467bd\",\"#c7c7c7\",\"#e377c2\",\"#aec7e8\",\"#9edae5\",\"#1f77b4\",\"#ffbb78\",\"#2ca02c\",\"#f7b6d2\",\"#98df8a\",\"#98df8a\",\"#dbdb8d\",\"#c7c7c7\",\"#dbdb8d\",\"#dbdb8d\",\"#aec7e8\",\"#ff9896\",\"#9467bd\",\"#7f7f7f\",\"#c7c7c7\",\"#d62728\",\"#f7b6d2\",\"#2ca02c\",\"#9467bd\",\"#aec7e8\",\"#ffbb78\",\"#ffbb78\",\"#1f77b4\",\"#9edae5\",\"#2ca02c\",\"#dbdb8d\",\"#f7b6d2\",\"#c7c7c7\",\"#e377c2\",\"#aec7e8\",\"#ff9896\",\"#98df8a\",\"#17becf\",\"#f7b6d2\",\"#2ca02c\",\"#ff9896\",\"#ff9896\",\"#ff9896\",\"#aec7e8\",\"#ffbb78\",\"#17becf\",\"#dbdb8d\",\"#c49c94\",\"#9edae5\",\"#bcbd22\",\"#dbdb8d\",\"#aec7e8\",\"#ffbb78\",\"#c5b0d5\",\"#ffbb78\",\"#e377c2\",\"#e377c2\",\"#e377c2\",\"#dbdb8d\",\"#d62728\",\"#dbdb8d\",\"#bcbd22\",\"#c49c94\",\"#7f7f7f\",\"#bcbd22\",\"#e377c2\",\"#d62728\",\"#c5b0d5\",\"#17becf\",\"#d62728\",\"#bcbd22\",\"#e377c2\",\"#ff9896\",\"#aec7e8\",\"#7f7f7f\",\"#ffbb78\",\"#d62728\",\"#f7b6d2\",\"#e377c2\",\"#9467bd\",\"#2ca02c\",\"#ff7f0e\",\"#e377c2\",\"#17becf\",\"#ff7f0e\",\"#98df8a\",\"#ff7f0e\",\"#f7b6d2\",\"#9467bd\",\"#e377c2\",\"#e377c2\",\"#ff7f0e\",\"#ffbb78\",\"#17becf\",\"#2ca02c\",\"#dbdb8d\",\"#f7b6d2\",\"#f7b6d2\",\"#c5b0d5\",\"#dbdb8d\",\"#c49c94\",\"#d62728\",\"#2ca02c\",\"#8c564b\",\"#c49c94\",\"#ffbb78\",\"#e377c2\",\"#e377c2\",\"#98df8a\",\"#e377c2\",\"#98df8a\",\"#c7c7c7\",\"#2ca02c\",\"#e377c2\",\"#1f77b4\",\"#2ca02c\",\"#1f77b4\",\"#c7c7c7\",\"#bcbd22\",\"#c49c94\",\"#98df8a\",\"#ffbb78\",\"#aec7e8\",\"#9edae5\",\"#c49c94\",\"#dbdb8d\",\"#aec7e8\",\"#ff9896\",\"#aec7e8\",\"#aec7e8\",\"#c49c94\",\"#e377c2\",\"#dbdb8d\",\"#c49c94\",\"#ff9896\",\"#1f77b4\",\"#c49c94\",\"#2ca02c\",\"#7f7f7f\",\"#1f77b4\",\"#c49c94\",\"#ff7f0e\",\"#e377c2\",\"#8c564b\",\"#17becf\",\"#ff7f0e\",\"#ff7f0e\",\"#c7c7c7\",\"#9467bd\",\"#98df8a\",\"#9467bd\",\"#c7c7c7\",\"#c7c7c7\",\"#98df8a\",\"#c49c94\",\"#dbdb8d\",\"#ff7f0e\",\"#ff7f0e\",\"#d62728\",\"#ff7f0e\",\"#9467bd\",\"#ff7f0e\",\"#98df8a\",\"#98df8a\",\"#dbdb8d\",\"#e377c2\",\"#e377c2\",\"#9467bd\",\"#98df8a\",\"#8c564b\",\"#ffbb78\",\"#e377c2\",\"#9edae5\",\"#ffbb78\",\"#f7b6d2\",\"#d62728\",\"#8c564b\",\"#c5b0d5\",\"#dbdb8d\",\"#7f7f7f\",\"#9467bd\",\"#ff7f0e\",\"#8c564b\",\"#bcbd22\",\"#dbdb8d\",\"#98df8a\",\"#bcbd22\",\"#17becf\",\"#ffbb78\",\"#aec7e8\",\"#c49c94\",\"#ff9896\",\"#ffbb78\",\"#98df8a\",\"#9edae5\",\"#7f7f7f\",\"#9edae5\",\"#bcbd22\",\"#aec7e8\",\"#bcbd22\",\"#c49c94\",\"#e377c2\",\"#ff9896\",\"#aec7e8\",\"#e377c2\",\"#ff9896\",\"#bcbd22\",\"#dbdb8d\",\"#aec7e8\",\"#c5b0d5\",\"#ffbb78\",\"#17becf\",\"#ff7f0e\",\"#e377c2\",\"#ffbb78\",\"#f7b6d2\",\"#ffbb78\",\"#f7b6d2\",\"#f7b6d2\",\"#ff9896\",\"#e377c2\",\"#bcbd22\",\"#ffbb78\",\"#ffbb78\",\"#bcbd22\",\"#ffbb78\",\"#7f7f7f\",\"#7f7f7f\",\"#c49c94\",\"#7f7f7f\",\"#2ca02c\",\"#f7b6d2\",\"#7f7f7f\",\"#e377c2\",\"#c49c94\",\"#ffbb78\",\"#17becf\",\"#aec7e8\",\"#bcbd22\",\"#dbdb8d\",\"#bcbd22\",\"#aec7e8\",\"#bcbd22\",\"#bcbd22\",\"#ff9896\",\"#dbdb8d\",\"#7f7f7f\",\"#d62728\",\"#bcbd22\",\"#c49c94\",\"#dbdb8d\",\"#c49c94\",\"#bcbd22\",\"#2ca02c\",\"#c49c94\",\"#aec7e8\",\"#ffbb78\",\"#ff9896\",\"#c49c94\",\"#d62728\",\"#bcbd22\",\"#8c564b\",\"#2ca02c\",\"#9467bd\",\"#bcbd22\",\"#ffbb78\",\"#dbdb8d\",\"#c49c94\",\"#ff9896\",\"#dbdb8d\",\"#bcbd22\",\"#7f7f7f\",\"#7f7f7f\",\"#98df8a\",\"#f7b6d2\",\"#aec7e8\",\"#aec7e8\",\"#9edae5\",\"#98df8a\",\"#1f77b4\",\"#ffbb78\",\"#9edae5\",\"#98df8a\",\"#98df8a\",\"#98df8a\",\"#ff7f0e\",\"#ffbb78\",\"#17becf\",\"#aec7e8\",\"#7f7f7f\",\"#aec7e8\",\"#7f7f7f\",\"#7f7f7f\",\"#dbdb8d\",\"#dbdb8d\",\"#aec7e8\",\"#bcbd22\",\"#ffbb78\",\"#bcbd22\",\"#98df8a\",\"#dbdb8d\",\"#aec7e8\",\"#ff7f0e\",\"#d62728\",\"#d62728\",\"#e377c2\",\"#98df8a\",\"#aec7e8\",\"#7f7f7f\",\"#aec7e8\",\"#c49c94\",\"#7f7f7f\",\"#d62728\",\"#c5b0d5\",\"#c49c94\",\"#c49c94\",\"#dbdb8d\",\"#dbdb8d\",\"#ff9896\",\"#d62728\",\"#bcbd22\",\"#bcbd22\",\"#aec7e8\",\"#aec7e8\",\"#dbdb8d\",\"#c49c94\",\"#dbdb8d\",\"#e377c2\",\"#dbdb8d\",\"#7f7f7f\",\"#aec7e8\",\"#dbdb8d\",\"#dbdb8d\",\"#dbdb8d\",\"#c49c94\",\"#8c564b\",\"#d62728\",\"#c5b0d5\",\"#c49c94\",\"#bcbd22\",\"#c49c94\",\"#ff9896\",\"#d62728\",\"#c5b0d5\",\"#dbdb8d\",\"#8c564b\",\"#c5b0d5\",\"#aec7e8\",\"#bcbd22\",\"#ff9896\",\"#d62728\",\"#ff9896\",\"#d62728\",\"#e377c2\",\"#9edae5\",\"#7f7f7f\",\"#7f7f7f\",\"#c5b0d5\",\"#dbdb8d\",\"#bcbd22\",\"#c49c94\",\"#dbdb8d\",\"#bcbd22\",\"#ff7f0e\",\"#1f77b4\",\"#9467bd\",\"#9edae5\",\"#9edae5\",\"#e377c2\",\"#c49c94\",\"#9467bd\",\"#e377c2\",\"#ff9896\",\"#17becf\",\"#ffbb78\",\"#9edae5\",\"#9edae5\",\"#1f77b4\",\"#1f77b4\",\"#9edae5\",\"#bcbd22\",\"#ff7f0e\",\"#ffbb78\",\"#c7c7c7\",\"#9467bd\",\"#ff7f0e\",\"#c7c7c7\",\"#f7b6d2\",\"#ff7f0e\",\"#e377c2\",\"#17becf\",\"#bcbd22\",\"#e377c2\",\"#ffbb78\",\"#dbdb8d\",\"#1f77b4\",\"#aec7e8\",\"#dbdb8d\",\"#dbdb8d\",\"#ff7f0e\",\"#2ca02c\",\"#ff9896\",\"#9467bd\",\"#1f77b4\",\"#ff9896\",\"#c49c94\",\"#2ca02c\",\"#dbdb8d\",\"#98df8a\",\"#c7c7c7\",\"#aec7e8\",\"#aec7e8\",\"#8c564b\",\"#ffbb78\",\"#c49c94\",\"#8c564b\",\"#ff9896\",\"#e377c2\",\"#f7b6d2\",\"#ffbb78\",\"#1f77b4\",\"#c7c7c7\",\"#e377c2\",\"#98df8a\",\"#aec7e8\",\"#98df8a\",\"#98df8a\",\"#98df8a\",\"#ff7f0e\",\"#ffbb78\",\"#c5b0d5\",\"#17becf\",\"#aec7e8\",\"#bcbd22\",\"#ff7f0e\",\"#aec7e8\",\"#aec7e8\",\"#98df8a\",\"#17becf\",\"#7f7f7f\",\"#17becf\",\"#7f7f7f\",\"#aec7e8\",\"#ff9896\",\"#2ca02c\",\"#f7b6d2\",\"#e377c2\",\"#8c564b\",\"#c49c94\",\"#dbdb8d\",\"#17becf\",\"#c49c94\",\"#98df8a\",\"#c7c7c7\",\"#2ca02c\",\"#aec7e8\",\"#c49c94\",\"#9467bd\",\"#c7c7c7\",\"#9467bd\",\"#c7c7c7\",\"#98df8a\",\"#17becf\",\"#9edae5\",\"#9467bd\",\"#2ca02c\",\"#9467bd\",\"#9edae5\",\"#9edae5\",\"#aec7e8\",\"#9edae5\",\"#c7c7c7\",\"#98df8a\",\"#98df8a\",\"#e377c2\",\"#ff7f0e\",\"#e377c2\",\"#2ca02c\",\"#ff7f0e\",\"#ff9896\",\"#e377c2\",\"#1f77b4\",\"#f7b6d2\",\"#e377c2\",\"#aec7e8\",\"#2ca02c\",\"#7f7f7f\",\"#c7c7c7\",\"#c7c7c7\",\"#ff7f0e\",\"#c7c7c7\",\"#c7c7c7\",\"#c7c7c7\",\"#2ca02c\",\"#2ca02c\",\"#9467bd\",\"#1f77b4\",\"#c7c7c7\",\"#9467bd\",\"#c49c94\",\"#9edae5\",\"#17becf\",\"#2ca02c\",\"#f7b6d2\",\"#8c564b\",\"#7f7f7f\",\"#ff7f0e\",\"#7f7f7f\",\"#9edae5\",\"#ff7f0e\",\"#aec7e8\",\"#f7b6d2\",\"#17becf\",\"#ffbb78\",\"#ffbb78\",\"#dbdb8d\",\"#17becf\",\"#7f7f7f\",\"#ff7f0e\",\"#7f7f7f\",\"#bcbd22\",\"#dbdb8d\",\"#2ca02c\",\"#98df8a\",\"#dbdb8d\",\"#17becf\",\"#c7c7c7\",\"#e377c2\",\"#c5b0d5\",\"#dbdb8d\",\"#ff7f0e\",\"#17becf\",\"#9edae5\",\"#98df8a\",\"#9edae5\",\"#ff9896\",\"#ffbb78\",\"#ff7f0e\",\"#9467bd\",\"#dbdb8d\",\"#bcbd22\",\"#9edae5\",\"#17becf\",\"#9edae5\",\"#e377c2\",\"#dbdb8d\",\"#bcbd22\",\"#98df8a\",\"#bcbd22\",\"#98df8a\",\"#d62728\",\"#d62728\",\"#ff7f0e\",\"#17becf\",\"#1f77b4\",\"#c7c7c7\",\"#7f7f7f\",\"#9467bd\",\"#e377c2\",\"#c7c7c7\",\"#9467bd\",\"#e377c2\",\"#9edae5\",\"#9edae5\",\"#98df8a\",\"#2ca02c\",\"#9467bd\",\"#9edae5\",\"#ff9896\",\"#ff7f0e\",\"#f7b6d2\",\"#7f7f7f\",\"#7f7f7f\",\"#ff7f0e\",\"#e377c2\",\"#ff7f0e\",\"#9467bd\",\"#ff7f0e\",\"#7f7f7f\",\"#c49c94\",\"#ffbb78\",\"#9edae5\",\"#bcbd22\",\"#17becf\",\"#e377c2\",\"#ff9896\",\"#ffbb78\",\"#bcbd22\",\"#7f7f7f\",\"#bcbd22\",\"#dbdb8d\",\"#c5b0d5\",\"#9edae5\",\"#dbdb8d\",\"#98df8a\",\"#ff7f0e\",\"#98df8a\",\"#98df8a\",\"#2ca02c\",\"#dbdb8d\",\"#e377c2\",\"#17becf\",\"#d62728\",\"#c5b0d5\",\"#2ca02c\",\"#e377c2\",\"#aec7e8\",\"#98df8a\",\"#c49c94\",\"#aec7e8\",\"#1f77b4\",\"#bcbd22\",\"#c7c7c7\",\"#ff7f0e\",\"#9467bd\",\"#aec7e8\",\"#bcbd22\",\"#7f7f7f\",\"#aec7e8\",\"#ff7f0e\",\"#aec7e8\",\"#c7c7c7\",\"#98df8a\",\"#dbdb8d\",\"#ffbb78\",\"#9467bd\",\"#c7c7c7\",\"#17becf\",\"#aec7e8\",\"#17becf\",\"#9edae5\",\"#1f77b4\",\"#8c564b\",\"#c49c94\",\"#98df8a\",\"#c7c7c7\",\"#2ca02c\",\"#aec7e8\",\"#f7b6d2\",\"#98df8a\",\"#ffbb78\",\"#2ca02c\",\"#98df8a\",\"#ffbb78\",\"#7f7f7f\",\"#7f7f7f\",\"#9467bd\",\"#aec7e8\",\"#9edae5\",\"#c49c94\",\"#dbdb8d\",\"#aec7e8\",\"#17becf\",\"#dbdb8d\",\"#8c564b\",\"#f7b6d2\",\"#e377c2\",\"#ff9896\",\"#c49c94\",\"#9edae5\",\"#c7c7c7\",\"#17becf\",\"#aec7e8\",\"#1f77b4\",\"#dbdb8d\",\"#98df8a\",\"#2ca02c\",\"#ff9896\",\"#9467bd\",\"#c7c7c7\",\"#98df8a\",\"#ff7f0e\",\"#c7c7c7\",\"#dbdb8d\",\"#98df8a\",\"#2ca02c\",\"#dbdb8d\",\"#2ca02c\",\"#c7c7c7\",\"#ff7f0e\",\"#1f77b4\",\"#17becf\",\"#c7c7c7\",\"#7f7f7f\",\"#9467bd\",\"#8c564b\",\"#aec7e8\",\"#ff7f0e\",\"#98df8a\",\"#98df8a\",\"#98df8a\",\"#c7c7c7\",\"#9edae5\",\"#f7b6d2\",\"#17becf\",\"#ff7f0e\",\"#dbdb8d\",\"#dbdb8d\",\"#dbdb8d\",\"#e377c2\",\"#dbdb8d\",\"#9edae5\",\"#9467bd\",\"#bcbd22\",\"#ff9896\",\"#aec7e8\",\"#ff9896\",\"#aec7e8\",\"#dbdb8d\",\"#ff7f0e\",\"#f7b6d2\",\"#c7c7c7\",\"#c5b0d5\",\"#ff9896\",\"#c49c94\",\"#ff7f0e\",\"#7f7f7f\",\"#c49c94\",\"#c5b0d5\",\"#ff7f0e\",\"#98df8a\",\"#dbdb8d\",\"#ffbb78\",\"#f7b6d2\",\"#e377c2\",\"#9467bd\",\"#9467bd\",\"#c49c94\",\"#c5b0d5\",\"#aec7e8\",\"#c7c7c7\",\"#ff7f0e\",\"#9467bd\",\"#ff7f0e\",\"#aec7e8\",\"#2ca02c\",\"#ff9896\",\"#ff9896\",\"#bcbd22\",\"#17becf\",\"#ffbb78\",\"#e377c2\",\"#d62728\",\"#e377c2\",\"#8c564b\",\"#aec7e8\",\"#ff9896\",\"#9edae5\",\"#7f7f7f\",\"#2ca02c\",\"#7f7f7f\",\"#17becf\",\"#2ca02c\",\"#ff7f0e\",\"#e377c2\",\"#dbdb8d\",\"#bcbd22\",\"#ff7f0e\",\"#e377c2\",\"#ff7f0e\",\"#dbdb8d\",\"#ffbb78\",\"#ff7f0e\",\"#aec7e8\",\"#17becf\",\"#f7b6d2\",\"#98df8a\",\"#bcbd22\",\"#d62728\",\"#ff7f0e\",\"#aec7e8\",\"#ffbb78\",\"#ffbb78\",\"#e377c2\",\"#2ca02c\",\"#ffbb78\",\"#bcbd22\",\"#bcbd22\",\"#bcbd22\",\"#c7c7c7\",\"#ffbb78\",\"#9edae5\",\"#1f77b4\",\"#9467bd\",\"#f7b6d2\",\"#17becf\",\"#aec7e8\",\"#dbdb8d\",\"#f7b6d2\",\"#17becf\",\"#98df8a\",\"#ff7f0e\",\"#98df8a\",\"#2ca02c\",\"#7f7f7f\",\"#bcbd22\",\"#2ca02c\",\"#e377c2\",\"#98df8a\",\"#98df8a\",\"#2ca02c\",\"#d62728\",\"#f7b6d2\",\"#c7c7c7\",\"#e377c2\",\"#98df8a\",\"#9edae5\",\"#e377c2\",\"#9edae5\",\"#1f77b4\",\"#e377c2\",\"#1f77b4\",\"#1f77b4\",\"#1f77b4\",\"#bcbd22\",\"#1f77b4\",\"#ff7f0e\",\"#c7c7c7\",\"#9edae5\",\"#ff7f0e\",\"#ffbb78\",\"#98df8a\",\"#c7c7c7\",\"#dbdb8d\",\"#bcbd22\",\"#ffbb78\",\"#f7b6d2\",\"#9edae5\",\"#17becf\",\"#bcbd22\",\"#ffbb78\",\"#98df8a\",\"#98df8a\",\"#e377c2\",\"#c7c7c7\",\"#f7b6d2\",\"#c7c7c7\",\"#8c564b\",\"#dbdb8d\",\"#9edae5\",\"#ffbb78\",\"#f7b6d2\",\"#f7b6d2\",\"#ffbb78\",\"#17becf\"],\"names\":[\"dollar\",\"formula\",\"pound\",\"quote\",\"ability\",\"absence\",\"abuse\",\"acceptance\",\"access\",\"accident\",\"accommodation\",\"account\",\"accountant\",\"accuracy\",\"achievement\",\"acid\",\"acquisition\",\"acre\",\"action\",\"activity\",\"actor\",\"adam\",\"addition\",\"address\",\"administration\",\"admission\",\"adoption\",\"adult\",\"advance\",\"advantage\",\"advertisement\",\"advertising\",\"advice\",\"adviser\",\"affair\",\"africa\",\"afternoon\",\"agency\",\"agenda\",\"agent\",\"agreement\",\"aircraft\",\"airline\",\"airport\",\"alarm\",\"album\",\"alcohol\",\"alice\",\"allegation\",\"alliance\",\"allocation\",\"allowance\",\"ally\",\"alternative\",\"ambassador\",\"ambition\",\"amendment\",\"america\",\"american\",\"amount\",\"analysis\",\"analyst\",\"angel\",\"anger\",\"angle\",\"animal\",\"ankle\",\"anna\",\"anne\",\"anniversary\",\"announcement\",\"answer\",\"anxiety\",\"apartment\",\"appeal\",\"appearance\",\"apple\",\"applicant\",\"application\",\"appointment\",\"approach\",\"approval\",\"april\",\"architect\",\"architecture\",\"area\",\"argument\",\"army\",\"arrangement\",\"array\",\"arrest\",\"arrival\",\"arrow\",\"article\",\"artist\",\"aspect\",\"assault\",\"assembly\",\"assessment\",\"asset\",\"assistance\",\"assistant\",\"association\",\"assumption\",\"athelstan\",\"atmosphere\",\"attack\",\"attempt\",\"attention\",\"attitude\",\"attraction\",\"audience\",\"auditor\",\"australia\",\"author\",\"authority\",\"autumn\",\"availability\",\"average\",\"award\",\"awareness\",\"baby\",\"back\",\"background\",\"bacterium\",\"baker\",\"balance\",\"ball\",\"band\",\"bank\",\"barrel\",\"barrier\",\"base\",\"basis\",\"basket\",\"bath\",\"bathroom\",\"battery\",\"battle\",\"beach\",\"beam\",\"beauty\",\"bedroom\",\"beer\",\"beginning\",\"behaviour\",\"being\",\"belief\",\"bell\",\"belt\",\"bench\",\"benefit\",\"benjamin\",\"best\",\"bias\",\"bible\",\"bike\",\"bill\",\"bird\",\"birth\",\"birthday\",\"bishop\",\"black\",\"blade\",\"blanche\",\"blanket\",\"block\",\"blood\",\"blow\",\"board\",\"boat\",\"body\",\"bomb\",\"bond\",\"bone\",\"book\",\"boom\",\"boot\",\"border\",\"boss\",\"bottle\",\"bottom\",\"boundary\",\"bowl\",\"brain\",\"branch\",\"brand\",\"breach\",\"bread\",\"break\",\"breakfast\",\"breast\",\"breath\",\"breeze\",\"brick\",\"bridge\",\"britain\",\"brother\",\"brow\",\"brown\",\"brush\",\"bucket\",\"budget\",\"building\",\"bulk\",\"bull\",\"bullet\",\"burden\",\"bush\",\"business\",\"button\",\"buyer\",\"cabinet\",\"cable\",\"cake\",\"calculation\",\"call\",\"camera\",\"camp\",\"campaign\",\"canal\",\"cancer\",\"candidate\",\"candle\",\"capability\",\"capacity\",\"capital\",\"captain\",\"card\",\"care\",\"career\",\"caroline\",\"carpet\",\"carriage\",\"carrier\",\"case\",\"cash\",\"cast\",\"castle\",\"catalogue\",\"category\",\"cathedral\",\"cattle\",\"cause\",\"caution\",\"ceiling\",\"cell\",\"centre\",\"century\",\"ceremony\",\"certificate\",\"chain\",\"chair\",\"chairman\",\"challenge\",\"chamber\",\"champagne\",\"champion\",\"championship\",\"chance\",\"chancellor\",\"change\",\"channel\",\"chaos\",\"chapel\",\"chapter\",\"character\",\"characteristic\",\"charge\",\"charity\",\"charles\",\"charlie\",\"chart\",\"charter\",\"check\",\"cheek\",\"chemical\",\"cheque\",\"chest\",\"chief\",\"child\",\"chin\",\"china\",\"chip\",\"choice\",\"christ\",\"christian\",\"church\",\"cigarette\",\"circle\",\"circuit\",\"circumstance\",\"citizen\",\"city\",\"claim\",\"clarke\",\"clash\",\"class\",\"clause\",\"clerk\",\"client\",\"cliff\",\"climate\",\"clinic\",\"clinton\",\"clock\",\"closure\",\"cloth\",\"clothes\",\"cloud\",\"club\",\"cluster\",\"co-operation\",\"coach\",\"coal\",\"coalition\",\"coast\",\"coat\",\"code\",\"coffee\",\"coffin\",\"coin\",\"collapse\",\"collar\",\"colleague\",\"collection\",\"collector\",\"college\",\"colony\",\"colour\",\"column\",\"combination\",\"comfort\",\"command\",\"commander\",\"comment\",\"commentator\",\"commission\",\"commissioner\",\"commitment\",\"committee\",\"communication\",\"community\",\"companion\",\"company\",\"comparison\",\"compensation\",\"competition\",\"competitor\",\"complaint\",\"completion\",\"complex\",\"complexity\",\"compliance\",\"component\",\"composition\",\"compound\",\"compromise\",\"computer\",\"concentration\",\"concept\",\"conception\",\"concern\",\"concert\",\"concession\",\"conclusion\",\"condition\",\"conduct\",\"conference\",\"confidence\",\"conflict\",\"confusion\",\"congress\",\"connection\",\"consciousness\",\"consensus\",\"consent\",\"consequence\",\"conservative\",\"consideration\",\"constable\",\"constituency\",\"constitution\",\"constraint\",\"construction\",\"consultant\",\"consultation\",\"consumer\",\"consumption\",\"contact\",\"container\",\"contempt\",\"content\",\"contents\",\"contest\",\"context\",\"continent\",\"contract\",\"contradiction\",\"contrast\",\"contribution\",\"control\",\"controversy\",\"convention\",\"conversation\",\"conversion\",\"conviction\",\"cook\",\"copy\",\"corbett\",\"core\",\"corner\",\"corp\",\"corporation\",\"corpse\",\"corridor\",\"cost\",\"cottage\",\"council\",\"councillor\",\"count\",\"counter\",\"country\",\"countryside\",\"county\",\"couple\",\"courage\",\"course\",\"court\",\"cousin\",\"cover\",\"coverage\",\"crack\",\"craft\",\"crash\",\"cream\",\"creation\",\"creature\",\"credit\",\"creditor\",\"crew\",\"crime\",\"crisis\",\"criterion\",\"critic\",\"criticism\",\"crop\",\"cross\",\"crowd\",\"crown\",\"culture\",\"cupboard\",\"curiosity\",\"currency\",\"current\",\"curriculum\",\"curtain\",\"curve\",\"custom\",\"customer\",\"cycle\",\"damage\",\"damages\",\"dance\",\"dancer\",\"danger\",\"darkness\",\"database\",\"date\",\"datum\",\"daughter\",\"david\",\"dawn\",\"deal\",\"dealer\",\"death\",\"debate\",\"debt\",\"decade\",\"decision\",\"deck\",\"declaration\",\"decline\",\"decree\",\"defeat\",\"defect\",\"defence\",\"defendant\",\"defender\",\"deficit\",\"definition\",\"degree\",\"delay\",\"delegate\",\"delegation\",\"delight\",\"delivery\",\"demand\",\"democracy\",\"democrat\",\"demonstration\",\"department\",\"departure\",\"deposit\",\"depression\",\"depth\",\"depths\",\"deputy\",\"description\",\"design\",\"designer\",\"desire\",\"desk\",\"destruction\",\"detail\",\"detective\",\"determination\",\"developer\",\"development\",\"device\",\"dialogue\",\"diana\",\"diary\",\"diet\",\"difference\",\"difficulty\",\"dilemma\",\"dimension\",\"dinner\",\"direction\",\"directive\",\"director\",\"disappointment\",\"disaster\",\"disc\",\"discipline\",\"discourse\",\"discovery\",\"discretion\",\"discrimination\",\"discussion\",\"disease\",\"dish\",\"disk\",\"disorder\",\"display\",\"dispute\",\"distance\",\"distinction\",\"distribution\",\"district\",\"dividend\",\"division\",\"doctor\",\"doctrine\",\"document\",\"dollar\",\"domain\",\"door\",\"doorway\",\"dose\",\"doubt\",\"downstairs\",\"draft\",\"drama\",\"draw\",\"drawing\",\"dream\",\"dress\",\"drink\",\"drive\",\"driver\",\"drop\",\"drug\",\"duke\",\"dust\",\"duty\",\"earl\",\"earnings\",\"earth\",\"ease\",\"east\",\"economy\",\"edge\",\"edition\",\"editor\",\"education\",\"edward\",\"effect\",\"effectiveness\",\"efficiency\",\"effort\",\"elbow\",\"election\",\"electricity\",\"element\",\"eliot\",\"elizabeth\",\"embarrassment\",\"embassy\",\"emily\",\"emission\",\"emotion\",\"emperor\",\"emphasis\",\"empire\",\"employee\",\"employer\",\"employment\",\"enemy\",\"energy\",\"engine\",\"engineer\",\"england\",\"english\",\"enquiry\",\"enterprise\",\"enthusiasm\",\"entity\",\"entrance\",\"entry\",\"envelope\",\"environment\",\"episode\",\"equation\",\"equipment\",\"equivalent\",\"error\",\"essay\",\"establishment\",\"estate\",\"estimate\",\"europe\",\"evaluation\",\"evening\",\"event\",\"evidence\",\"evolution\",\"examination\",\"example\",\"excess\",\"exchange\",\"excitement\",\"executive\",\"exercise\",\"exhibition\",\"existence\",\"expansion\",\"expectation\",\"expedition\",\"expenditure\",\"expense\",\"experience\",\"experiment\",\"expert\",\"expertise\",\"explanation\",\"explosion\",\"export\",\"exposure\",\"expression\",\"extension\",\"extent\",\"eyebrow\",\"fabric\",\"face\",\"facility\",\"fact\",\"faction\",\"factor\",\"factory\",\"failure\",\"faith\",\"fall\",\"family\",\"farm\",\"farmer\",\"fashion\",\"fate\",\"father\",\"fault\",\"favour\",\"fear\",\"feature\",\"february\",\"feeling\",\"fellow\",\"female\",\"fence\",\"festival\",\"fibre\",\"field\",\"fight\",\"fighting\",\"figure\",\"file\",\"film\",\"filter\",\"final\",\"finance\",\"finding\",\"finger\",\"fire\",\"firm\",\"fish\",\"fist\",\"flag\",\"flame\",\"flat\",\"flavour\",\"fleet\",\"flesh\",\"flight\",\"flood\",\"floor\",\"flow\",\"flower\",\"focus\",\"food\",\"foot\",\"football\",\"force\",\"ford\",\"forehead\",\"forest\",\"form\",\"format\",\"formation\",\"formula\",\"fortune\",\"forward\",\"foundation\",\"fraction\",\"fragment\",\"frame\",\"framework\",\"france\",\"francis\",\"freedom\",\"french\",\"frequency\",\"friend\",\"friendship\",\"front\",\"fruit\",\"frustration\",\"fuel\",\"function\",\"fund\",\"furniture\",\"future\",\"gain\",\"gallery\",\"game\",\"gang\",\"garage\",\"garden\",\"garment\",\"gate\",\"gaze\",\"gear\",\"gene\",\"generation\",\"gentleman\",\"george\",\"german\",\"germany\",\"gesture\",\"ghost\",\"gift\",\"girl\",\"glance\",\"glass\",\"glimpse\",\"glory\",\"glove\",\"goal\",\"gold\",\"goods\",\"gorbachev\",\"government\",\"governor\",\"grade\",\"graham\",\"grain\",\"grant\",\"grass\",\"grave\",\"green\",\"grin\",\"grip\",\"ground\",\"grounds\",\"group\",\"growth\",\"guard\",\"guest\",\"guidance\",\"guide\",\"guideline\",\"guilt\",\"guitar\",\"gulf\",\"habit\",\"hair\",\"half\",\"hall\",\"hand\",\"handful\",\"handle\",\"happiness\",\"harm\",\"harry\",\"head\",\"headline\",\"headquarters\",\"health\",\"heap\",\"hearing\",\"heart\",\"heat\",\"heaven\",\"heel\",\"height\",\"helen\",\"helicopter\",\"hell\",\"help\",\"henry\",\"hero\",\"hierarchy\",\"hill\",\"hint\",\"historian\",\"history\",\"hitler\",\"hold\",\"holder\",\"holding\",\"hole\",\"holiday\",\"home\",\"honour\",\"hook\",\"hope\",\"horizon\",\"horn\",\"horror\",\"horse\",\"hospital\",\"host\",\"hostility\",\"hotel\",\"hour\",\"house\",\"household\",\"housing\",\"howard\",\"human\",\"hundred\",\"hunt\",\"husband\",\"hypothesis\",\"idea\",\"ideal\",\"identification\",\"identity\",\"ideology\",\"illness\",\"image\",\"imagination\",\"impact\",\"implementation\",\"implication\",\"import\",\"importance\",\"impression\",\"improvement\",\"impulse\",\"incentive\",\"inch\",\"incidence\",\"incident\",\"income\",\"increase\",\"independence\",\"index\",\"india\",\"individual\",\"industry\",\"inequality\",\"infection\",\"inflation\",\"influence\",\"information\",\"ingredient\",\"inhabitant\",\"initiative\",\"injunction\",\"injury\",\"innovation\",\"input\",\"inquiry\",\"insect\",\"insider\",\"insight\",\"inspection\",\"inspector\",\"instance\",\"instinct\",\"institute\",\"institution\",\"instruction\",\"instrument\",\"insurance\",\"integration\",\"intelligence\",\"intensity\",\"intention\",\"interaction\",\"interest\",\"interface\",\"interior\",\"interpretation\",\"interval\",\"intervention\",\"interview\",\"introduction\",\"invasion\",\"investigation\",\"investment\",\"investor\",\"invitation\",\"involvement\",\"iraq\",\"ireland\",\"isabel\",\"island\",\"isolation\",\"israel\",\"issue\",\"italy\",\"item\",\"jack\",\"jacket\",\"jackson\",\"james\",\"jane\",\"japan\",\"jesus\",\"john\",\"johnson\",\"joint\",\"joke\",\"jones\",\"joseph\",\"journal\",\"journalist\",\"journey\",\"judge\",\"judgement\",\"judgment\",\"juice\",\"june\",\"jurisdiction\",\"jury\",\"justice\",\"kate\",\"kelly\",\"kick\",\"killer\",\"killing\",\"kind\",\"king\",\"kingdom\",\"kinnock\",\"kiss\",\"kitchen\",\"knee\",\"knife\",\"knight\",\"knot\",\"knowledge\",\"kong\",\"label\",\"laboratory\",\"labour\",\"lack\",\"ladder\",\"lady\",\"lake\",\"lamb\",\"lamp\",\"land\",\"landing\",\"landlord\",\"landscape\",\"lane\",\"language\",\"laugh\",\"laughter\",\"launch\",\"laura\",\"lawyer\",\"layer\",\"lead\",\"leader\",\"leadership\",\"leaf\",\"leaflet\",\"league\",\"lease\",\"lecture\",\"leeds\",\"left\",\"legislation\",\"length\",\"lesson\",\"let\",\"letter\",\"level\",\"lewis\",\"liability\",\"library\",\"licence\",\"life\",\"lifespan\",\"lifetime\",\"lift\",\"light\",\"lily\",\"limb\",\"limit\",\"limitation\",\"line\",\"link\",\"links\",\"list\",\"literature\",\"liverpool\",\"living\",\"load\",\"loan\",\"location\",\"lock\",\"logic\",\"london\",\"look\",\"lord\",\"lorry\",\"loss\",\"love\",\"lover\",\"loyalty\",\"lucy\",\"luke\",\"lunch\",\"machine\",\"machinery\",\"magazine\",\"maggie\",\"magistrate\",\"mail\",\"maintenance\",\"major\",\"majority\",\"maker\",\"male\",\"management\",\"manager\",\"manner\",\"manufacturer\",\"march\",\"margin\",\"marie\",\"mark\",\"market\",\"marriage\",\"martin\",\"marx\",\"mary\",\"mask\",\"mass\",\"master\",\"match\",\"material\",\"matter\",\"maximum\",\"meal\",\"meaning\",\"means\",\"measure\",\"measurement\",\"meat\",\"mechanism\",\"medal\",\"media\",\"medicine\",\"medium\",\"meeting\",\"member\",\"membership\",\"memory\",\"menu\",\"merger\",\"merit\",\"mess\",\"message\",\"metal\",\"method\",\"metre\",\"michael\",\"middle\",\"mile\",\"milk\",\"mill\",\"miller\",\"million\",\"mind\",\"mine\",\"miner\",\"minimum\",\"minister\",\"ministry\",\"minority\",\"minute\",\"mirror\",\"missile\",\"mission\",\"mist\",\"mistake\",\"mixture\",\"mode\",\"model\",\"module\",\"molecule\",\"moment\",\"momentum\",\"money\",\"monopoly\",\"monster\",\"month\",\"mood\",\"moon\",\"morgan\",\"morning\",\"mortgage\",\"moscow\",\"mother\",\"motion\",\"motive\",\"motor\",\"mountain\",\"mouse\",\"mouth\",\"move\",\"movement\",\"movie\",\"mungo\",\"murder\",\"muscle\",\"museum\",\"music\",\"mystery\",\"myth\",\"nail\",\"name\",\"nation\",\"nature\",\"necessity\",\"neck\",\"need\",\"needle\",\"negotiation\",\"neighbour\",\"nerve\",\"nest\",\"network\",\"news\",\"newspaper\",\"nigel\",\"night\",\"noise\",\"norm\",\"north\",\"nose\",\"note\",\"notice\",\"notion\",\"novel\",\"number\",\"nurse\",\"object\",\"objection\",\"objective\",\"obligation\",\"observation\",\"observer\",\"obstacle\",\"occasion\",\"occupation\",\"ocean\",\"offence\",\"offender\",\"offer\",\"office\",\"officer\",\"official\",\"open\",\"opening\",\"operation\",\"operator\",\"opinion\",\"opponent\",\"opportunity\",\"opposition\",\"option\",\"order\",\"organ\",\"organisation\",\"organiser\",\"organism\",\"organization\",\"origin\",\"other\",\"outcome\",\"outline\",\"output\",\"owner\",\"ownership\",\"oxford\",\"pace\",\"pack\",\"package\",\"packet\",\"page\",\"pain\",\"paint\",\"painting\",\"pair\",\"palace\",\"palm\",\"panel\",\"panic\",\"paper\",\"papers\",\"paragraph\",\"parameter\",\"parent\",\"paris\",\"park\",\"parliament\",\"part\",\"participant\",\"participation\",\"particle\",\"partner\",\"partnership\",\"party\",\"pass\",\"passage\",\"passenger\",\"passion\",\"past\",\"patch\",\"path\",\"patient\",\"patrick\",\"pattern\",\"paul\",\"pavement\",\"payment\",\"peace\",\"peak\",\"peasant\",\"penalty\",\"penny\",\"pension\",\"people\",\"percentage\",\"perception\",\"performance\",\"period\",\"permission\",\"person\",\"personality\",\"personnel\",\"perspective\",\"peter\",\"petition\",\"phase\",\"phenomenon\",\"philip\",\"philosophy\",\"phone\",\"photograph\",\"photographer\",\"phrase\",\"picture\",\"piece\",\"pile\",\"pillow\",\"pilot\",\"pint\",\"pipe\",\"pitch\",\"place\",\"plaintiff\",\"plan\",\"plane\",\"planet\",\"planning\",\"plant\",\"plate\",\"platform\",\"play\",\"player\",\"pleasure\",\"plenty\",\"plot\",\"pocket\",\"poem\",\"poet\",\"poetry\",\"point\",\"pole\",\"police\",\"policeman\",\"policy\",\"politician\",\"politics\",\"poll\",\"pollution\",\"pond\",\"pool\",\"pope\",\"popularity\",\"population\",\"port\",\"portfolio\",\"portion\",\"portrait\",\"position\",\"possession\",\"possibility\",\"post\",\"poster\",\"potato\",\"potential\",\"pound\",\"poverty\",\"power\",\"practice\",\"practitioner\",\"prayer\",\"preference\",\"premise\",\"premium\",\"preparation\",\"presence\",\"present\",\"presentation\",\"president\",\"press\",\"pressure\",\"prey\",\"price\",\"pride\",\"priest\",\"prime\",\"prince\",\"princess\",\"principle\",\"print\",\"priority\",\"prison\",\"prisoner\",\"privilege\",\"prize\",\"problem\",\"procedure\",\"proceedings\",\"process\",\"processor\",\"producer\",\"product\",\"production\",\"profession\",\"professional\",\"profile\",\"profit\",\"program\",\"programme\",\"progress\",\"project\",\"promise\",\"promotion\",\"proof\",\"property\",\"proportion\",\"proposal\",\"proposition\",\"prosecution\",\"prospect\",\"prospects\",\"protection\",\"protein\",\"protest\",\"protocol\",\"province\",\"provision\",\"public\",\"publication\",\"publicity\",\"publisher\",\"pulse\",\"punch\",\"punishment\",\"pupil\",\"purchase\",\"purchaser\",\"purpose\",\"pursuit\",\"qualification\",\"quality\",\"quantity\",\"quarter\",\"queen\",\"question\",\"questionnaire\",\"rabbit\",\"race\",\"rachel\",\"radio\",\"rage\",\"raid\",\"rail\",\"railway\",\"rain\",\"rally\",\"range\",\"rank\",\"rate\",\"rating\",\"ratio\",\"reaction\",\"reader\",\"reading\",\"reality\",\"reason\",\"rebel\",\"receipt\",\"receiver\",\"reception\",\"recession\",\"recipe\",\"recognition\",\"recommendation\",\"record\",\"recording\",\"recovery\",\"reduction\",\"reference\",\"referendum\",\"reflection\",\"reform\",\"refugee\",\"refusal\",\"regime\",\"region\",\"register\",\"regulation\",\"rejection\",\"relation\",\"relationship\",\"relative\",\"release\",\"relief\",\"religion\",\"remainder\",\"remains\",\"remark\",\"remedy\",\"removal\",\"rent\",\"replacement\",\"reply\",\"report\",\"reporter\",\"representation\",\"representative\",\"republic\",\"reputation\",\"request\",\"requirement\",\"research\",\"researcher\",\"reserve\",\"resident\",\"resignation\",\"resistance\",\"resolution\",\"resource\",\"respect\",\"response\",\"responsibility\",\"rest\",\"restaurant\",\"restriction\",\"result\",\"retirement\",\"return\",\"revenue\",\"review\",\"revolution\",\"reward\",\"rhythm\",\"richard\",\"ride\",\"rider\",\"ridge\",\"right\",\"rights\",\"ring\",\"rise\",\"risk\",\"ritual\",\"rival\",\"river\",\"road\",\"robert\",\"robyn\",\"rock\",\"role\",\"roll\",\"rome\",\"roof\",\"room\",\"root\",\"rope\",\"rose\",\"round\",\"route\",\"routine\",\"rule\",\"rumour\",\"russia\",\"russian\",\"ruth\",\"safety\",\"salary\",\"sale\",\"salt\",\"sample\",\"sanction\",\"sand\",\"sarah\",\"satisfaction\",\"savings\",\"scale\",\"scandal\",\"scene\",\"scent\",\"schedule\",\"scheme\",\"scholar\",\"school\",\"science\",\"scientist\",\"scope\",\"score\",\"scot\",\"scotland\",\"scott\",\"screen\",\"script\",\"seal\",\"search\",\"season\",\"seat\",\"second\",\"seconds\",\"secret\",\"secretary\",\"section\",\"sector\",\"security\",\"seed\",\"selection\",\"self\",\"seller\",\"sensation\",\"sense\",\"senses\",\"sensitivity\",\"sentence\",\"separation\",\"sequence\",\"sergeant\",\"series\",\"servant\",\"service\",\"session\",\"setting\",\"settlement\",\"shadow\",\"shaft\",\"shape\",\"share\",\"shareholder\",\"sheep\",\"sheet\",\"shelf\",\"shell\",\"shelter\",\"shift\",\"ship\",\"shirt\",\"shock\",\"shoe\",\"shop\",\"shore\",\"shortage\",\"shot\",\"shoulder\",\"show\",\"side\",\"sigh\",\"sight\",\"sign\",\"signal\",\"signature\",\"significance\",\"silence\",\"simon\",\"sister\",\"site\",\"situation\",\"size\",\"skill\",\"skin\",\"skirt\",\"sleep\",\"sleeve\",\"slice\",\"slide\",\"slope\",\"smell\",\"smile\",\"smith\",\"smoke\",\"snow\",\"society\",\"sofa\",\"software\",\"soil\",\"soldier\",\"solicitor\",\"solution\",\"song\",\"sort\",\"soul\",\"sound\",\"source\",\"south\",\"space\",\"spain\",\"speaker\",\"specialist\",\"species\",\"specification\",\"specimen\",\"spectrum\",\"speculation\",\"speech\",\"speed\",\"spell\",\"spending\",\"sphere\",\"spine\",\"spirit\",\"spokesman\",\"sport\",\"spot\",\"spread\",\"spring\",\"squad\",\"square\",\"stability\",\"staff\",\"stage\",\"stair\",\"stake\",\"stance\",\"stand\",\"standard\",\"star\",\"start\",\"state\",\"statement\",\"station\",\"statistics\",\"statue\",\"status\",\"statute\",\"stem\",\"step\",\"stephen\",\"stick\",\"stimulus\",\"stitch\",\"stock\",\"stomach\",\"stone\",\"stop\",\"store\",\"storm\",\"story\",\"strain\",\"strand\",\"stranger\",\"strategy\",\"stream\",\"street\",\"strength\",\"stress\",\"stretch\",\"strike\",\"string\",\"strip\",\"stroke\",\"structure\",\"struggle\",\"student\",\"studio\",\"study\",\"stuff\",\"style\",\"subject\",\"subsidiary\",\"subsidy\",\"substance\",\"success\",\"succession\",\"successor\",\"sugar\",\"suggestion\",\"suicide\",\"suit\",\"summer\",\"summit\",\"sunlight\",\"supplier\",\"supplies\",\"supply\",\"support\",\"supporter\",\"surface\",\"surgery\",\"surplus\",\"surprise\",\"survey\",\"survival\",\"susan\",\"suspicion\",\"sweat\",\"switch\",\"sword\",\"symbol\",\"sympathy\",\"symptom\",\"system\",\"table\",\"tactic\",\"tail\",\"tale\",\"talent\",\"talk\",\"tank\",\"tape\",\"target\",\"task\",\"taste\",\"taxi\",\"taylor\",\"teacher\",\"teaching\",\"team\",\"tear\",\"technique\",\"technology\",\"teenager\",\"telephone\",\"television\",\"temperature\",\"temple\",\"tenant\",\"tendency\",\"tension\",\"tent\",\"term\",\"terrace\",\"territory\",\"terror\",\"test\",\"text\",\"thanks\",\"thatcher\",\"theatre\",\"theme\",\"theory\",\"thesis\",\"thief\",\"thigh\",\"thing\",\"thinking\",\"thomas\",\"thought\",\"thousand\",\"thread\",\"threat\",\"throat\",\"thumb\",\"ticket\",\"tide\",\"tile\",\"time\",\"times\",\"tissue\",\"title\",\"tone\",\"tongue\",\"tonne\",\"tony\",\"tool\",\"tooth\",\"topic\",\"torch\",\"tory\",\"total\",\"touch\",\"tour\",\"tourist\",\"tournament\",\"towel\",\"tower\",\"town\",\"trace\",\"track\",\"trade\",\"trading\",\"tradition\",\"traffic\",\"tragedy\",\"trail\",\"train\",\"training\",\"transaction\",\"transfer\",\"transformation\",\"transition\",\"transport\",\"trap\",\"traveller\",\"tray\",\"treasury\",\"treatment\",\"treaty\",\"tree\",\"trend\",\"trial\",\"tribunal\",\"trick\",\"trip\",\"triumph\",\"troops\",\"trophy\",\"trouble\",\"trousers\",\"truck\",\"trust\",\"trustee\",\"truth\",\"tube\",\"tune\",\"tunnel\",\"turn\",\"turnover\",\"type\",\"uncertainty\",\"understanding\",\"unemployment\",\"uniform\",\"union\",\"unit\",\"unity\",\"universe\",\"university\",\"user\",\"validity\",\"valley\",\"value\",\"variable\",\"variation\",\"variety\",\"vehicle\",\"vein\",\"vendor\",\"venture\",\"verdict\",\"verse\",\"version\",\"vessel\",\"victim\",\"victory\",\"video\",\"view\",\"viewer\",\"villa\",\"village\",\"violence\",\"virtue\",\"virus\",\"vision\",\"visit\",\"visitor\",\"voice\",\"volume\",\"volunteer\",\"vote\",\"voter\",\"wages\",\"waist\",\"wales\",\"walk\",\"walker\",\"wall\",\"ward\",\"warmth\",\"warning\",\"warrant\",\"washington\",\"waste\",\"watch\",\"water\",\"waters\",\"wave\",\"weakness\",\"wealth\",\"weapon\",\"weather\",\"week\",\"weekend\",\"weight\",\"welfare\",\"west\",\"wheel\",\"while\",\"whilst\",\"white\",\"whole\",\"wicket\",\"wife\",\"will\",\"william\",\"williams\",\"willie\",\"willingness\",\"wilson\",\"wind\",\"window\",\"wine\",\"wing\",\"winner\",\"winter\",\"wire\",\"wish\",\"withdrawal\",\"witness\",\"woman\",\"wood\",\"word\",\"work\",\"worker\",\"workshop\",\"world\",\"worth\",\"wound\",\"wright\",\"wrist\",\"writer\",\"writing\",\"yard\",\"year\",\"york\",\"youngster\",\"youth\",\"zone\"],\"x1\":{\"__ndarray__\":\"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\",\"dtype\":\"float32\",\"shape\":[1998]},\"x2\":{\"__ndarray__\":\"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\",\"dtype\":\"float32\",\"shape\":[1998]}}},\"id\":\"b9ddef2a-4495-4cc1-a9bb-78813212449d\",\"type\":\"ColumnDataSource\"},{\"attributes\":{\"plot\":null,\"text\":\"T-SNE for most common words\"},\"id\":\"06875b85-e1ef-4336-8d19-b1d150c60f6c\",\"type\":\"Title\"},{\"attributes\":{\"fill_alpha\":{\"value\":0.1},\"fill_color\":{\"value\":\"#1f77b4\"},\"line_alpha\":{\"value\":0.1},\"line_color\":{\"value\":\"#1f77b4\"},\"size\":{\"units\":\"screen\",\"value\":8},\"x\":{\"field\":\"x1\"},\"y\":{\"field\":\"x2\"}},\"id\":\"076e1172-ffaa-4c95-91e3-1370fa74cd92\",\"type\":\"Circle\"},{\"attributes\":{},\"id\":\"23652745-ed1d-4897-922e-89bd037a6615\",\"type\":\"BasicTickFormatter\"},{\"attributes\":{\"plot\":{\"id\":\"65ceafb5-3744-4546-acac-e924063d05b9\",\"subtype\":\"Figure\",\"type\":\"Plot\"},\"source\":{\"id\":\"b9ddef2a-4495-4cc1-a9bb-78813212449d\",\"type\":\"ColumnDataSource\"},\"text\":{\"field\":\"names\"},\"text_align\":\"center\",\"text_color\":{\"value\":\"#555555\"},\"text_font_size\":{\"value\":\"8pt\"},\"x\":{\"field\":\"x1\"},\"y\":{\"field\":\"x2\"},\"y_offset\":{\"value\":6}},\"id\":\"f249cd15-2f72-4fdf-8bc2-d8290e007506\",\"type\":\"LabelSet\"},{\"attributes\":{},\"id\":\"306c8dac-e324-45cb-b1a1-47f3cdbb5ad0\",\"type\":\"SaveTool\"},{\"attributes\":{\"fill_color\":{\"field\":\"colors\"},\"line_color\":{\"field\":\"colors\"},\"size\":{\"units\":\"screen\",\"value\":8},\"x\":{\"field\":\"x1\"},\"y\":{\"field\":\"x2\"}},\"id\":\"8d11c263-aed3-4874-8b56-269c61e11141\",\"type\":\"Circle\"},{\"attributes\":{},\"id\":\"e9f734ca-1ed5-41f1-a6c6-097a7c638f1e\",\"type\":\"LinearScale\"},{\"attributes\":{},\"id\":\"ce7445cd-0d77-4f39-a264-3eb617ee1dd1\",\"type\":\"LinearScale\"},{\"attributes\":{\"callback\":null},\"id\":\"595ab78a-69c6-4427-820e-ada49062f6dd\",\"type\":\"DataRange1d\"},{\"attributes\":{\"formatter\":{\"id\":\"23652745-ed1d-4897-922e-89bd037a6615\",\"type\":\"BasicTickFormatter\"},\"plot\":{\"id\":\"65ceafb5-3744-4546-acac-e924063d05b9\",\"subtype\":\"Figure\",\"type\":\"Plot\"},\"ticker\":{\"id\":\"b85538b4-b988-4709-a7a0-f7802b63ce58\",\"type\":\"BasicTicker\"}},\"id\":\"49aaa71f-e779-4276-bd36-8200964e38ad\",\"type\":\"LinearAxis\"},{\"attributes\":{\"formatter\":{\"id\":\"dc48dafc-3af2-4cc4-a155-997a0bf7374d\",\"type\":\"BasicTickFormatter\"},\"plot\":{\"id\":\"65ceafb5-3744-4546-acac-e924063d05b9\",\"subtype\":\"Figure\",\"type\":\"Plot\"},\"ticker\":{\"id\":\"7c018277-4257-41aa-a691-303459beab7c\",\"type\":\"BasicTicker\"}},\"id\":\"9a64a571-a75a-4988-aeeb-38aebb6bc9f8\",\"type\":\"LinearAxis\"},{\"attributes\":{\"active_drag\":\"auto\",\"active_inspect\":\"auto\",\"active_scroll\":\"auto\",\"active_tap\":\"auto\",\"tools\":[{\"id\":\"9981c1c8-2da2-4621-8be6-daa1c7c2cc51\",\"type\":\"PanTool\"},{\"id\":\"ccc075f0-8a89-4ff0-ad0f-fb8895a991a5\",\"type\":\"WheelZoomTool\"},{\"id\":\"af39be25-3f79-408f-9f4e-16df47275f02\",\"type\":\"ResetTool\"},{\"id\":\"306c8dac-e324-45cb-b1a1-47f3cdbb5ad0\",\"type\":\"SaveTool\"}]},\"id\":\"c53a081c-cf4a-4716-bf4d-a4937be90b50\",\"type\":\"Toolbar\"},{\"attributes\":{},\"id\":\"b85538b4-b988-4709-a7a0-f7802b63ce58\",\"type\":\"BasicTicker\"},{\"attributes\":{},\"id\":\"7c018277-4257-41aa-a691-303459beab7c\",\"type\":\"BasicTicker\"},{\"attributes\":{\"callback\":null},\"id\":\"21a56d5a-1c92-44c6-969d-3b29d2024835\",\"type\":\"DataRange1d\"}],\"root_ids\":[\"65ceafb5-3744-4546-acac-e924063d05b9\"]},\"title\":\"Bokeh Application\",\"version\":\"0.12.10\"}};\n",
       "    var render_items = [{\"docid\":\"458f7199-4d6b-4ce6-bb38-0740a46a30c8\",\"elementid\":\"d593d03f-58d0-472d-8154-20ff4da517f5\",\"modelid\":\"65ceafb5-3744-4546-acac-e924063d05b9\"}];\n",
       "\n",
       "    root.Bokeh.embed.embed_items(docs_json, render_items);\n",
       "  }\n",
       "\n",
       "  if (root.Bokeh !== undefined) {\n",
       "    embed_document(root);\n",
       "  } else {\n",
       "    var attempts = 0;\n",
       "    var timer = setInterval(function(root) {\n",
       "      if (root.Bokeh !== undefined) {\n",
       "        embed_document(root);\n",
       "        clearInterval(timer);\n",
       "      }\n",
       "      attempts++;\n",
       "      if (attempts > 100) {\n",
       "        console.log(\"Bokeh: ERROR: Unable to embed document because BokehJS library is missing\")\n",
       "        clearInterval(timer);\n",
       "      }\n",
       "    }, 10, root)\n",
       "  }\n",
       "})(window);"
      ],
      "application/vnd.bokehjs_exec.v0+json": ""
     },
     "metadata": {
      "application/vnd.bokehjs_exec.v0+json": {
       "id": "65ceafb5-3744-4546-acac-e924063d05b9"
      }
     },
     "output_type": "display_data"
    }
   ],
   "source": [
    "emb_scatter(reduced_vectors_2, freq_nouns, perplexity=30.0, N=20)"
   ]
  },
  {
   "cell_type": "code",
   "execution_count": 35,
   "metadata": {},
   "outputs": [
    {
     "name": "stdout",
     "output_type": "stream",
     "text": [
      "Finding clusters\n",
      "Fitting tsne\n"
     ]
    },
    {
     "data": {
      "text/html": [
       "\n",
       "<div class=\"bk-root\">\n",
       "    <div class=\"bk-plotdiv\" id=\"f2ead6c4-38d9-4033-b34d-1d72cf4aed09\"></div>\n",
       "</div>"
      ]
     },
     "metadata": {},
     "output_type": "display_data"
    },
    {
     "data": {
      "application/javascript": [
       "(function(root) {\n",
       "  function embed_document(root) {\n",
       "    var docs_json = {\"3a9553eb-59f0-462d-bacd-8ec4e5d857f4\":{\"roots\":{\"references\":[{\"attributes\":{\"plot\":{\"id\":\"9ae27f0c-e668-4b51-bb93-8b0d75f08085\",\"subtype\":\"Figure\",\"type\":\"Plot\"},\"ticker\":{\"id\":\"d923f7b8-96bd-4616-a0a8-9f18cddfb244\",\"type\":\"BasicTicker\"}},\"id\":\"54a80e1e-fbb6-42b3-b017-a98c5676926f\",\"type\":\"Grid\"},{\"attributes\":{\"below\":[{\"id\":\"0eb1c9fe-0dc0-41ae-bd86-b5f5e4d2aa49\",\"type\":\"LinearAxis\"}],\"left\":[{\"id\":\"baac565b-0c20-498b-9781-bb4d67adb271\",\"type\":\"LinearAxis\"}],\"renderers\":[{\"id\":\"0eb1c9fe-0dc0-41ae-bd86-b5f5e4d2aa49\",\"type\":\"LinearAxis\"},{\"id\":\"54a80e1e-fbb6-42b3-b017-a98c5676926f\",\"type\":\"Grid\"},{\"id\":\"baac565b-0c20-498b-9781-bb4d67adb271\",\"type\":\"LinearAxis\"},{\"id\":\"33544549-3155-449c-a0a8-6b8a2f58e3fa\",\"type\":\"Grid\"},{\"id\":\"3ef0fc2a-8b15-4763-8348-215db7c18430\",\"type\":\"GlyphRenderer\"},{\"id\":\"89f24ab1-4fe4-4c6f-8cc5-b3453559651f\",\"type\":\"LabelSet\"}],\"title\":{\"id\":\"b738adda-8da1-4474-ad6c-99c557838724\",\"type\":\"Title\"},\"toolbar\":{\"id\":\"8ab8fe45-2caf-49fc-988b-6f0277fa0531\",\"type\":\"Toolbar\"},\"toolbar_location\":\"above\",\"x_range\":{\"id\":\"5931062d-9109-4a30-9aa1-72ccd13cc251\",\"type\":\"DataRange1d\"},\"x_scale\":{\"id\":\"e391e56e-0e7b-4ab5-923d-ef7b5f68e3f4\",\"type\":\"LinearScale\"},\"y_range\":{\"id\":\"c3cc149b-0e14-4560-a828-c5c0b675753c\",\"type\":\"DataRange1d\"},\"y_scale\":{\"id\":\"c01228e1-2054-4615-afde-2437cc0ed357\",\"type\":\"LinearScale\"}},\"id\":\"9ae27f0c-e668-4b51-bb93-8b0d75f08085\",\"subtype\":\"Figure\",\"type\":\"Plot\"},{\"attributes\":{\"dimension\":1,\"plot\":{\"id\":\"9ae27f0c-e668-4b51-bb93-8b0d75f08085\",\"subtype\":\"Figure\",\"type\":\"Plot\"},\"ticker\":{\"id\":\"430f7e41-c302-4a1f-93d6-d4691aea86f5\",\"type\":\"BasicTicker\"}},\"id\":\"33544549-3155-449c-a0a8-6b8a2f58e3fa\",\"type\":\"Grid\"},{\"attributes\":{},\"id\":\"9a93060b-83ab-44d8-848c-fe6187ca493e\",\"type\":\"PanTool\"},{\"attributes\":{},\"id\":\"430f7e41-c302-4a1f-93d6-d4691aea86f5\",\"type\":\"BasicTicker\"},{\"attributes\":{\"source\":{\"id\":\"9ef94ac1-569d-40b0-a9fb-25847f5d2730\",\"type\":\"ColumnDataSource\"}},\"id\":\"cd34c484-c49a-4249-b855-92d72f011664\",\"type\":\"CDSView\"},{\"attributes\":{\"plot\":{\"id\":\"9ae27f0c-e668-4b51-bb93-8b0d75f08085\",\"subtype\":\"Figure\",\"type\":\"Plot\"},\"source\":{\"id\":\"9ef94ac1-569d-40b0-a9fb-25847f5d2730\",\"type\":\"ColumnDataSource\"},\"text\":{\"field\":\"names\"},\"text_align\":\"center\",\"text_color\":{\"value\":\"#555555\"},\"text_font_size\":{\"value\":\"8pt\"},\"x\":{\"field\":\"x1\"},\"y\":{\"field\":\"x2\"},\"y_offset\":{\"value\":6}},\"id\":\"89f24ab1-4fe4-4c6f-8cc5-b3453559651f\",\"type\":\"LabelSet\"},{\"attributes\":{\"formatter\":{\"id\":\"f6d98af2-9b16-43f7-bb70-510d1d53164d\",\"type\":\"BasicTickFormatter\"},\"plot\":{\"id\":\"9ae27f0c-e668-4b51-bb93-8b0d75f08085\",\"subtype\":\"Figure\",\"type\":\"Plot\"},\"ticker\":{\"id\":\"430f7e41-c302-4a1f-93d6-d4691aea86f5\",\"type\":\"BasicTicker\"}},\"id\":\"baac565b-0c20-498b-9781-bb4d67adb271\",\"type\":\"LinearAxis\"},{\"attributes\":{\"formatter\":{\"id\":\"eb697ad1-8715-48e7-9716-480d0db5db90\",\"type\":\"BasicTickFormatter\"},\"plot\":{\"id\":\"9ae27f0c-e668-4b51-bb93-8b0d75f08085\",\"subtype\":\"Figure\",\"type\":\"Plot\"},\"ticker\":{\"id\":\"d923f7b8-96bd-4616-a0a8-9f18cddfb244\",\"type\":\"BasicTicker\"}},\"id\":\"0eb1c9fe-0dc0-41ae-bd86-b5f5e4d2aa49\",\"type\":\"LinearAxis\"},{\"attributes\":{\"callback\":null,\"column_names\":[\"x1\",\"x2\",\"names\",\"colors\"],\"data\":{\"colors\":[\"#2ca02c\",\"#d62728\",\"#2ca02c\",\"#d62728\",\"#1f77b4\",\"#f7b6d2\",\"#f7b6d2\",\"#c5b0d5\",\"#17becf\",\"#d62728\",\"#dbdb8d\",\"#f7b6d2\",\"#98df8a\",\"#9edae5\",\"#ff7f0e\",\"#8c564b\",\"#c5b0d5\",\"#2ca02c\",\"#f7b6d2\",\"#e377c2\",\"#7f7f7f\",\"#bcbd22\",\"#17becf\",\"#f7b6d2\",\"#ff9896\",\"#ff7f0e\",\"#c5b0d5\",\"#d62728\",\"#f7b6d2\",\"#1f77b4\",\"#dbdb8d\",\"#dbdb8d\",\"#ff7f0e\",\"#98df8a\",\"#aec7e8\",\"#aec7e8\",\"#2ca02c\",\"#c49c94\",\"#c5b0d5\",\"#aec7e8\",\"#c5b0d5\",\"#c7c7c7\",\"#dbdb8d\",\"#aec7e8\",\"#c7c7c7\",\"#2ca02c\",\"#17becf\",\"#bcbd22\",\"#f7b6d2\",\"#c49c94\",\"#e377c2\",\"#f7b6d2\",\"#98df8a\",\"#17becf\",\"#98df8a\",\"#ff7f0e\",\"#ff7f0e\",\"#aec7e8\",\"#aec7e8\",\"#9edae5\",\"#e377c2\",\"#c49c94\",\"#2ca02c\",\"#dbdb8d\",\"#8c564b\",\"#c7c7c7\",\"#9467bd\",\"#ffbb78\",\"#ffbb78\",\"#aec7e8\",\"#ff7f0e\",\"#17becf\",\"#1f77b4\",\"#2ca02c\",\"#ff7f0e\",\"#d62728\",\"#2ca02c\",\"#ff7f0e\",\"#e377c2\",\"#ff9896\",\"#9edae5\",\"#c5b0d5\",\"#7f7f7f\",\"#98df8a\",\"#dbdb8d\",\"#d62728\",\"#1f77b4\",\"#aec7e8\",\"#17becf\",\"#8c564b\",\"#c49c94\",\"#c49c94\",\"#9467bd\",\"#17becf\",\"#7f7f7f\",\"#9edae5\",\"#dbdb8d\",\"#c49c94\",\"#c5b0d5\",\"#f7b6d2\"],\"names\":[\"dollar\",\"formula\",\"pound\",\"quote\",\"ability\",\"absence\",\"abuse\",\"acceptance\",\"access\",\"accident\",\"accommodation\",\"account\",\"accountant\",\"accuracy\",\"achievement\",\"acid\",\"acquisition\",\"acre\",\"action\",\"activity\",\"actor\",\"adam\",\"addition\",\"address\",\"administration\",\"admission\",\"adoption\",\"adult\",\"advance\",\"advantage\",\"advertisement\",\"advertising\",\"advice\",\"adviser\",\"affair\",\"africa\",\"afternoon\",\"agency\",\"agenda\",\"agent\",\"agreement\",\"aircraft\",\"airline\",\"airport\",\"alarm\",\"album\",\"alcohol\",\"alice\",\"allegation\",\"alliance\",\"allocation\",\"allowance\",\"ally\",\"alternative\",\"ambassador\",\"ambition\",\"amendment\",\"america\",\"american\",\"amount\",\"analysis\",\"analyst\",\"angel\",\"anger\",\"angle\",\"animal\",\"ankle\",\"anna\",\"anne\",\"anniversary\",\"announcement\",\"answer\",\"anxiety\",\"apartment\",\"appeal\",\"appearance\",\"apple\",\"applicant\",\"application\",\"appointment\",\"approach\",\"approval\",\"april\",\"architect\",\"architecture\",\"area\",\"argument\",\"army\",\"arrangement\",\"array\",\"arrest\",\"arrival\",\"arrow\",\"article\",\"artist\",\"aspect\",\"assault\",\"assembly\",\"assessment\",\"asset\"],\"x1\":{\"__ndarray__\":\"QCWdPVsIVEDQgpW/0Zr/PwsLAEHEQahAhhjEQKzB70B8U8ZAdSKkPxe1TkChR7ZADpojwBCWHkFTNqVA3cUTQD7Q0EB3MEu/NPDdQCLaD0GIQ0fAkL12wLdbd0BUR75AAEXcQDnzsUCb19pAaGjCP5VnoEAb/AJBbNBfQEGiVkDQIJdAew/gv9l8EL8d0u6+O0BBPheKyT/qbNdAI3lkvxwEsUAHCMk/O8jDPwY5uL/W0yRA/JK0Pu83lUALBobApOfTQLTtC0ARywxB9MLYQEEO7r8Vvo9AG74cwFRfqUC8L1VAjqyevxNCd7/1uhRBDAcaQaOsRr/hN/2/srJCQDLVTUCFqs4/2qw1P9z8gMAUMorAOjZWvtTajUDttLpAd93oQDXfsL+XLLtAV2c6QK+3Ir95hotANecdQQyKXD/FBRNB3ajGQE3/CMAbqzrAt4VmQOEPLEDT2QBBk+oevxdhs0D0woJApdytPsC7gD53mOa9snOnQJZeKsDIKBpBiZo9QHYesj/D1etAOQLsQA==\",\"dtype\":\"float32\",\"shape\":[100]},\"x2\":{\"__ndarray__\":\"JoMEwNoT0r/mf0PA8/fYv5fosL0ZBw1AECpAQHodrkDZFW++PY+zv68elb2xL9g/HI9iQMpoLD/8AoJArRyLwGE8i0DFRvu/8riqP6uSsz96rPo/uee3P2Vrhr8Nn0g/nswvwOT/kkCabatABl0RwKi2mz/doJk/9k+OPmaP3T+63ptAhXSNQLYJ0j+HzrI/9ScawG3ae0Csh4pAPiX0P/42tEC93S3AFgKkPy7tvj7NCWbACvhHwDI9EcBNuWw/OFwbQBX+REAZjBdAZ/g+P/UWZkDj97m+mHaEQB86UUAQFWJAtoC2PyUWPT9n1hm/9QgDQP8qR0BjTAvA/Fg3P/v1isAF1WLAMEeQwMOWCkD16+4/puA+PztYkUAAk6g9Ixm+PrIpDMAcRJhA1NYEwFQgNcDdCnRAIYiyP/nimEAk8O4+vg+0QPLAvD/+oFpAmDOtPziVx7+vp2o/F4TTPiDMr7/2i3TAcE9CQEsFGUB0F4jA7oHevncZ+j8NpRc9Mmm6vp3RJUA44pNA2IEoQA==\",\"dtype\":\"float32\",\"shape\":[100]}}},\"id\":\"9ef94ac1-569d-40b0-a9fb-25847f5d2730\",\"type\":\"ColumnDataSource\"},{\"attributes\":{},\"id\":\"746528f1-7597-46bd-8305-d35c30945414\",\"type\":\"WheelZoomTool\"},{\"attributes\":{},\"id\":\"f6d98af2-9b16-43f7-bb70-510d1d53164d\",\"type\":\"BasicTickFormatter\"},{\"attributes\":{\"data_source\":{\"id\":\"9ef94ac1-569d-40b0-a9fb-25847f5d2730\",\"type\":\"ColumnDataSource\"},\"glyph\":{\"id\":\"dd9b7e71-4553-43aa-b9cc-8956a20ace88\",\"type\":\"Circle\"},\"hover_glyph\":null,\"muted_glyph\":null,\"nonselection_glyph\":{\"id\":\"1f34d5eb-bfc5-496f-af17-aac2a12a7b4d\",\"type\":\"Circle\"},\"selection_glyph\":null,\"view\":{\"id\":\"cd34c484-c49a-4249-b855-92d72f011664\",\"type\":\"CDSView\"}},\"id\":\"3ef0fc2a-8b15-4763-8348-215db7c18430\",\"type\":\"GlyphRenderer\"},{\"attributes\":{},\"id\":\"adf7e7a6-f7f0-4218-bdb7-19cd6707c34b\",\"type\":\"ResetTool\"},{\"attributes\":{\"callback\":null},\"id\":\"5931062d-9109-4a30-9aa1-72ccd13cc251\",\"type\":\"DataRange1d\"},{\"attributes\":{\"callback\":null},\"id\":\"c3cc149b-0e14-4560-a828-c5c0b675753c\",\"type\":\"DataRange1d\"},{\"attributes\":{\"fill_color\":{\"field\":\"colors\"},\"line_color\":{\"field\":\"colors\"},\"size\":{\"units\":\"screen\",\"value\":8},\"x\":{\"field\":\"x1\"},\"y\":{\"field\":\"x2\"}},\"id\":\"dd9b7e71-4553-43aa-b9cc-8956a20ace88\",\"type\":\"Circle\"},{\"attributes\":{},\"id\":\"e391e56e-0e7b-4ab5-923d-ef7b5f68e3f4\",\"type\":\"LinearScale\"},{\"attributes\":{\"active_drag\":\"auto\",\"active_inspect\":\"auto\",\"active_scroll\":\"auto\",\"active_tap\":\"auto\",\"tools\":[{\"id\":\"9a93060b-83ab-44d8-848c-fe6187ca493e\",\"type\":\"PanTool\"},{\"id\":\"746528f1-7597-46bd-8305-d35c30945414\",\"type\":\"WheelZoomTool\"},{\"id\":\"adf7e7a6-f7f0-4218-bdb7-19cd6707c34b\",\"type\":\"ResetTool\"},{\"id\":\"7d888df7-23ed-4ce6-880f-6090573b7c15\",\"type\":\"SaveTool\"}]},\"id\":\"8ab8fe45-2caf-49fc-988b-6f0277fa0531\",\"type\":\"Toolbar\"},{\"attributes\":{\"fill_alpha\":{\"value\":0.1},\"fill_color\":{\"value\":\"#1f77b4\"},\"line_alpha\":{\"value\":0.1},\"line_color\":{\"value\":\"#1f77b4\"},\"size\":{\"units\":\"screen\",\"value\":8},\"x\":{\"field\":\"x1\"},\"y\":{\"field\":\"x2\"}},\"id\":\"1f34d5eb-bfc5-496f-af17-aac2a12a7b4d\",\"type\":\"Circle\"},{\"attributes\":{},\"id\":\"c01228e1-2054-4615-afde-2437cc0ed357\",\"type\":\"LinearScale\"},{\"attributes\":{\"plot\":null,\"text\":\"T-SNE for most common words\"},\"id\":\"b738adda-8da1-4474-ad6c-99c557838724\",\"type\":\"Title\"},{\"attributes\":{},\"id\":\"7d888df7-23ed-4ce6-880f-6090573b7c15\",\"type\":\"SaveTool\"},{\"attributes\":{},\"id\":\"d923f7b8-96bd-4616-a0a8-9f18cddfb244\",\"type\":\"BasicTicker\"},{\"attributes\":{},\"id\":\"eb697ad1-8715-48e7-9716-480d0db5db90\",\"type\":\"BasicTickFormatter\"}],\"root_ids\":[\"9ae27f0c-e668-4b51-bb93-8b0d75f08085\"]},\"title\":\"Bokeh Application\",\"version\":\"0.12.10\"}};\n",
       "    var render_items = [{\"docid\":\"3a9553eb-59f0-462d-bacd-8ec4e5d857f4\",\"elementid\":\"f2ead6c4-38d9-4033-b34d-1d72cf4aed09\",\"modelid\":\"9ae27f0c-e668-4b51-bb93-8b0d75f08085\"}];\n",
       "\n",
       "    root.Bokeh.embed.embed_items(docs_json, render_items);\n",
       "  }\n",
       "\n",
       "  if (root.Bokeh !== undefined) {\n",
       "    embed_document(root);\n",
       "  } else {\n",
       "    var attempts = 0;\n",
       "    var timer = setInterval(function(root) {\n",
       "      if (root.Bokeh !== undefined) {\n",
       "        embed_document(root);\n",
       "        clearInterval(timer);\n",
       "      }\n",
       "      attempts++;\n",
       "      if (attempts > 100) {\n",
       "        console.log(\"Bokeh: ERROR: Unable to embed document because BokehJS library is missing\")\n",
       "        clearInterval(timer);\n",
       "      }\n",
       "    }, 10, root)\n",
       "  }\n",
       "})(window);"
      ],
      "application/vnd.bokehjs_exec.v0+json": ""
     },
     "metadata": {
      "application/vnd.bokehjs_exec.v0+json": {
       "id": "9ae27f0c-e668-4b51-bb93-8b0d75f08085"
      }
     },
     "output_type": "display_data"
    },
    {
     "name": "stdout",
     "output_type": "stream",
     "text": [
      "Finding clusters\n",
      "Fitting tsne\n"
     ]
    },
    {
     "data": {
      "text/html": [
       "\n",
       "<div class=\"bk-root\">\n",
       "    <div class=\"bk-plotdiv\" id=\"6de7191e-f84a-439b-9bec-63d3f622977d\"></div>\n",
       "</div>"
      ]
     },
     "metadata": {},
     "output_type": "display_data"
    },
    {
     "data": {
      "application/javascript": [
       "(function(root) {\n",
       "  function embed_document(root) {\n",
       "    var docs_json = {\"4b34a803-36d3-4310-bfd4-16d510cdb7ac\":{\"roots\":{\"references\":[{\"attributes\":{\"formatter\":{\"id\":\"1c86e077-a48b-4eee-9063-8fba4ef04836\",\"type\":\"BasicTickFormatter\"},\"plot\":{\"id\":\"9f52bb16-fbfe-464a-9014-a48d83932a4c\",\"subtype\":\"Figure\",\"type\":\"Plot\"},\"ticker\":{\"id\":\"97d921c4-d28b-4142-877f-2ecff0b9c40e\",\"type\":\"BasicTicker\"}},\"id\":\"e58c7cea-86be-4d3d-8074-95bd156dbaa1\",\"type\":\"LinearAxis\"},{\"attributes\":{\"plot\":null,\"text\":\"T-SNE for most common words\"},\"id\":\"233fc1b3-efed-40e8-82b7-7e4a5b3f695b\",\"type\":\"Title\"},{\"attributes\":{},\"id\":\"461e379b-644a-4526-9de3-e3913cb2dbdb\",\"type\":\"LinearScale\"},{\"attributes\":{\"plot\":{\"id\":\"9f52bb16-fbfe-464a-9014-a48d83932a4c\",\"subtype\":\"Figure\",\"type\":\"Plot\"},\"source\":{\"id\":\"7e14aaa7-7214-4b79-babe-73e5e3189e07\",\"type\":\"ColumnDataSource\"},\"text\":{\"field\":\"names\"},\"text_align\":\"center\",\"text_color\":{\"value\":\"#555555\"},\"text_font_size\":{\"value\":\"8pt\"},\"x\":{\"field\":\"x1\"},\"y\":{\"field\":\"x2\"},\"y_offset\":{\"value\":6}},\"id\":\"ad12cb30-1a6c-41fe-8ed1-cb27bca40792\",\"type\":\"LabelSet\"},{\"attributes\":{\"formatter\":{\"id\":\"e3a88562-8ee7-43e7-a8df-a68022012d1e\",\"type\":\"BasicTickFormatter\"},\"plot\":{\"id\":\"9f52bb16-fbfe-464a-9014-a48d83932a4c\",\"subtype\":\"Figure\",\"type\":\"Plot\"},\"ticker\":{\"id\":\"6a962096-24d9-4871-90ee-128e34930cea\",\"type\":\"BasicTicker\"}},\"id\":\"bd5e9b6c-064f-44c0-977d-f0cdf93303bd\",\"type\":\"LinearAxis\"},{\"attributes\":{},\"id\":\"cba6e0f1-61dc-4a5d-acdc-12b768878d1c\",\"type\":\"ResetTool\"},{\"attributes\":{\"source\":{\"id\":\"7e14aaa7-7214-4b79-babe-73e5e3189e07\",\"type\":\"ColumnDataSource\"}},\"id\":\"0c728313-4cc2-4df7-9ba2-46cdeca82392\",\"type\":\"CDSView\"},{\"attributes\":{},\"id\":\"e3a88562-8ee7-43e7-a8df-a68022012d1e\",\"type\":\"BasicTickFormatter\"},{\"attributes\":{},\"id\":\"c0325322-2dde-4a53-8f11-7cafc232854b\",\"type\":\"LinearScale\"},{\"attributes\":{},\"id\":\"97d921c4-d28b-4142-877f-2ecff0b9c40e\",\"type\":\"BasicTicker\"},{\"attributes\":{},\"id\":\"19d596fc-8406-4178-b66d-90d291eddc04\",\"type\":\"PanTool\"},{\"attributes\":{\"plot\":{\"id\":\"9f52bb16-fbfe-464a-9014-a48d83932a4c\",\"subtype\":\"Figure\",\"type\":\"Plot\"},\"ticker\":{\"id\":\"97d921c4-d28b-4142-877f-2ecff0b9c40e\",\"type\":\"BasicTicker\"}},\"id\":\"1eb007ec-6037-4448-b191-f25219ac8b60\",\"type\":\"Grid\"},{\"attributes\":{},\"id\":\"8bc3648f-0069-430d-b61d-8706367d61aa\",\"type\":\"SaveTool\"},{\"attributes\":{\"callback\":null},\"id\":\"fe095bc4-1739-4bf2-8128-edec8077ea58\",\"type\":\"DataRange1d\"},{\"attributes\":{},\"id\":\"6a962096-24d9-4871-90ee-128e34930cea\",\"type\":\"BasicTicker\"},{\"attributes\":{\"dimension\":1,\"plot\":{\"id\":\"9f52bb16-fbfe-464a-9014-a48d83932a4c\",\"subtype\":\"Figure\",\"type\":\"Plot\"},\"ticker\":{\"id\":\"6a962096-24d9-4871-90ee-128e34930cea\",\"type\":\"BasicTicker\"}},\"id\":\"0c0b7ad3-00ce-4119-9bdc-b4cffd6d6e7a\",\"type\":\"Grid\"},{\"attributes\":{\"below\":[{\"id\":\"e58c7cea-86be-4d3d-8074-95bd156dbaa1\",\"type\":\"LinearAxis\"}],\"left\":[{\"id\":\"bd5e9b6c-064f-44c0-977d-f0cdf93303bd\",\"type\":\"LinearAxis\"}],\"renderers\":[{\"id\":\"e58c7cea-86be-4d3d-8074-95bd156dbaa1\",\"type\":\"LinearAxis\"},{\"id\":\"1eb007ec-6037-4448-b191-f25219ac8b60\",\"type\":\"Grid\"},{\"id\":\"bd5e9b6c-064f-44c0-977d-f0cdf93303bd\",\"type\":\"LinearAxis\"},{\"id\":\"0c0b7ad3-00ce-4119-9bdc-b4cffd6d6e7a\",\"type\":\"Grid\"},{\"id\":\"b8d3b78c-e7bb-42b4-b486-a0cb925bb65d\",\"type\":\"GlyphRenderer\"},{\"id\":\"ad12cb30-1a6c-41fe-8ed1-cb27bca40792\",\"type\":\"LabelSet\"}],\"title\":{\"id\":\"233fc1b3-efed-40e8-82b7-7e4a5b3f695b\",\"type\":\"Title\"},\"toolbar\":{\"id\":\"8bc92755-196b-4340-af48-7c39ea14bfae\",\"type\":\"Toolbar\"},\"toolbar_location\":\"above\",\"x_range\":{\"id\":\"fe095bc4-1739-4bf2-8128-edec8077ea58\",\"type\":\"DataRange1d\"},\"x_scale\":{\"id\":\"461e379b-644a-4526-9de3-e3913cb2dbdb\",\"type\":\"LinearScale\"},\"y_range\":{\"id\":\"dc8e0e37-155f-46c4-a091-a536a615cbaf\",\"type\":\"DataRange1d\"},\"y_scale\":{\"id\":\"c0325322-2dde-4a53-8f11-7cafc232854b\",\"type\":\"LinearScale\"}},\"id\":\"9f52bb16-fbfe-464a-9014-a48d83932a4c\",\"subtype\":\"Figure\",\"type\":\"Plot\"},{\"attributes\":{\"callback\":null},\"id\":\"dc8e0e37-155f-46c4-a091-a536a615cbaf\",\"type\":\"DataRange1d\"},{\"attributes\":{\"fill_alpha\":{\"value\":0.1},\"fill_color\":{\"value\":\"#1f77b4\"},\"line_alpha\":{\"value\":0.1},\"line_color\":{\"value\":\"#1f77b4\"},\"size\":{\"units\":\"screen\",\"value\":8},\"x\":{\"field\":\"x1\"},\"y\":{\"field\":\"x2\"}},\"id\":\"9f8ad241-ca0a-4c1b-bfe9-816eb3472676\",\"type\":\"Circle\"},{\"attributes\":{\"data_source\":{\"id\":\"7e14aaa7-7214-4b79-babe-73e5e3189e07\",\"type\":\"ColumnDataSource\"},\"glyph\":{\"id\":\"2efaf751-eadd-41e4-a549-c3cc1308d5da\",\"type\":\"Circle\"},\"hover_glyph\":null,\"muted_glyph\":null,\"nonselection_glyph\":{\"id\":\"9f8ad241-ca0a-4c1b-bfe9-816eb3472676\",\"type\":\"Circle\"},\"selection_glyph\":null,\"view\":{\"id\":\"0c728313-4cc2-4df7-9ba2-46cdeca82392\",\"type\":\"CDSView\"}},\"id\":\"b8d3b78c-e7bb-42b4-b486-a0cb925bb65d\",\"type\":\"GlyphRenderer\"},{\"attributes\":{\"callback\":null,\"column_names\":[\"x1\",\"x2\",\"names\",\"colors\"],\"data\":{\"colors\":[\"#98df8a\",\"#8c564b\",\"#7f7f7f\",\"#8c564b\",\"#e377c2\",\"#f7b6d2\",\"#f7b6d2\",\"#bcbd22\",\"#ff7f0e\",\"#98df8a\",\"#8c564b\",\"#ff7f0e\",\"#c7c7c7\",\"#aec7e8\",\"#c5b0d5\",\"#ff9896\",\"#ffbb78\",\"#7f7f7f\",\"#f7b6d2\",\"#aec7e8\",\"#9467bd\",\"#2ca02c\",\"#ff7f0e\",\"#f7b6d2\",\"#9edae5\",\"#ffbb78\",\"#bcbd22\",\"#8c564b\",\"#f7b6d2\",\"#ff7f0e\",\"#8c564b\",\"#c5b0d5\",\"#ffbb78\",\"#d62728\",\"#1f77b4\",\"#1f77b4\",\"#7f7f7f\",\"#9edae5\",\"#bcbd22\",\"#1f77b4\",\"#ffbb78\",\"#8c564b\",\"#1f77b4\",\"#1f77b4\",\"#dbdb8d\",\"#98df8a\",\"#dbdb8d\",\"#2ca02c\",\"#f7b6d2\",\"#9edae5\",\"#aec7e8\",\"#f7b6d2\",\"#c7c7c7\",\"#ff7f0e\",\"#c7c7c7\",\"#c5b0d5\",\"#c5b0d5\",\"#1f77b4\",\"#1f77b4\",\"#e377c2\",\"#aec7e8\",\"#1f77b4\",\"#17becf\",\"#8c564b\",\"#ff9896\",\"#dbdb8d\",\"#c49c94\",\"#2ca02c\",\"#2ca02c\",\"#1f77b4\",\"#c5b0d5\",\"#ff7f0e\",\"#ff7f0e\",\"#7f7f7f\",\"#ffbb78\",\"#98df8a\",\"#98df8a\",\"#ffbb78\",\"#aec7e8\",\"#d62728\",\"#aec7e8\",\"#ffbb78\",\"#9467bd\",\"#c7c7c7\",\"#c5b0d5\",\"#8c564b\",\"#ff7f0e\",\"#1f77b4\",\"#ff7f0e\",\"#e377c2\",\"#1f77b4\",\"#1f77b4\",\"#c49c94\",\"#ff7f0e\",\"#9467bd\",\"#aec7e8\",\"#8c564b\",\"#1f77b4\",\"#bcbd22\",\"#bcbd22\"],\"names\":[\"dollar\",\"formula\",\"pound\",\"quote\",\"ability\",\"absence\",\"abuse\",\"acceptance\",\"access\",\"accident\",\"accommodation\",\"account\",\"accountant\",\"accuracy\",\"achievement\",\"acid\",\"acquisition\",\"acre\",\"action\",\"activity\",\"actor\",\"adam\",\"addition\",\"address\",\"administration\",\"admission\",\"adoption\",\"adult\",\"advance\",\"advantage\",\"advertisement\",\"advertising\",\"advice\",\"adviser\",\"affair\",\"africa\",\"afternoon\",\"agency\",\"agenda\",\"agent\",\"agreement\",\"aircraft\",\"airline\",\"airport\",\"alarm\",\"album\",\"alcohol\",\"alice\",\"allegation\",\"alliance\",\"allocation\",\"allowance\",\"ally\",\"alternative\",\"ambassador\",\"ambition\",\"amendment\",\"america\",\"american\",\"amount\",\"analysis\",\"analyst\",\"angel\",\"anger\",\"angle\",\"animal\",\"ankle\",\"anna\",\"anne\",\"anniversary\",\"announcement\",\"answer\",\"anxiety\",\"apartment\",\"appeal\",\"appearance\",\"apple\",\"applicant\",\"application\",\"appointment\",\"approach\",\"approval\",\"april\",\"architect\",\"architecture\",\"area\",\"argument\",\"army\",\"arrangement\",\"array\",\"arrest\",\"arrival\",\"arrow\",\"article\",\"artist\",\"aspect\",\"assault\",\"assembly\",\"assessment\",\"asset\"],\"x1\":{\"__ndarray__\":\"duVwwK8FrsBpChHAG9qbwGeTA8HPmanAA1aywLtfocAozsPA9Qt+wAmYcsDVmLLApyKVwNmPBcFr3lXATvg0wDbpVMBlC0XAWrCqwMPE4cBYPk3AnKITwJO1ssCrfqXAkEmbv+k1GMCTUX3Atq+QwArZjcCYMdjAfU+UwADhVMBlygvARXW1wHnZjMCb75rAbwsqwN3En78kRYnAk+yQwCj0IcBKPYjADnuwwIumasAbrUjASykxwHY10sDGmvW/6v6VwJzNwb+GRM/AbJi1wHOWosBJF6nAdtCdwETsRsBM4jjAnvugwAhpicDq+gfBrMbywFUUucCC1ty/6+ykwHv2z8C1GMDAtpPxv5f+I8C3tBPAT3yFwEO6GMB3Ws3AX6LkwENQC8CLmErABe5mwCwtIcC/2nnAXArtwJlewMAVGfbA/g8XwIK/ZsB6G4LAJlMlwKguksCuhuLA5eKYwLWSxMBf+//Ak7CzwJiro8Dkwtq/DlHBwH1YRsDxpPzANtKLwI6Mv8CJ07LAr3aZwA==\",\"dtype\":\"float32\",\"shape\":[100]},\"x2\":{\"__ndarray__\":\"d4AzQCvlAT9uIWtAmh4mPwcHCcCeOkfANbKBwPK3xsA0XhvAGN4vQNRzg7/n2BfAE8T7QKfFiMBOOGjAIyJzP/66tcCqUYJAuNdgwNaXnMDkaONA59jmQLlrT7+5wkvAvNmXwKPtosDjtcDAHn7tPz76QMDY0DzA7BqmvtCFC8B6m4bAPwsEQajRvkDYjaNAzbpfQNkMecAAea7AkVjLQCBHo8DMBtA/kJp/QElFpkDPmaQ/yq4/QK90xb0RuehAlZR9wAAaX8CfxLjA2Q1bwKGa4ECEIMm/iwoCQZitLcAfnWjA9ySfQJEuqUAs5CvAlziiwKnoz0AK8ZZAcrILvHR+2T/Nv00/15LnP+ar+kBYFvhAQr2zQER7UMD4Ldm/vIUbwL1SjUBrEJjAfCEgQCY0KkAA1J7AuhGtwO7AAkGElITAveCywK0/2UBH2f1AChXuv3M7Oz/zE1PAT6C0QFbWTb8n+5W/sbWoQFCHvUBd6wNAB4LSv1AM0ECPpoPASVtSPgKvoEAxcMXAw96lwA==\",\"dtype\":\"float32\",\"shape\":[100]}}},\"id\":\"7e14aaa7-7214-4b79-babe-73e5e3189e07\",\"type\":\"ColumnDataSource\"},{\"attributes\":{},\"id\":\"da5a8c4d-a21c-40ce-9846-6e60bd0501bd\",\"type\":\"WheelZoomTool\"},{\"attributes\":{\"active_drag\":\"auto\",\"active_inspect\":\"auto\",\"active_scroll\":\"auto\",\"active_tap\":\"auto\",\"tools\":[{\"id\":\"19d596fc-8406-4178-b66d-90d291eddc04\",\"type\":\"PanTool\"},{\"id\":\"da5a8c4d-a21c-40ce-9846-6e60bd0501bd\",\"type\":\"WheelZoomTool\"},{\"id\":\"cba6e0f1-61dc-4a5d-acdc-12b768878d1c\",\"type\":\"ResetTool\"},{\"id\":\"8bc3648f-0069-430d-b61d-8706367d61aa\",\"type\":\"SaveTool\"}]},\"id\":\"8bc92755-196b-4340-af48-7c39ea14bfae\",\"type\":\"Toolbar\"},{\"attributes\":{},\"id\":\"1c86e077-a48b-4eee-9063-8fba4ef04836\",\"type\":\"BasicTickFormatter\"},{\"attributes\":{\"fill_color\":{\"field\":\"colors\"},\"line_color\":{\"field\":\"colors\"},\"size\":{\"units\":\"screen\",\"value\":8},\"x\":{\"field\":\"x1\"},\"y\":{\"field\":\"x2\"}},\"id\":\"2efaf751-eadd-41e4-a549-c3cc1308d5da\",\"type\":\"Circle\"}],\"root_ids\":[\"9f52bb16-fbfe-464a-9014-a48d83932a4c\"]},\"title\":\"Bokeh Application\",\"version\":\"0.12.10\"}};\n",
       "    var render_items = [{\"docid\":\"4b34a803-36d3-4310-bfd4-16d510cdb7ac\",\"elementid\":\"6de7191e-f84a-439b-9bec-63d3f622977d\",\"modelid\":\"9f52bb16-fbfe-464a-9014-a48d83932a4c\"}];\n",
       "\n",
       "    root.Bokeh.embed.embed_items(docs_json, render_items);\n",
       "  }\n",
       "\n",
       "  if (root.Bokeh !== undefined) {\n",
       "    embed_document(root);\n",
       "  } else {\n",
       "    var attempts = 0;\n",
       "    var timer = setInterval(function(root) {\n",
       "      if (root.Bokeh !== undefined) {\n",
       "        embed_document(root);\n",
       "        clearInterval(timer);\n",
       "      }\n",
       "      attempts++;\n",
       "      if (attempts > 100) {\n",
       "        console.log(\"Bokeh: ERROR: Unable to embed document because BokehJS library is missing\")\n",
       "        clearInterval(timer);\n",
       "      }\n",
       "    }, 10, root)\n",
       "  }\n",
       "})(window);"
      ],
      "application/vnd.bokehjs_exec.v0+json": ""
     },
     "metadata": {
      "application/vnd.bokehjs_exec.v0+json": {
       "id": "9f52bb16-fbfe-464a-9014-a48d83932a4c"
      }
     },
     "output_type": "display_data"
    },
    {
     "name": "stdout",
     "output_type": "stream",
     "text": [
      "Finding clusters\n",
      "Fitting tsne\n"
     ]
    },
    {
     "data": {
      "text/html": [
       "\n",
       "<div class=\"bk-root\">\n",
       "    <div class=\"bk-plotdiv\" id=\"3fd0dd83-1a7d-43a7-b081-ebd499ac3b79\"></div>\n",
       "</div>"
      ]
     },
     "metadata": {},
     "output_type": "display_data"
    },
    {
     "data": {
      "application/javascript": [
       "(function(root) {\n",
       "  function embed_document(root) {\n",
       "    var docs_json = {\"963ded00-fd80-42b4-bfee-ba8cbce6cfc9\":{\"roots\":{\"references\":[{\"attributes\":{\"formatter\":{\"id\":\"cf9f61bf-035a-4cb4-82ef-1395337b0c5e\",\"type\":\"BasicTickFormatter\"},\"plot\":{\"id\":\"b25e0089-127c-4caa-9a30-884a894c454c\",\"subtype\":\"Figure\",\"type\":\"Plot\"},\"ticker\":{\"id\":\"e37aa13c-9b92-4463-9ed2-fd70e2aab2d8\",\"type\":\"BasicTicker\"}},\"id\":\"6500ddf1-6807-4b79-a18c-804561e3ac91\",\"type\":\"LinearAxis\"},{\"attributes\":{},\"id\":\"85c8ba39-46b5-43ec-b916-f1f7d0e85be4\",\"type\":\"BasicTickFormatter\"},{\"attributes\":{\"active_drag\":\"auto\",\"active_inspect\":\"auto\",\"active_scroll\":\"auto\",\"active_tap\":\"auto\",\"tools\":[{\"id\":\"c322f01e-14db-4d7f-9a63-9e5f5ac1e959\",\"type\":\"PanTool\"},{\"id\":\"991bb855-6c63-4a3f-b594-bad2590a4da7\",\"type\":\"WheelZoomTool\"},{\"id\":\"746b2a29-f5d4-4c9f-b5bd-2da44f8b67f4\",\"type\":\"ResetTool\"},{\"id\":\"c01889f0-76e7-49c3-b6d3-3c18ac397a55\",\"type\":\"SaveTool\"}]},\"id\":\"a7076f37-f3df-4263-82fb-b94217655638\",\"type\":\"Toolbar\"},{\"attributes\":{},\"id\":\"cf9f61bf-035a-4cb4-82ef-1395337b0c5e\",\"type\":\"BasicTickFormatter\"},{\"attributes\":{},\"id\":\"c322f01e-14db-4d7f-9a63-9e5f5ac1e959\",\"type\":\"PanTool\"},{\"attributes\":{\"data_source\":{\"id\":\"764b2a2d-8d2c-4517-8d16-65a857ec8032\",\"type\":\"ColumnDataSource\"},\"glyph\":{\"id\":\"a886e7f8-e885-472b-8333-8a4d0af8204d\",\"type\":\"Circle\"},\"hover_glyph\":null,\"muted_glyph\":null,\"nonselection_glyph\":{\"id\":\"6e887bcc-e777-41ba-af5e-72e09164bd35\",\"type\":\"Circle\"},\"selection_glyph\":null,\"view\":{\"id\":\"cca0aec0-701c-467b-8f3e-e4cb6cea44f4\",\"type\":\"CDSView\"}},\"id\":\"3512c3c2-ca4d-4400-8b2b-2b8700b5ea8c\",\"type\":\"GlyphRenderer\"},{\"attributes\":{},\"id\":\"746b2a29-f5d4-4c9f-b5bd-2da44f8b67f4\",\"type\":\"ResetTool\"},{\"attributes\":{\"below\":[{\"id\":\"6a4c2e7a-3116-4bc6-8eeb-6da4b3548d1f\",\"type\":\"LinearAxis\"}],\"left\":[{\"id\":\"6500ddf1-6807-4b79-a18c-804561e3ac91\",\"type\":\"LinearAxis\"}],\"renderers\":[{\"id\":\"6a4c2e7a-3116-4bc6-8eeb-6da4b3548d1f\",\"type\":\"LinearAxis\"},{\"id\":\"207828c4-e52d-4b5d-a64c-d639839dd1ab\",\"type\":\"Grid\"},{\"id\":\"6500ddf1-6807-4b79-a18c-804561e3ac91\",\"type\":\"LinearAxis\"},{\"id\":\"4964b5c5-76eb-4255-9cc4-6e3b4afcf643\",\"type\":\"Grid\"},{\"id\":\"3512c3c2-ca4d-4400-8b2b-2b8700b5ea8c\",\"type\":\"GlyphRenderer\"},{\"id\":\"69945850-70c6-42da-b399-057e875acbc1\",\"type\":\"LabelSet\"}],\"title\":{\"id\":\"d2a75741-a5e8-4c71-a530-98813c58b041\",\"type\":\"Title\"},\"toolbar\":{\"id\":\"a7076f37-f3df-4263-82fb-b94217655638\",\"type\":\"Toolbar\"},\"toolbar_location\":\"above\",\"x_range\":{\"id\":\"03ab1236-84be-446d-b629-6300831916ce\",\"type\":\"DataRange1d\"},\"x_scale\":{\"id\":\"a4db0b90-b196-4c7f-b616-30ed35a51822\",\"type\":\"LinearScale\"},\"y_range\":{\"id\":\"63d6c774-fd8b-4c14-b960-b8cc89aec287\",\"type\":\"DataRange1d\"},\"y_scale\":{\"id\":\"b0135d83-0d54-4107-b920-5c5f14427dcb\",\"type\":\"LinearScale\"}},\"id\":\"b25e0089-127c-4caa-9a30-884a894c454c\",\"subtype\":\"Figure\",\"type\":\"Plot\"},{\"attributes\":{\"callback\":null},\"id\":\"63d6c774-fd8b-4c14-b960-b8cc89aec287\",\"type\":\"DataRange1d\"},{\"attributes\":{\"source\":{\"id\":\"764b2a2d-8d2c-4517-8d16-65a857ec8032\",\"type\":\"ColumnDataSource\"}},\"id\":\"cca0aec0-701c-467b-8f3e-e4cb6cea44f4\",\"type\":\"CDSView\"},{\"attributes\":{\"callback\":null},\"id\":\"03ab1236-84be-446d-b629-6300831916ce\",\"type\":\"DataRange1d\"},{\"attributes\":{\"plot\":null,\"text\":\"T-SNE for most common words\"},\"id\":\"d2a75741-a5e8-4c71-a530-98813c58b041\",\"type\":\"Title\"},{\"attributes\":{},\"id\":\"b0135d83-0d54-4107-b920-5c5f14427dcb\",\"type\":\"LinearScale\"},{\"attributes\":{\"callback\":null,\"column_names\":[\"x1\",\"x2\",\"names\",\"colors\"],\"data\":{\"colors\":[\"#aec7e8\",\"#1f77b4\",\"#9edae5\",\"#98df8a\",\"#c49c94\",\"#ffbb78\",\"#9467bd\",\"#bcbd22\",\"#9467bd\",\"#1f77b4\",\"#1f77b4\",\"#9467bd\",\"#dbdb8d\",\"#c49c94\",\"#c7c7c7\",\"#f7b6d2\",\"#d62728\",\"#aec7e8\",\"#ffbb78\",\"#ffbb78\",\"#dbdb8d\",\"#7f7f7f\",\"#9467bd\",\"#98df8a\",\"#c5b0d5\",\"#c7c7c7\",\"#d62728\",\"#aec7e8\",\"#98df8a\",\"#ffbb78\",\"#1f77b4\",\"#1f77b4\",\"#c7c7c7\",\"#e377c2\",\"#1f77b4\",\"#8c564b\",\"#aec7e8\",\"#c5b0d5\",\"#ffbb78\",\"#ff7f0e\",\"#c7c7c7\",\"#1f77b4\",\"#8c564b\",\"#8c564b\",\"#98df8a\",\"#aec7e8\",\"#f7b6d2\",\"#7f7f7f\",\"#ffbb78\",\"#c5b0d5\",\"#bcbd22\",\"#9467bd\",\"#ff7f0e\",\"#1f77b4\",\"#e377c2\",\"#ffbb78\",\"#c5b0d5\",\"#8c564b\",\"#2ca02c\",\"#c49c94\",\"#bcbd22\",\"#e377c2\",\"#9edae5\",\"#98df8a\",\"#f7b6d2\",\"#17becf\",\"#ff9896\",\"#7f7f7f\",\"#7f7f7f\",\"#1f77b4\",\"#c7c7c7\",\"#98df8a\",\"#c49c94\",\"#aec7e8\",\"#9467bd\",\"#9467bd\",\"#9edae5\",\"#c5b0d5\",\"#ffbb78\",\"#c5b0d5\",\"#c49c94\",\"#d62728\",\"#8c564b\",\"#dbdb8d\",\"#1f77b4\",\"#1f77b4\",\"#ffbb78\",\"#8c564b\",\"#9467bd\",\"#98df8a\",\"#1f77b4\",\"#1f77b4\",\"#17becf\",\"#1f77b4\",\"#dbdb8d\",\"#c49c94\",\"#1f77b4\",\"#1f77b4\",\"#d62728\",\"#c5b0d5\"],\"names\":[\"dollar\",\"formula\",\"pound\",\"quote\",\"ability\",\"absence\",\"abuse\",\"acceptance\",\"access\",\"accident\",\"accommodation\",\"account\",\"accountant\",\"accuracy\",\"achievement\",\"acid\",\"acquisition\",\"acre\",\"action\",\"activity\",\"actor\",\"adam\",\"addition\",\"address\",\"administration\",\"admission\",\"adoption\",\"adult\",\"advance\",\"advantage\",\"advertisement\",\"advertising\",\"advice\",\"adviser\",\"affair\",\"africa\",\"afternoon\",\"agency\",\"agenda\",\"agent\",\"agreement\",\"aircraft\",\"airline\",\"airport\",\"alarm\",\"album\",\"alcohol\",\"alice\",\"allegation\",\"alliance\",\"allocation\",\"allowance\",\"ally\",\"alternative\",\"ambassador\",\"ambition\",\"amendment\",\"america\",\"american\",\"amount\",\"analysis\",\"analyst\",\"angel\",\"anger\",\"angle\",\"animal\",\"ankle\",\"anna\",\"anne\",\"anniversary\",\"announcement\",\"answer\",\"anxiety\",\"apartment\",\"appeal\",\"appearance\",\"apple\",\"applicant\",\"application\",\"appointment\",\"approach\",\"approval\",\"april\",\"architect\",\"architecture\",\"area\",\"argument\",\"army\",\"arrangement\",\"array\",\"arrest\",\"arrival\",\"arrow\",\"article\",\"artist\",\"aspect\",\"assault\",\"assembly\",\"assessment\",\"asset\"],\"x1\":{\"__ndarray__\":\"fAH4P/gt+77dDiM/yWFLwGVNPcAKN4y/7iLev6RwxbztWfS/CKZ+P+GPdT+FgN2/PPbGQIBqT8DcLJw/EssrwO0/6D/eNco/P/xRvxaMqr+vlL5ATvquQPPA0r8CBvm/Dbp8QFqvET8bnYY/qZCrP3+aM8BnSAzAswjWPthgXj8zeR0/QlfOQMjHoz8f6UpAK/ObP6Q9lkAX6v++8XeyQNcjWT9ekIE+ey1tQECUS0D/PC7AcCm5P2HwAcDiA69AL5vPv8nZe0AaKgq/OUeWv6h0k0CtooW9iPXQQAictLw+BTxAMl84QH1Cl0DD54LAzTaFv6Vlw0Cj+TpAOuNkwAN5TMBWmUO+45rIv6VwyUBU9cRAT9ccQFlpPbxg7l/A8WhJwCdyNz9LoRzAFV9Sv/JnwT8KHI9AzIRyvxxlcUDcUHjArqm5PxVKeEC9ldZAyxWzP5viBz+UZLy/mwUeQKLCG8AwAkTAtMAYP7RS+D8Y1Uu/G/AsvRgIuECcklnA7OjvvnjLGUB+HSQ/poEYQA==\",\"dtype\":\"float32\",\"shape\":[100]},\"x2\":{\"__ndarray__\":\"B6LXwIWaPsBMs//Ab12DwB0u3T+rPgVAJRf6viIRmEAXb7S/63RuwMawVb8Z3rm/piydwOy0D0BnhBhAxzarwH2iX0DBwevAaV2XP5NtM0BvmLvANW/ZwPoFRj848DXATMGpv2aCM0B9D4BAKd7qwCzNHcCIA/A/mEU0wHuVIMDEUgVAzelUwLfdPsBU77nAGU/TwMqNL8DXv7Q/86yFwGg2VkAONKLAA+KQwJN2psCITofAcZHIwP9nocDzvObA/IASQMWn6r8WdoBAHoJBPlPQjMCVwSfA4NqGwI+RwT+JCSe/HybNwC6BysDnVvI+QtiEQO6eesAoBPjAjDhLwLV6m8BzU/DAYITjwK2szcDb1t7AjThxwHkIPUCwmRPAh3l8P2oC48BUJ/K9UTo7v0WSAsGjWRjA2zxSQPBsXj3CZq+9M3eGQHR4wcDtxZvAbC5FwGN/bMDMas8/LpCxwJfUcT7xRE7AXpsGwCe2e7+XJ+/ADB/0v2I7rcBNjj4/kvRqwA3cSsDU5IlAjciJvw==\",\"dtype\":\"float32\",\"shape\":[100]}}},\"id\":\"764b2a2d-8d2c-4517-8d16-65a857ec8032\",\"type\":\"ColumnDataSource\"},{\"attributes\":{},\"id\":\"991bb855-6c63-4a3f-b594-bad2590a4da7\",\"type\":\"WheelZoomTool\"},{\"attributes\":{\"fill_color\":{\"field\":\"colors\"},\"line_color\":{\"field\":\"colors\"},\"size\":{\"units\":\"screen\",\"value\":8},\"x\":{\"field\":\"x1\"},\"y\":{\"field\":\"x2\"}},\"id\":\"a886e7f8-e885-472b-8333-8a4d0af8204d\",\"type\":\"Circle\"},{\"attributes\":{\"dimension\":1,\"plot\":{\"id\":\"b25e0089-127c-4caa-9a30-884a894c454c\",\"subtype\":\"Figure\",\"type\":\"Plot\"},\"ticker\":{\"id\":\"e37aa13c-9b92-4463-9ed2-fd70e2aab2d8\",\"type\":\"BasicTicker\"}},\"id\":\"4964b5c5-76eb-4255-9cc4-6e3b4afcf643\",\"type\":\"Grid\"},{\"attributes\":{\"formatter\":{\"id\":\"85c8ba39-46b5-43ec-b916-f1f7d0e85be4\",\"type\":\"BasicTickFormatter\"},\"plot\":{\"id\":\"b25e0089-127c-4caa-9a30-884a894c454c\",\"subtype\":\"Figure\",\"type\":\"Plot\"},\"ticker\":{\"id\":\"2d2f5860-e961-4954-8443-bb2ce25def7a\",\"type\":\"BasicTicker\"}},\"id\":\"6a4c2e7a-3116-4bc6-8eeb-6da4b3548d1f\",\"type\":\"LinearAxis\"},{\"attributes\":{\"fill_alpha\":{\"value\":0.1},\"fill_color\":{\"value\":\"#1f77b4\"},\"line_alpha\":{\"value\":0.1},\"line_color\":{\"value\":\"#1f77b4\"},\"size\":{\"units\":\"screen\",\"value\":8},\"x\":{\"field\":\"x1\"},\"y\":{\"field\":\"x2\"}},\"id\":\"6e887bcc-e777-41ba-af5e-72e09164bd35\",\"type\":\"Circle\"},{\"attributes\":{},\"id\":\"2d2f5860-e961-4954-8443-bb2ce25def7a\",\"type\":\"BasicTicker\"},{\"attributes\":{},\"id\":\"c01889f0-76e7-49c3-b6d3-3c18ac397a55\",\"type\":\"SaveTool\"},{\"attributes\":{\"plot\":{\"id\":\"b25e0089-127c-4caa-9a30-884a894c454c\",\"subtype\":\"Figure\",\"type\":\"Plot\"},\"source\":{\"id\":\"764b2a2d-8d2c-4517-8d16-65a857ec8032\",\"type\":\"ColumnDataSource\"},\"text\":{\"field\":\"names\"},\"text_align\":\"center\",\"text_color\":{\"value\":\"#555555\"},\"text_font_size\":{\"value\":\"8pt\"},\"x\":{\"field\":\"x1\"},\"y\":{\"field\":\"x2\"},\"y_offset\":{\"value\":6}},\"id\":\"69945850-70c6-42da-b399-057e875acbc1\",\"type\":\"LabelSet\"},{\"attributes\":{\"plot\":{\"id\":\"b25e0089-127c-4caa-9a30-884a894c454c\",\"subtype\":\"Figure\",\"type\":\"Plot\"},\"ticker\":{\"id\":\"2d2f5860-e961-4954-8443-bb2ce25def7a\",\"type\":\"BasicTicker\"}},\"id\":\"207828c4-e52d-4b5d-a64c-d639839dd1ab\",\"type\":\"Grid\"},{\"attributes\":{},\"id\":\"e37aa13c-9b92-4463-9ed2-fd70e2aab2d8\",\"type\":\"BasicTicker\"},{\"attributes\":{},\"id\":\"a4db0b90-b196-4c7f-b616-30ed35a51822\",\"type\":\"LinearScale\"}],\"root_ids\":[\"b25e0089-127c-4caa-9a30-884a894c454c\"]},\"title\":\"Bokeh Application\",\"version\":\"0.12.10\"}};\n",
       "    var render_items = [{\"docid\":\"963ded00-fd80-42b4-bfee-ba8cbce6cfc9\",\"elementid\":\"3fd0dd83-1a7d-43a7-b081-ebd499ac3b79\",\"modelid\":\"b25e0089-127c-4caa-9a30-884a894c454c\"}];\n",
       "\n",
       "    root.Bokeh.embed.embed_items(docs_json, render_items);\n",
       "  }\n",
       "\n",
       "  if (root.Bokeh !== undefined) {\n",
       "    embed_document(root);\n",
       "  } else {\n",
       "    var attempts = 0;\n",
       "    var timer = setInterval(function(root) {\n",
       "      if (root.Bokeh !== undefined) {\n",
       "        embed_document(root);\n",
       "        clearInterval(timer);\n",
       "      }\n",
       "      attempts++;\n",
       "      if (attempts > 100) {\n",
       "        console.log(\"Bokeh: ERROR: Unable to embed document because BokehJS library is missing\")\n",
       "        clearInterval(timer);\n",
       "      }\n",
       "    }, 10, root)\n",
       "  }\n",
       "})(window);"
      ],
      "application/vnd.bokehjs_exec.v0+json": ""
     },
     "metadata": {
      "application/vnd.bokehjs_exec.v0+json": {
       "id": "b25e0089-127c-4caa-9a30-884a894c454c"
      }
     },
     "output_type": "display_data"
    }
   ],
   "source": [
    "no_nouns = 100\n",
    "#subsample vectors\n",
    "perplexity = 30.0\n",
    "N = 20\n",
    "\n",
    "emb_scatter(reduced_vectors_2[:no_nouns], freq_nouns[:no_nouns], perplexity=perplexity, N=N)\n",
    "emb_scatter(reduced_vectors_5[:no_nouns], freq_nouns[:no_nouns], perplexity=perplexity, N=N)\n",
    "emb_scatter(reduced_vectors_deps[:no_nouns], freq_nouns[:no_nouns], perplexity=perplexity, N=N)"
   ]
  }
 ],
 "metadata": {
  "kernelspec": {
   "display_name": "Python 3",
   "language": "python",
   "name": "python3"
  },
  "language_info": {
   "codemirror_mode": {
    "name": "ipython",
    "version": 3
   },
   "file_extension": ".py",
   "mimetype": "text/x-python",
   "name": "python",
   "nbconvert_exporter": "python",
   "pygments_lexer": "ipython3",
   "version": "3.6.3"
  }
 },
 "nbformat": 4,
 "nbformat_minor": 2
}
