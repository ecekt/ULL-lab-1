{
 "cells": [
  {
   "cell_type": "code",
   "execution_count": 23,
   "metadata": {
    "collapsed": true
   },
   "outputs": [],
   "source": [
    "import numpy as np\n",
    "\n",
    "bow2_file = 'bow2.words'\n",
    "bow5_file = 'bow5.words'\n",
    "dependency_file = 'deps.words'\n",
    "\n",
    "#read the files\n",
    "with open(bow2_file) as f:\n",
    "    bow2 = f.readlines()\n",
    "    \n",
    "with open(bow5_file) as f:\n",
    "    bow5 = f.readlines()\n",
    "    \n",
    "with open(dependency_file) as f:\n",
    "    dependency = f.readlines()\n",
    "  "
   ]
  },
  {
   "cell_type": "code",
   "execution_count": 24,
   "metadata": {},
   "outputs": [
    {
     "name": "stdout",
     "output_type": "stream",
     "text": [
      "183870\n",
      "183870\n",
      "174015\n"
     ]
    }
   ],
   "source": [
    "print(len(bow2))\n",
    "print(len(bow5))\n",
    "print(len(deps))"
   ]
  },
  {
   "cell_type": "code",
   "execution_count": 60,
   "metadata": {
    "collapsed": true
   },
   "outputs": [],
   "source": [
    "word2 = []\n",
    "word5 = []\n",
    "word_deps = []\n",
    "\n",
    "vector2 = dict()\n",
    "vector5 = dict()\n",
    "vector_deps = dict()"
   ]
  },
  {
   "cell_type": "code",
   "execution_count": 63,
   "metadata": {},
   "outputs": [],
   "source": [
    "#fill in the word arrays and the respective vector arrays\n",
    "\n",
    "#bow2\n",
    "for l in bow2:\n",
    "    #split line\n",
    "    split_line = str.split(l)\n",
    "    \n",
    "    #first one is the word - string\n",
    "    word = split_line[0]\n",
    "    word2.append(word)\n",
    "    \n",
    "    #remaining elements are the embedding values - float\n",
    "    vector = []\n",
    "    for vd in split_line[1:]:\n",
    "        vector.append(float(vd))\n",
    "        \n",
    "    vector2[word] = vector\n",
    "    "
   ]
  },
  {
   "cell_type": "code",
   "execution_count": 64,
   "metadata": {
    "collapsed": true
   },
   "outputs": [],
   "source": [
    "#bow5\n",
    "for l in bow5:\n",
    "    #split line\n",
    "    split_line = str.split(l)\n",
    "    \n",
    "    #first one is the word - string\n",
    "    word = split_line[0]\n",
    "    word5.append(word)\n",
    "    \n",
    "    #remaining elements are the embedding values - float\n",
    "    vector = []\n",
    "    for vd in split_line[1:]:\n",
    "        vector.append(float(vd))\n",
    "        \n",
    "    vector5[word] = vector"
   ]
  },
  {
   "cell_type": "code",
   "execution_count": 65,
   "metadata": {},
   "outputs": [],
   "source": [
    "#dependency\n",
    "for l in dependency:\n",
    "    #split line\n",
    "    split_line = str.split(l)\n",
    "    \n",
    "    #first one is the word - string\n",
    "    word = split_line[0]\n",
    "    word_deps.append(word)\n",
    "    \n",
    "    #remaining elements are the embedding values - float\n",
    "    vector = []\n",
    "    for vd in split_line[1:]:\n",
    "        vector.append(float(vd))\n",
    "        \n",
    "    vector_deps[word] = vector"
   ]
  },
  {
   "cell_type": "code",
   "execution_count": 67,
   "metadata": {},
   "outputs": [
    {
     "name": "stdout",
     "output_type": "stream",
     "text": [
      "the\n",
      "the\n",
      "the\n"
     ]
    }
   ],
   "source": [
    "print(word2[0])\n",
    "print(word5[0])\n",
    "print(word_deps[0])\n"
   ]
  },
  {
   "cell_type": "code",
   "execution_count": 68,
   "metadata": {},
   "outputs": [
    {
     "name": "stdout",
     "output_type": "stream",
     "text": [
      "300\n",
      "300\n",
      "300\n"
     ]
    }
   ],
   "source": [
    "print(len(vector2['the']))\n",
    "print(len(vector5['the']))\n",
    "print(len(vector_deps['the']))\n"
   ]
  },
  {
   "cell_type": "code",
   "execution_count": null,
   "metadata": {
    "collapsed": true
   },
   "outputs": [],
   "source": []
  }
 ],
 "metadata": {
  "kernelspec": {
   "display_name": "Python 3",
   "language": "python",
   "name": "python3"
  },
  "language_info": {
   "codemirror_mode": {
    "name": "ipython",
    "version": 3
   },
   "file_extension": ".py",
   "mimetype": "text/x-python",
   "name": "python",
   "nbconvert_exporter": "python",
   "pygments_lexer": "ipython3",
   "version": "3.6.3"
  }
 },
 "nbformat": 4,
 "nbformat_minor": 2
}
