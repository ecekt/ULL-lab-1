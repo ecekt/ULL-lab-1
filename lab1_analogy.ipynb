{
 "cells": [
  {
   "cell_type": "markdown",
   "metadata": {},
   "source": [
    "# Evaluating Word Representations\n",
    "\n",
    "## Getting the pre-trained word vectors"
   ]
  },
  {
   "cell_type": "code",
   "execution_count": 128,
   "metadata": {
    "collapsed": true
   },
   "outputs": [],
   "source": [
    "import numpy as np\n",
    "from scipy.stats import pearsonr\n",
    "from scipy.stats import spearmanr\n",
    "from sklearn.metrics.pairwise import cosine_similarity\n",
    "from scipy import spatial\n",
    "from scipy import stats"
   ]
  },
  {
   "cell_type": "code",
   "execution_count": 5,
   "metadata": {
    "collapsed": true
   },
   "outputs": [],
   "source": [
    "bow2_file = 'bow2.words'\n",
    "bow5_file = 'bow5.words'\n",
    "dependency_file = 'deps.words'\n",
    "\n",
    "#read the files\n",
    "with open(bow2_file) as f:\n",
    "    bow2 = f.readlines()\n",
    "    \n",
    "with open(bow5_file) as f:\n",
    "    bow5 = f.readlines()\n",
    "    \n",
    "with open(dependency_file) as f:\n",
    "    dependency = f.readlines()\n",
    "  "
   ]
  },
  {
   "cell_type": "code",
   "execution_count": 6,
   "metadata": {},
   "outputs": [
    {
     "name": "stdout",
     "output_type": "stream",
     "text": [
      "183870\n",
      "183870\n",
      "174015\n"
     ]
    }
   ],
   "source": [
    "print(len(bow2))\n",
    "print(len(bow5))\n",
    "print(len(dependency))"
   ]
  },
  {
   "cell_type": "code",
   "execution_count": 7,
   "metadata": {
    "collapsed": true
   },
   "outputs": [],
   "source": [
    "word2 = []\n",
    "word5 = []\n",
    "word_deps = []\n",
    "\n",
    "vector2 = dict()\n",
    "vector5 = dict()\n",
    "vector_deps = dict()"
   ]
  },
  {
   "cell_type": "code",
   "execution_count": 8,
   "metadata": {
    "collapsed": true
   },
   "outputs": [],
   "source": [
    "#fill in the word arrays and the respective vector arrays\n",
    "\n",
    "#bow2\n",
    "for l in bow2:\n",
    "    #split line\n",
    "    split_line = str.split(l)\n",
    "    \n",
    "    #first one is the word - string\n",
    "    word = split_line[0]\n",
    "    word2.append(word)\n",
    "    \n",
    "    #remaining elements are the embedding values - float\n",
    "    vector = []\n",
    "    for vd in split_line[1:]:\n",
    "        vector.append(float(vd))\n",
    "        \n",
    "    vector2[word] = vector\n",
    "    "
   ]
  },
  {
   "cell_type": "code",
   "execution_count": 9,
   "metadata": {
    "collapsed": true
   },
   "outputs": [],
   "source": [
    "#bow5\n",
    "for l in bow5:\n",
    "    #split line\n",
    "    split_line = str.split(l)\n",
    "    \n",
    "    #first one is the word - string\n",
    "    word = split_line[0]\n",
    "    word5.append(word)\n",
    "    \n",
    "    #remaining elements are the embedding values - float\n",
    "    vector = []\n",
    "    for vd in split_line[1:]:\n",
    "        vector.append(float(vd))\n",
    "        \n",
    "    vector5[word] = vector"
   ]
  },
  {
   "cell_type": "code",
   "execution_count": 10,
   "metadata": {
    "collapsed": true
   },
   "outputs": [],
   "source": [
    "#dependency\n",
    "for l in dependency:\n",
    "    #split line\n",
    "    split_line = str.split(l)\n",
    "    \n",
    "    #first one is the word - string\n",
    "    word = split_line[0]\n",
    "    word_deps.append(word)\n",
    "    \n",
    "    #remaining elements are the embedding values - float\n",
    "    vector = []\n",
    "    for vd in split_line[1:]:\n",
    "        vector.append(float(vd))\n",
    "        \n",
    "    vector_deps[word] = vector"
   ]
  },
  {
   "cell_type": "code",
   "execution_count": 11,
   "metadata": {},
   "outputs": [
    {
     "name": "stdout",
     "output_type": "stream",
     "text": [
      "the\n",
      "the\n",
      "the\n"
     ]
    }
   ],
   "source": [
    "print(word2[0])\n",
    "print(word5[0])\n",
    "print(word_deps[0])\n"
   ]
  },
  {
   "cell_type": "code",
   "execution_count": 12,
   "metadata": {},
   "outputs": [
    {
     "name": "stdout",
     "output_type": "stream",
     "text": [
      "300\n",
      "300\n",
      "300\n"
     ]
    }
   ],
   "source": [
    "print(len(vector2['the']))\n",
    "print(len(vector5['the']))\n",
    "print(len(vector_deps['the']))\n"
   ]
  },
  {
   "cell_type": "markdown",
   "metadata": {},
   "source": [
    "## Word Similarity Task"
   ]
  },
  {
   "cell_type": "code",
   "execution_count": 192,
   "metadata": {
    "collapsed": true
   },
   "outputs": [],
   "source": [
    "#MEN/agreement/elias-men-ratings.txt' dataset read\n",
    "word_pairs = {}\n",
    "\n",
    "filename = 'MEN/MEN_dataset_natural_form_full'\n",
    "\n",
    "with open(filename) as f:\n",
    "    lines = f.readlines()\n",
    "    \n",
    "for line in lines:\n",
    "    line = line.split()\n",
    "    word1 = line[0]\n",
    "    word2 = line[1]\n",
    "    score = line[2]\n",
    "    word_pairs[(word1,word2)] = score\n",
    "    \n",
    "keys = list(word_pairs.keys())"
   ]
  },
  {
   "cell_type": "code",
   "execution_count": 205,
   "metadata": {
    "collapsed": true
   },
   "outputs": [],
   "source": [
    "def get_scores_cosines(keys, word_pairs, vector_embeds, norm_min, norm_max):\n",
    "    #vector_deps and cosine similarity comparison\n",
    "    scores = []\n",
    "    cosines = []\n",
    "\n",
    "    for key in keys:\n",
    "        word1 = key[0]\n",
    "        word2 = key[1]\n",
    "        score = word_pairs[(word1,word2)]\n",
    "        score = (float(score) - norm_min)/(norm_max - norm_min) #normalization\n",
    "        if word1 in vector_embeds.keys() and word2 in vector_embeds.keys():\n",
    "            word1_embed = vector_embeds[word1]\n",
    "            word2_embed = vector_embeds[word2]\n",
    "            \n",
    "            cosine_similarity = 1 - spatial.distance.cosine(word1_embed, word2_embed)\n",
    "#             print(\"Score : \",score)\n",
    "#             print(\"Cosine similarity: \",cosine_similarity)\n",
    "#             print(word1, word2)\n",
    "#             print(\"\\n\")\n",
    "            \n",
    "            scores.append(score)\n",
    "            cosines.append(cosine_similarity)\n",
    "            \n",
    "            \n",
    "    return scores, cosines\n",
    "        "
   ]
  },
  {
   "cell_type": "code",
   "execution_count": 206,
   "metadata": {
    "collapsed": true
   },
   "outputs": [],
   "source": [
    "norm_max = 50 #for MEN\n",
    "norm_min = 0 #for MEN\n",
    "\n",
    "#vector2 and cosine similarity comparison\n",
    "scores_2, cosines_2 = get_scores_cosines(keys, word_pairs, vector2, norm_min, norm_max)\n",
    "\n",
    "#vector5 and cosine similarity comparison\n",
    "scores_5, cosines_5 = get_scores_cosines(keys, word_pairs, vector5, norm_min, norm_max)\n",
    "\n",
    "#vector2 and cosine similarity comparison\n",
    "scores_deps, cosines_deps = get_scores_cosines(keys, word_pairs, vector_deps, norm_min, norm_max)"
   ]
  },
  {
   "cell_type": "code",
   "execution_count": 207,
   "metadata": {
    "collapsed": true
   },
   "outputs": [],
   "source": [
    "def get_stats(cosines_2, scores_2, cosines_5, scores_5, cosines_deps, scores_deps):\n",
    "    cosines_2 = np.asarray(cosines_2)\n",
    "    cosines_5 = np.asarray(cosines_5)\n",
    "    cosines_deps = np.asarray(cosines_deps)\n",
    "\n",
    "    mean_cos_2 = np.mean(cosines_2)\n",
    "    std_cos_2 = np.std(cosines_2)\n",
    "\n",
    "    mean_cos_5 = np.mean(cosines_5)\n",
    "    std_cos_5 = np.std(cosines_5)\n",
    "\n",
    "    mean_cos_deps = np.mean(cosines_deps)\n",
    "    std_cos_deps= np.std(cosines_deps)\n",
    "\n",
    "    print('Means and stds')\n",
    "    print('Bow2:',mean_cos_2, std_cos_2)\n",
    "    print('Bow5:',mean_cos_5, std_cos_5)\n",
    "    print('Deps:',mean_cos_deps, std_cos_deps)\n",
    "    \n",
    "    print()\n",
    "    \n",
    "    #normality tests means sds\n",
    "    print('Normality tests')\n",
    "    print('Bow2 scores:',stats.normaltest(scores_2)[1])\n",
    "    print('Bow5 scores:',stats.normaltest(scores_5)[1])\n",
    "    print('Deps scores:',stats.normaltest(scores_deps)[1])\n",
    "    print()\n",
    "    print('Bow2 cosines:',stats.normaltest(cosines_2)[1])\n",
    "    print('Bow5 cosines:',stats.normaltest(cosines_5)[1])\n",
    "    print('Deps cosines:',stats.normaltest(cosines_deps)[1])\n",
    "    print()\n",
    "    \n",
    "    #difference between the embed types cosine similarities\n",
    "    print('T-test between Bow2 and Bow5')\n",
    "    print(stats.ttest_ind(cosines_2, cosines_5)[1])\n",
    "    print('T-test between Bow2 and Dependency')\n",
    "    print(stats.ttest_ind(cosines_2, cosines_deps)[1])\n",
    "    print('T-test between Dependency and Bow2')\n",
    "    print(stats.ttest_ind(cosines_deps, cosines_5)[1])\n",
    "    print()\n",
    "    \n",
    "    #difference between the embed types cosine similarities vs human ratings\n",
    "    print('T-test between Bow2 and human scores')\n",
    "    print(stats.ttest_ind(cosines_2, scores_2)[1])\n",
    "    print('T-test between Bow5 and human scores')\n",
    "    print(stats.ttest_ind(cosines_5, scores_5)[1])\n",
    "    print('T-test between Dependency and human scores')\n",
    "    print(stats.ttest_ind(cosines_deps, scores_deps)[1])\n",
    "    print()\n",
    "    \n",
    "    #correlation tests for bow2\n",
    "    pr_2, sig_p_2 = pearsonr(scores_2, cosines_2)\n",
    "    spr_2, sig_s_2 = spearmanr(scores_2, cosines_2)\n",
    "\n",
    "    print('Correlation results for BOW2 vs. human ratings')\n",
    "    print('Pearson\\'s r:',pr_2, 'p-value =', sig_p_2)\n",
    "    print('Spearman\\'s r:',spr_2, 'p-value =', sig_s_2)\n",
    "    print()\n",
    "    ###\n",
    "\n",
    "    #correlation tests for bow5\n",
    "    pr_5, sig_p_5 = pearsonr(scores_5, cosines_5)\n",
    "    spr_5, sig_s_5 = spearmanr(scores_5, cosines_5)\n",
    "\n",
    "    print('Correlation results for BOW5 vs. human ratings')\n",
    "    print('Pearson\\'s r:',pr_5, 'p-value =', sig_p_5)\n",
    "    print('Spearman\\'s r:',spr_5, 'p-value =', sig_s_5)\n",
    "    print()\n",
    "\n",
    "    ###\n",
    "    #correlation tests for dependency\n",
    "    pr_deps, sig_p_deps = pearsonr(scores_deps, cosines_deps)\n",
    "    spr_deps, sig_s_deps = spearmanr(scores_deps, cosines_deps)\n",
    "\n",
    "    print('Correlation results for Dependency vs. human ratings')\n",
    "    print('Pearson\\'s r:',pr_deps, 'p-value =', sig_p_deps)\n",
    "    print('Spearman\\'s r:',spr_deps, 'p-value =', sig_s_deps)"
   ]
  },
  {
   "cell_type": "code",
   "execution_count": 208,
   "metadata": {},
   "outputs": [
    {
     "data": {
      "text/plain": [
       "3000"
      ]
     },
     "execution_count": 208,
     "metadata": {},
     "output_type": "execute_result"
    }
   ],
   "source": [
    "len(cosines_2)"
   ]
  },
  {
   "cell_type": "code",
   "execution_count": 209,
   "metadata": {},
   "outputs": [
    {
     "name": "stdout",
     "output_type": "stream",
     "text": [
      "***Stats for MEN natural form***\n",
      "Means and stds\n",
      "Bow2: 0.319293299756 0.149208353164\n",
      "Bow5: 0.311801651032 0.191357815617\n",
      "Deps: 0.397603289218 0.151686067678\n",
      "\n",
      "Normality tests\n",
      "Bow2 scores: 0.0\n",
      "Bow5 scores: 0.0\n",
      "Deps scores: 0.0\n",
      "\n",
      "Bow2 cosines: 2.26058583686e-25\n",
      "Bow5 cosines: 2.67202826149e-47\n",
      "Deps cosines: 1.41622916781e-31\n",
      "\n",
      "T-test between Bow2 and Bow5\n",
      "0.0909373707275\n",
      "T-test between Bow2 and Dependency\n",
      "1.80166193092e-87\n",
      "T-test between Dependency and Bow2\n",
      "4.06219028985e-80\n",
      "\n",
      "T-test between Bow2 and human scores\n",
      "3.23549291582e-237\n",
      "T-test between Bow5 and human scores\n",
      "7.60142658496e-221\n",
      "T-test between Dependency and human scores\n",
      "1.01459133734e-81\n",
      "\n",
      "Correlation results for BOW2 vs. human ratings\n",
      "Pearson's r: 0.67769822447 p-value = 0.0\n",
      "Spearman's r: 0.699904755831 p-value = 0.0\n",
      "\n",
      "Correlation results for BOW5 vs. human ratings\n",
      "Pearson's r: 0.708236248047 p-value = 0.0\n",
      "Spearman's r: 0.723168656137 p-value = 0.0\n",
      "\n",
      "Correlation results for Dependency vs. human ratings\n",
      "Pearson's r: 0.597401604467 p-value = 1.01837831141e-289\n",
      "Spearman's r: 0.617822790021 p-value = 2.37026036104e-315\n"
     ]
    }
   ],
   "source": [
    "print('***Stats for MEN natural form***')\n",
    "get_stats(cosines_2, scores_2, cosines_5, scores_5, cosines_deps, scores_deps)"
   ]
  },
  {
   "cell_type": "code",
   "execution_count": 213,
   "metadata": {
    "collapsed": true
   },
   "outputs": [],
   "source": [
    "#lemmatized MEN, which includes POS-tags and words with inflections \n",
    "\n",
    "word_pairs = {}\n",
    "pos_tag_pairs = {}\n",
    "\n",
    "filename = 'MEN/MEN_dataset_lemma_form_full'\n",
    "\n",
    "with open(filename) as f:\n",
    "    lines = f.readlines()\n",
    "    \n",
    "for line in lines:\n",
    "    line = line.split()\n",
    "    \n",
    "    word_pos_1 = line[0]\n",
    "    split_wp = word_pos_1.split('-')\n",
    "    word1 = split_wp[0]\n",
    "    pos1 = split_wp[1]\n",
    "    \n",
    "    word_pos_2 = line[1]\n",
    "    split_wp = word_pos_2.split('-')\n",
    "    word2= split_wp[0]\n",
    "    pos2 = split_wp[1]\n",
    "    \n",
    "    score = line[2]\n",
    "    word_pairs[(word1,word2)] = score\n",
    "    pos_tag_pairs[(word1, word2)] = (pos1, pos2)\n",
    "    \n",
    "keys = list(word_pairs.keys())"
   ]
  },
  {
   "cell_type": "code",
   "execution_count": 214,
   "metadata": {},
   "outputs": [
    {
     "data": {
      "text/plain": [
       "('sun', 'sunlight')"
      ]
     },
     "execution_count": 214,
     "metadata": {},
     "output_type": "execute_result"
    }
   ],
   "source": [
    "keys[0]"
   ]
  },
  {
   "cell_type": "code",
   "execution_count": 215,
   "metadata": {},
   "outputs": [
    {
     "data": {
      "text/plain": [
       "('n', 'n')"
      ]
     },
     "execution_count": 215,
     "metadata": {},
     "output_type": "execute_result"
    }
   ],
   "source": [
    "pos_tag_pairs[('sun', 'sunlight')]"
   ]
  },
  {
   "cell_type": "code",
   "execution_count": 216,
   "metadata": {},
   "outputs": [
    {
     "data": {
      "text/plain": [
       "3000"
      ]
     },
     "execution_count": 216,
     "metadata": {},
     "output_type": "execute_result"
    }
   ],
   "source": [
    "len(cosines_2)"
   ]
  },
  {
   "cell_type": "code",
   "execution_count": null,
   "metadata": {
    "collapsed": true
   },
   "outputs": [],
   "source": [
    "vector2['stairs'] #natural form exists in the embeddings"
   ]
  },
  {
   "cell_type": "code",
   "execution_count": 217,
   "metadata": {},
   "outputs": [
    {
     "name": "stdout",
     "output_type": "stream",
     "text": [
      "***Stats for MEN lemma form***\n",
      "Means and stds\n",
      "Bow2: 0.316803512667 0.145607303311\n",
      "Bow5: 0.308255587339 0.186932626717\n",
      "Deps: 0.403399757048 0.149368049522\n",
      "\n",
      "Normality tests\n",
      "Bow2 scores: 0.0\n",
      "Bow5 scores: 0.0\n",
      "Deps scores: 0.0\n",
      "\n",
      "Bow2 cosines: 4.79219186707e-25\n",
      "Bow5 cosines: 5.29522735224e-57\n",
      "Deps cosines: 4.32604518066e-30\n",
      "\n",
      "T-test between Bow2 and Bow5\n",
      "0.0482493426745\n",
      "T-test between Bow2 and Dependency\n",
      "8.03242845857e-110\n",
      "T-test between Dependency and Bow2\n",
      "3.04144684951e-101\n",
      "\n",
      "T-test between Bow2 and human scores\n",
      "0.0\n",
      "T-test between Bow5 and human scores\n",
      "0.0\n",
      "T-test between Dependency and human scores\n",
      "0.0\n",
      "\n",
      "Correlation results for BOW2 vs. human ratings\n",
      "Pearson's r: 0.669495069415 p-value = 0.0\n",
      "Spearman's r: 0.686061690441 p-value = 0.0\n",
      "\n",
      "Correlation results for BOW5 vs. human ratings\n",
      "Pearson's r: 0.703135928466 p-value = 0.0\n",
      "Spearman's r: 0.715675453077 p-value = 0.0\n",
      "\n",
      "Correlation results for Dependency vs. human ratings\n",
      "Pearson's r: 0.58814663439 p-value = 1.06640642166e-278\n",
      "Spearman's r: 0.605532590481 p-value = 1.05889084861e-299\n"
     ]
    }
   ],
   "source": [
    "#vector2 and cosine similarity comparison\n",
    "scores_2, cosines_2 = get_scores_cosines(keys, word_pairs, vector2, norm_min, norm_max)\n",
    "\n",
    "#vector5 and cosine similarity comparison\n",
    "scores_5, cosines_5 = get_scores_cosines(keys, word_pairs, vector5, norm_min, norm_max)\n",
    "\n",
    "#vector2 and cosine similarity comparison\n",
    "scores_deps, cosines_deps = get_scores_cosines(keys, word_pairs, vector_deps, norm_min, norm_max)\n",
    "\n",
    "print('***Stats for MEN lemma form***')\n",
    "get_stats(cosines_2, scores_2, cosines_5, scores_5, cosines_deps, scores_deps)"
   ]
  },
  {
   "cell_type": "code",
   "execution_count": 187,
   "metadata": {
    "collapsed": true
   },
   "outputs": [],
   "source": [
    "#TODO SOMETHING ABOUT POS-TAGS *** "
   ]
  },
  {
   "cell_type": "code",
   "execution_count": 188,
   "metadata": {
    "collapsed": true
   },
   "outputs": [],
   "source": [
    "# Simlex Dataset Read\n",
    "\n",
    "word_pairs = {}\n",
    "\n",
    "filename = 'SimLex-999/SimLex-999.txt'\n",
    "\n",
    "with open(filename) as f:\n",
    "    lines = f.readlines()\n",
    "    \n",
    "lines = lines[1:]\n",
    "for line in lines:\n",
    "    line = line.split()\n",
    "    word1 = line[0]\n",
    "    word2 = line[1]\n",
    "    score = line[3]\n",
    "    word_pairs[(word1,word2)] = score\n",
    "    \n",
    "keys = list(word_pairs.keys())"
   ]
  },
  {
   "cell_type": "code",
   "execution_count": 212,
   "metadata": {},
   "outputs": [
    {
     "name": "stdout",
     "output_type": "stream",
     "text": [
      "***Stats for SimLex***\n",
      "Means and stds\n",
      "Bow2: 0.316803512667 0.145607303311\n",
      "Bow5: 0.308255587339 0.186932626717\n",
      "Deps: 0.403399757048 0.149368049522\n",
      "\n",
      "Normality tests\n",
      "Bow2 scores: 0.0\n",
      "Bow5 scores: 0.0\n",
      "Deps scores: 0.0\n",
      "\n",
      "Bow2 cosines: 4.79219186707e-25\n",
      "Bow5 cosines: 5.29522735224e-57\n",
      "Deps cosines: 4.32604518066e-30\n",
      "\n",
      "T-test between Bow2 and Bow5\n",
      "0.0482493426745\n",
      "T-test between Bow2 and Dependency\n",
      "8.03242845857e-110\n",
      "T-test between Dependency and Bow2\n",
      "3.04144684951e-101\n",
      "\n",
      "T-test between Bow2 and human scores\n",
      "0.0\n",
      "T-test between Bow5 and human scores\n",
      "0.0\n",
      "T-test between Dependency and human scores\n",
      "0.0\n",
      "\n",
      "Correlation results for BOW2 vs. human ratings\n",
      "Pearson's r: 0.669495069415 p-value = 0.0\n",
      "Spearman's r: 0.686061690441 p-value = 0.0\n",
      "\n",
      "Correlation results for BOW5 vs. human ratings\n",
      "Pearson's r: 0.703135928466 p-value = 0.0\n",
      "Spearman's r: 0.715675453077 p-value = 0.0\n",
      "\n",
      "Correlation results for Dependency vs. human ratings\n",
      "Pearson's r: 0.58814663439 p-value = 1.06640642166e-278\n",
      "Spearman's r: 0.605532590481 p-value = 1.05889084861e-299\n"
     ]
    }
   ],
   "source": [
    "norm_min = 0 #For SimLex\n",
    "norm_max = 10 #For SimLex\n",
    "\n",
    "#vector2 and cosine similarity comparison\n",
    "scores_2, cosines_2 = get_scores_cosines(keys, word_pairs, vector2, norm_min, norm_max)\n",
    "\n",
    "#vector5 and cosine similarity comparison\n",
    "scores_5, cosines_5 = get_scores_cosines(keys, word_pairs, vector5, norm_min, norm_max)\n",
    "\n",
    "#vector2 and cosine similarity comparison\n",
    "scores_deps, cosines_deps = get_scores_cosines(keys, word_pairs, vector_deps, norm_min, norm_max)\n",
    "\n",
    "print('***Stats for SimLex***')\n",
    "get_stats(cosines_2, scores_2, cosines_5, scores_5, cosines_deps, scores_deps)"
   ]
  },
  {
   "cell_type": "code",
   "execution_count": null,
   "metadata": {
    "collapsed": true
   },
   "outputs": [],
   "source": [
    "#todo something about adjective nouns etc"
   ]
  },
  {
   "cell_type": "markdown",
   "metadata": {},
   "source": [
    "## Word Analogy Task"
   ]
  },
  {
   "cell_type": "code",
   "execution_count": 28,
   "metadata": {},
   "outputs": [
    {
     "name": "stdout",
     "output_type": "stream",
     "text": [
      ": capital-common-countries\n",
      "\n",
      ": capital-world\n",
      "\n",
      ": currency\n",
      "\n",
      ": city-in-state\n",
      "\n",
      ": family\n",
      "\n",
      ": gram1-adjective-to-adverb\n",
      "\n",
      ": gram2-opposite\n",
      "\n",
      ": gram3-comparative\n",
      "\n",
      ": gram4-superlative\n",
      "\n",
      ": gram5-present-participle\n",
      "\n",
      ": gram6-nationality-adjective\n",
      "\n",
      ": gram7-past-tense\n",
      "\n",
      ": gram8-plural\n",
      "\n",
      ": gram9-plural-verbs\n",
      "\n"
     ]
    }
   ],
   "source": [
    "analogy_file = 'questions-words.txt'\n",
    "\n",
    "#read the files\n",
    "with open(analogy_file) as f:\n",
    "    analogies = f.readlines()\n",
    "    \n",
    "for a in analogies:\n",
    "    if ':' in a:\n",
    "        print(a)"
   ]
  },
  {
   "cell_type": "code",
   "execution_count": 29,
   "metadata": {
    "collapsed": true
   },
   "outputs": [],
   "source": [
    "# all types of analogies\n",
    "all_analogy_pairs = []\n",
    "\n",
    "#they are also stored separately\n",
    "capital_common_countries = []\n",
    "capital_world = []\n",
    "currency = []\n",
    "city_in_state = []\n",
    "family = []\n",
    "gram1_adjective_to_adverb = []\n",
    "gram2_opposite = []\n",
    "gram3_comparative = []\n",
    "gram4_superlative = []\n",
    "gram5_present_participle = []\n",
    "gram6_nationality_adjective = []\n",
    "gram7_past_tense = []\n",
    "gram8_plural = []\n",
    "gram9_plural_verbs = []\n",
    "\n",
    "#while reading into the arrays, keep the current array\n",
    "current = []\n",
    "\n",
    "for i in range(len(analogies)):\n",
    "    #one line -> question-answer pair\n",
    "    a = analogies[i]\n",
    "    \n",
    "    if ': capital-common-countries' in a:\n",
    "        continue\n",
    "    elif ': capital-world' in a:\n",
    "\n",
    "        #store current array\n",
    "        capital_common_countries = current\n",
    "\n",
    "        #reset current\n",
    "        current = []  \n",
    "        continue\n",
    "    elif ': currency' in a:\n",
    "\n",
    "        #store current array\n",
    "        capital_world = current\n",
    "\n",
    "        #reset current\n",
    "        current = []  \n",
    "        continue\n",
    "    elif ': city-in-state' in a:\n",
    "\n",
    "        #store current array\n",
    "        currency = current\n",
    "\n",
    "        #reset current\n",
    "        current = []  \n",
    "        continue\n",
    "\n",
    "    elif ': family' in a:\n",
    "\n",
    "        #store current array\n",
    "        city_in_state = current\n",
    "\n",
    "        #reset current\n",
    "        current = [] \n",
    "        continue\n",
    "\n",
    "    elif ': gram1-adjective-to-adverb' in a:\n",
    "\n",
    "        #store current array\n",
    "        family = current\n",
    "\n",
    "        #reset current\n",
    "        current = [] \n",
    "        continue\n",
    "    elif ': gram2-opposite' in a:\n",
    "\n",
    "        #store current array\n",
    "        gram1_adjective_to_adverb = current\n",
    "\n",
    "        #reset current\n",
    "        current = [] \n",
    "        continue\n",
    "    elif ': gram3-comparative'in a:\n",
    "\n",
    "        #store current array\n",
    "        gram2_opposite = current\n",
    "\n",
    "        #reset current\n",
    "        current = [] \n",
    "        continue\n",
    "    elif ': gram4-superlative' in a:\n",
    "\n",
    "        #store current array\n",
    "        gram3_comparative = current\n",
    "\n",
    "        #reset current\n",
    "        current = [] \n",
    "        continue\n",
    "    elif ': gram5-present-participle' in a:\n",
    "\n",
    "        #store current array\n",
    "        gram4_superlative = current\n",
    "\n",
    "        #reset current\n",
    "        current = [] \n",
    "        continue\n",
    "    elif ': gram6-nationality-adjective' in a:\n",
    "\n",
    "        #store current array\n",
    "        gram5_present_participle = current\n",
    "\n",
    "        #reset current\n",
    "        current = [] \n",
    "        continue\n",
    "    elif ': gram7-past-tense' in a:\n",
    "\n",
    "        #store current array\n",
    "        gram6_nationality_adjective = current\n",
    "\n",
    "        #reset current\n",
    "        current = [] \n",
    "        continue\n",
    "    elif ': gram8-plural' in a:\n",
    "\n",
    "        #store current array\n",
    "        gram7_past_tense = current\n",
    "\n",
    "        #reset current\n",
    "        current = [] \n",
    "        continue\n",
    "    elif ': gram9-plural-verbs' in a:\n",
    "\n",
    "        #store current array\n",
    "        gram8_plural = current\n",
    "\n",
    "        #reset current\n",
    "        current = [] \n",
    "        continue\n",
    "    current.append(a)\n",
    "    \n",
    "    if i == len(analogies)-1:\n",
    "        #last item in the file\n",
    "        gram9_plural_verbs = current\n",
    "        \n"
   ]
  },
  {
   "cell_type": "code",
   "execution_count": 30,
   "metadata": {},
   "outputs": [
    {
     "name": "stdout",
     "output_type": "stream",
     "text": [
      "506\n"
     ]
    }
   ],
   "source": [
    "print(len(capital_common_countries))"
   ]
  },
  {
   "cell_type": "code",
   "execution_count": 31,
   "metadata": {},
   "outputs": [
    {
     "data": {
      "text/plain": [
       "'Algeria dinar Angola kwanza\\n'"
      ]
     },
     "execution_count": 31,
     "metadata": {},
     "output_type": "execute_result"
    }
   ],
   "source": [
    "currency[0]"
   ]
  },
  {
   "cell_type": "code",
   "execution_count": 32,
   "metadata": {
    "collapsed": true
   },
   "outputs": [],
   "source": [
    "#TODO separate the question-answer pairs, then use offset and cosine sim for all\n",
    "#use s.lower() \n",
    "#ax = str.split(a, \" \")\n",
    "#ax[3] = str.split(ax[3], \"\\n\")[0] #get rid of newline\n",
    "#print(ax)"
   ]
  },
  {
   "cell_type": "code",
   "execution_count": 227,
   "metadata": {},
   "outputs": [
    {
     "name": "stdout",
     "output_type": "stream",
     "text": [
      "Athens Greece Baghdad Iraq\n",
      "\n",
      "19544\n"
     ]
    }
   ],
   "source": [
    "all_analogy_pairs = capital_common_countries + capital_world + currency \\\n",
    "+ city_in_state + family + gram1_adjective_to_adverb + gram2_opposite \\\n",
    "+ gram3_comparative + gram4_superlative + gram5_present_participle \\\n",
    "+ gram6_nationality_adjective + gram7_past_tense + gram8_plural + gram9_plural_verbs\n",
    "\n",
    "print(all_analogy_pairs[0])\n",
    "\n",
    "print(len(all_analogy_pairs))"
   ]
  },
  {
   "cell_type": "code",
   "execution_count": 270,
   "metadata": {
    "collapsed": true
   },
   "outputs": [],
   "source": [
    "import collections"
   ]
  },
  {
   "cell_type": "code",
   "execution_count": 290,
   "metadata": {
    "collapsed": true
   },
   "outputs": [],
   "source": [
    "# words_for_analogy 905 unique words "
   ]
  },
  {
   "cell_type": "code",
   "execution_count": 317,
   "metadata": {
    "collapsed": true
   },
   "outputs": [],
   "source": [
    "def get_analogy_accuracy_MRR(file_name, vectors, analogy_pairs):\n",
    "    \n",
    "    accuracy = 0.0\n",
    "    MRR = 0.0\n",
    "\n",
    "    file = open(file_name, 'w')\n",
    "\n",
    "    for ap in analogy_pairs:\n",
    "        \n",
    "        \n",
    "        #question pair 1, question pair 2, answer pair 1, answer pair 2\n",
    "        [qs1, qs2, a1, a2] = ap.split()\n",
    "\n",
    "        #print(qs1, qs2, a1, a2)\n",
    "        #convert to lowercase\n",
    "        qs1 = qs1.lower()\n",
    "        qs2 = qs2.lower()\n",
    "        a1 = a1.lower()\n",
    "        a2 = a2.lower()\n",
    "\n",
    "        header = '*' + qs1 + ' ' + qs2 + ' ' +  a1 + ' ' +  a2\n",
    "        file.write(header)\n",
    "        file.write('\\n')\n",
    "        # a:a* = b:b*\n",
    "\n",
    "        # offset = a* - a\n",
    "        offset = np.asarray(vectors[qs2]) - np.asarray(vectors[qs1])\n",
    "\n",
    "        #normalize vector\n",
    "        #offset = offset/np.linalg.norm(offset)\n",
    "\n",
    "        # approx b* = b + offset\n",
    "        approx = np.asarray(vectors[a1]) + offset\n",
    "        approx = approx/np.linalg.norm(approx)\n",
    "\n",
    "        score_ranks = dict()\n",
    "\n",
    "        for key in vectors.keys():\n",
    "            word_embed = vectors[key]\n",
    "\n",
    "            cosine_similarity = 1 - spatial.distance.cosine(approx, word_embed)\n",
    "\n",
    "            score_ranks[key] = cosine_similarity\n",
    "\n",
    "        #sort dictionary in descending order with respect to cosine similarity\n",
    "        sorted_d = sorted(score_ranks.items(), key=lambda x: x[1], reverse=True)\n",
    "\n",
    "        #closest 5\n",
    "        for i in range(5):\n",
    "            sorted_res = sorted_d[i][0] + ' ' + str(sorted_d[i][1])\n",
    "            file.write(sorted_res)\n",
    "            file.write('\\n')\n",
    "        rank_of_correct = -1\n",
    "\n",
    "        #correct answer in the first rank\n",
    "        if sorted_d[0][0] == a2:\n",
    "            accuracy = accuracy + 1\n",
    "            file.write('1')\n",
    "            MRR = MRR + 1\n",
    "        else:\n",
    "            #find the rank of the correct answer\n",
    "            for i in range(len(sorted_d)):\n",
    "                if(sorted_d[i][0] == a2):\n",
    "                    MRR = MRR + (1/(i+1))\n",
    "                    file.write(str(i+1))\n",
    "                    continue\n",
    "        \n",
    "        file.write('\\n')\n",
    "        file.write('\\n')\n",
    "        \n",
    "    file.close()\n",
    "    \n",
    "    return MRR, accuracy\n"
   ]
  },
  {
   "cell_type": "code",
   "execution_count": null,
   "metadata": {},
   "outputs": [
    {
     "name": "stdout",
     "output_type": "stream",
     "text": [
      "bow2, gram3\n"
     ]
    }
   ],
   "source": [
    "print('bow2, gram3')\n",
    "acc, MRR = get_analogy_accuracy_MRR('vector2_gram3_analogy.txt', vector2, gram3_comparative) #returns just the sum\n",
    "print(acc, MRR)\n",
    "\n",
    "print('bow2, gram4')\n",
    "acc, MRR = get_analogy_accuracy_MRR('vector2_gram4_analogy.txt', vector2, gram4_superlative) #returns just the sum\n",
    "print(acc, MRR)\n",
    "\n",
    "print('bow2, gram5')\n",
    "acc, MRR = get_analogy_accuracy_MRR('vector2_gram5_analogy.txt', vector2, gram5_present_participle) #returns just the sum\n",
    "print(acc, MRR)\n",
    "\n",
    "print('bow2, gram6')\n",
    "acc, MRR = get_analogy_accuracy_MRR('vector2_gram6_analogy.txt', vector2, gram6_nationality_adjective) #returns just the sum\n",
    "print(acc, MRR)\n",
    "\n",
    "print('bow2, gram7')\n",
    "acc, MRR = get_analogy_accuracy_MRR('vector2_gram7_analogy.txt', vector2, gram7_past_tense) #returns just the sum\n",
    "print(acc, MRR)\n",
    "\n",
    "print('bow2, gram8')\n",
    "acc, MRR = get_analogy_accuracy_MRR('vector2_gram8_analogy.txt', vector2, gram8_plural) #returns just the sum\n",
    "print(acc, MRR)\n",
    "\n",
    "print('bow2, gram9')\n",
    "acc, MRR = get_analogy_accuracy_MRR('vector2_gram9_analogy.txt', vector2, gram9_plural_verbs) #returns just the sum\n",
    "print(acc, MRR)\n",
    "\n",
    "# MRR = MRR / len(all_analogy_pairs)\n",
    "# accuracy = accuracy / len(all_analogy_pairs)\n"
   ]
  },
  {
   "cell_type": "code",
   "execution_count": null,
   "metadata": {
    "collapsed": true
   },
   "outputs": [],
   "source": [
    "print('bow5, gram3')\n",
    "acc, MRR = get_analogy_accuracy_MRR('vector5_gram3_analogy.txt', vector5, gram3_comparative) #returns just the sum\n",
    "print(acc, MRR)\n",
    "\n",
    "print('bow5, gram4')\n",
    "acc, MRR = get_analogy_accuracy_MRR('vector5_gram4_analogy.txt', vector5, gram4_superlative) #returns just the sum\n",
    "print(acc, MRR)\n",
    "\n",
    "print('bow5, gram5')\n",
    "acc, MRR = get_analogy_accuracy_MRR('vector5_gram5_analogy.txt', vector5, gram5_present_participle) #returns just the sum\n",
    "print(acc, MRR)\n",
    "\n",
    "print('bow5, gram6')\n",
    "acc, MRR = get_analogy_accuracy_MRR('vector5_gram6_analogy.txt', vector5, gram6_nationality_adjective) #returns just the sum\n",
    "print(acc, MRR)\n",
    "\n",
    "print('bow5, gram7')\n",
    "acc, MRR = get_analogy_accuracy_MRR('vector5_gram7_analogy.txt', vector5, gram7_past_tense) #returns just the sum\n",
    "print(acc, MRR)\n",
    "\n",
    "print('bow5, gram8')\n",
    "acc, MRR = get_analogy_accuracy_MRR('vector5_gram8_analogy.txt', vector5, gram8_plural) #returns just the sum\n",
    "print(acc, MRR)\n",
    "\n",
    "print('bow5, gram9')\n",
    "acc, MRR = get_analogy_accuracy_MRR('vector5_gram9_analogy.txt', vector5, gram9_plural_verbs) #returns just the sum\n",
    "print(acc, MRR)\n",
    "\n",
    "# MRR = MRR / len(all_analogy_pairs)\n",
    "# accuracy = accuracy / len(all_analogy_pairs)"
   ]
  },
  {
   "cell_type": "code",
   "execution_count": null,
   "metadata": {
    "collapsed": true
   },
   "outputs": [],
   "source": [
    "print('deps, gram3')\n",
    "acc, MRR = get_analogy_accuracy_MRR('vector_deps_gram3_analogy.txt', vector_deps, gram3_comparative) #returns just the sum\n",
    "print(acc, MRR)\n",
    "\n",
    "print('deps, gram4')\n",
    "acc, MRR = get_analogy_accuracy_MRR('vector_deps_gram4_analogy.txt', vector_deps, gram4_superlative) #returns just the sum\n",
    "print(acc, MRR)\n",
    "\n",
    "print('deps, gram5')\n",
    "acc, MRR = get_analogy_accuracy_MRR('vector_deps_gram5_analogy.txt', vector_deps, gram5_present_participle) #returns just the sum\n",
    "print(acc, MRR)\n",
    "\n",
    "print('deps, gram6')\n",
    "acc, MRR = get_analogy_accuracy_MRR('vector_deps_gram6_analogy.txt', vector_deps, gram6_nationality_adjective) #returns just the sum\n",
    "print(acc, MRR)\n",
    "\n",
    "print('deps, gram7')\n",
    "acc, MRR = get_analogy_accuracy_MRR('vector_deps_gram7_analogy.txt', vector_deps, gram7_past_tense) #returns just the sum\n",
    "print(acc, MRR)\n",
    "\n",
    "print('deps, gram8')\n",
    "acc, MRR = get_analogy_accuracy_MRR('vector_deps_gram8_analogy.txt', vector_deps, gram8_plural) #returns just the sum\n",
    "print(acc, MRR)\n",
    "\n",
    "print('deps, gram9')\n",
    "acc, MRR = get_analogy_accuracy_MRR('vector_deps_gram9_analogy.txt', vector_deps, gram9_plural_verbs) #returns just the sum\n",
    "print(acc, MRR)\n",
    "\n",
    "# MRR = MRR / len(all_analogy_pairs)\n",
    "# accuracy = accuracy / len(all_analogy_pairs)"
   ]
  },
  {
   "cell_type": "code",
   "execution_count": null,
   "metadata": {
    "collapsed": true
   },
   "outputs": [],
   "source": []
  },
  {
   "cell_type": "markdown",
   "metadata": {},
   "source": [
    "## Clustering Word Vectors"
   ]
  },
  {
   "cell_type": "code",
   "execution_count": 33,
   "metadata": {
    "collapsed": true
   },
   "outputs": [],
   "source": [
    "from sklearn.decomposition import PCA\n",
    "from sklearn.cluster import KMeans\n",
    "import matplotlib.pyplot as plt\n",
    "from mpl_toolkits.mplot3d import Axes3D"
   ]
  },
  {
   "cell_type": "code",
   "execution_count": 34,
   "metadata": {},
   "outputs": [
    {
     "name": "stdout",
     "output_type": "stream",
     "text": [
      "1998\n",
      "['dollar', 'formula', 'pound', 'quote', 'ability', 'absence', 'abuse', 'acceptance', 'access', 'accident']\n"
     ]
    }
   ],
   "source": [
    "#read 2000 frequent nouns\n",
    "freq_file = '2000_nouns_sorted.txt'\n",
    "\n",
    "#read the files\n",
    "with open(freq_file) as f:\n",
    "    freq_nouns = [line.strip() for line in f]\n",
    "\n",
    "#remove 'fig.' because it is not a key in the embedding lists\n",
    "if 'fig.' in freq_nouns:\n",
    "    freq_nouns.remove('fig.')\n",
    "\n",
    "print(len(freq_nouns))\n",
    "print(freq_nouns[:10])"
   ]
  },
  {
   "cell_type": "code",
   "execution_count": 35,
   "metadata": {
    "collapsed": true
   },
   "outputs": [],
   "source": [
    "#keep the vectors of most frequent words\n",
    "freq_vectors_2 = []\n",
    "freq_vectors_5 = []\n",
    "freq_vectors_deps = []\n",
    "\n",
    "for i in range(len(freq_nouns)):\n",
    "    word = freq_nouns[i]    \n",
    "    #get vectors\n",
    "    freq_vectors_2.append(vector2[word])\n",
    "    freq_vectors_5.append(vector5[word])\n",
    "    freq_vectors_deps.append(vector_deps[word])\n"
   ]
  },
  {
   "cell_type": "code",
   "execution_count": 45,
   "metadata": {
    "collapsed": true
   },
   "outputs": [],
   "source": [
    "#TODO CHECK IF X AND Y ARE CORRECT\n",
    "def get_transformed_PCA(vectors, dims):\n",
    "    \n",
    "    pca = PCA(n_components= dims)\n",
    "    pca_result = pca.fit(vectors)\n",
    "    reduced_vectors = pca.transform(vectors)\n",
    "    reduced_vectors = np.asarray(reduced_vectors)\n",
    "    \n",
    "    return reduced_vectors, pca_result"
   ]
  },
  {
   "cell_type": "code",
   "execution_count": 37,
   "metadata": {
    "collapsed": true
   },
   "outputs": [],
   "source": [
    "def clustering(vectors, no_clusters):\n",
    "        \n",
    "    kmeans_model = KMeans(n_clusters=no_clusters, random_state=0) \n",
    "    kmeans_fit = kmeans_model.fit(vectors)\n",
    "    predictions = kmeans_fit.predict(vectors)    \n",
    "    return kmeans_fit, predictions"
   ]
  },
  {
   "cell_type": "code",
   "execution_count": 82,
   "metadata": {
    "collapsed": true
   },
   "outputs": [],
   "source": [
    "def visualize_clusters(reduced_vectors, freq_nouns, dims, annotate, predictions):\n",
    "\n",
    "    #2D visualization\n",
    "    if dims == 2:\n",
    "        fig, ax = plt.subplots()\n",
    "        \n",
    "        for i in range(len(freq_nouns)):\n",
    "            x = reduced_vectors[i,0]\n",
    "            y = reduced_vectors[i,1]\n",
    "\n",
    "            txt = freq_nouns[i]\n",
    "            if annotate:\n",
    "                ax.annotate(txt, (x, y))\n",
    "\n",
    "            # TODO FOR MORE THAN 2 CLUSTERS???\n",
    "            if predictions[i] == 0:\n",
    "                ax.scatter(x, y, c = 'blue')\n",
    "            else:\n",
    "                ax.scatter(x, y, c = 'orange')\n",
    "\n",
    "        ax.set_xlabel('PC1')\n",
    "        ax.set_ylabel('PC2')\n",
    "        plt.show()\n",
    "    #3D visualization  \n",
    "    elif dims == 3:\n",
    "        \n",
    "        fig = plt.figure()\n",
    "        ax = fig.add_subplot(111, projection='3d')\n",
    "\n",
    "        for i in range(len(freq_nouns)):\n",
    "            x = reduced_vectors[i,0]\n",
    "            y = reduced_vectors[i,1]\n",
    "            z = reduced_vectors[i,2]\n",
    "            txt = freq_nouns[i]\n",
    "            if annotate:\n",
    "                ax.annotate(txt, (x, y))\n",
    "\n",
    "            # TODO FOR MORE THAN 2 CLUSTERS???\n",
    "            if predictions[i] == 0:\n",
    "                ax.scatter(x, y, z, c = 'blue')\n",
    "            else:\n",
    "                ax.scatter(x, y, z, c = 'orange')\n",
    "\n",
    "        ax.set_xlabel('PC1')\n",
    "        ax.set_ylabel('PC2')\n",
    "        ax.set_zlabel('PC3')\n",
    "        plt.show()\n",
    "        \n",
    "    "
   ]
  },
  {
   "cell_type": "code",
   "execution_count": 83,
   "metadata": {
    "collapsed": true
   },
   "outputs": [],
   "source": [
    "dimensions = 2\n",
    "no_clusters = 2\n",
    "annotate = False\n",
    "\n",
    "# dimensions = [2,3]\n",
    "# no_clusters = [2,3,4,5,10,20]\n",
    "\n",
    "reduced_vectors_2, pca_2 = get_transformed_PCA(freq_vectors_2, dimensions)\n",
    "reduced_vectors_5, pca_5 = get_transformed_PCA(freq_vectors_5, dimensions)\n",
    "reduced_vectors_deps, pca_deps = get_transformed_PCA(freq_vectors_deps, dimensions)"
   ]
  },
  {
   "cell_type": "code",
   "execution_count": 76,
   "metadata": {},
   "outputs": [
    {
     "name": "stdout",
     "output_type": "stream",
     "text": [
      "[ 0.02631501  0.0222872 ] [ 0.03161126  0.0267728 ]\n",
      "[ 0.03607112  0.02960414] [ 0.04024122  0.0330266 ]\n",
      "[ 0.02652753  0.02390708] [ 0.03547388  0.03196969]\n"
     ]
    }
   ],
   "source": [
    "print(pca_2.explained_variance_, pca_2.explained_variance_ratio_)\n",
    "print(pca_5.explained_variance_, pca_5.explained_variance_ratio_)\n",
    "print(pca_deps.explained_variance_, pca_deps.explained_variance_ratio_)"
   ]
  },
  {
   "cell_type": "code",
   "execution_count": 77,
   "metadata": {
    "collapsed": true
   },
   "outputs": [],
   "source": [
    "kmeans_fit_2, predictions_2 = clustering(freq_vectors_2, no_clusters)\n",
    "kmeans_fit_5, predictions_5 = clustering(freq_vectors_5, no_clusters)\n",
    "kmeans_fit_deps, predictions_deps = clustering(freq_vectors_deps, no_clusters)"
   ]
  },
  {
   "cell_type": "code",
   "execution_count": 84,
   "metadata": {},
   "outputs": [
    {
     "data": {
      "image/png": "[encoded data removed]",
      "text/plain": [
       "<matplotlib.figure.Figure at 0x7f9b1c7751d0>"
      ]
     },
     "metadata": {},
     "output_type": "display_data"
    },
    {
     "data": {
      "image/png": "[encoded data removed]",
      "text/plain": [
       "<matplotlib.figure.Figure at 0x7f9b12359048>"
      ]
     },
     "metadata": {},
     "output_type": "display_data"
    },
    {
     "data": {
      "image/png": "[encoded data removed]",
      "text/plain": [
       "<matplotlib.figure.Figure at 0x7f9b12359080>"
      ]
     },
     "metadata": {},
     "output_type": "display_data"
    },
    {
     "data": {
      "image/png": "[encoded data removed]",
      "text/plain": [
       "<matplotlib.figure.Figure at 0x7f9b112a12b0>"
      ]
     },
     "metadata": {},
     "output_type": "display_data"
    },
    {
     "data": {
      "image/png": "[encoded data removed]",
      "text/plain": [
       "<matplotlib.figure.Figure at 0x7f9b1c60b6d8>"
      ]
     },
     "metadata": {},
     "output_type": "display_data"
    },
    {
     "data": {
      "image/png": "[encoded data removed]",
      "text/plain": [
       "<matplotlib.figure.Figure at 0x7f9b15fdd2b0>"
      ]
     },
     "metadata": {},
     "output_type": "display_data"
    },
    {
     "ename": "ValueError",
     "evalue": "object too deep for desired array",
     "output_type": "error",
     "traceback": [
      "\u001b[0;31m---------------------------------------------------------------------------\u001b[0m",
      "\u001b[0;31mValueError\u001b[0m                                Traceback (most recent call last)",
      "\u001b[0;32m~/anaconda3/lib/python3.6/site-packages/IPython/core/formatters.py\u001b[0m in \u001b[0;36m__call__\u001b[0;34m(self, obj)\u001b[0m\n\u001b[1;32m    330\u001b[0m                 \u001b[0;32mpass\u001b[0m\u001b[0;34m\u001b[0m\u001b[0m\n\u001b[1;32m    331\u001b[0m             \u001b[0;32melse\u001b[0m\u001b[0;34m:\u001b[0m\u001b[0;34m\u001b[0m\u001b[0m\n\u001b[0;32m--> 332\u001b[0;31m                 \u001b[0;32mreturn\u001b[0m \u001b[0mprinter\u001b[0m\u001b[0;34m(\u001b[0m\u001b[0mobj\u001b[0m\u001b[0;34m)\u001b[0m\u001b[0;34m\u001b[0m\u001b[0m\n\u001b[0m\u001b[1;32m    333\u001b[0m             \u001b[0;31m# Finally look for special method names\u001b[0m\u001b[0;34m\u001b[0m\u001b[0;34m\u001b[0m\u001b[0m\n\u001b[1;32m    334\u001b[0m             \u001b[0mmethod\u001b[0m \u001b[0;34m=\u001b[0m \u001b[0mget_real_method\u001b[0m\u001b[0;34m(\u001b[0m\u001b[0mobj\u001b[0m\u001b[0;34m,\u001b[0m \u001b[0mself\u001b[0m\u001b[0;34m.\u001b[0m\u001b[0mprint_method\u001b[0m\u001b[0;34m)\u001b[0m\u001b[0;34m\u001b[0m\u001b[0m\n",
      "\u001b[0;32m~/anaconda3/lib/python3.6/site-packages/IPython/core/pylabtools.py\u001b[0m in \u001b[0;36m<lambda>\u001b[0;34m(fig)\u001b[0m\n\u001b[1;32m    235\u001b[0m \u001b[0;34m\u001b[0m\u001b[0m\n\u001b[1;32m    236\u001b[0m     \u001b[0;32mif\u001b[0m \u001b[0;34m'png'\u001b[0m \u001b[0;32min\u001b[0m \u001b[0mformats\u001b[0m\u001b[0;34m:\u001b[0m\u001b[0;34m\u001b[0m\u001b[0m\n\u001b[0;32m--> 237\u001b[0;31m         \u001b[0mpng_formatter\u001b[0m\u001b[0;34m.\u001b[0m\u001b[0mfor_type\u001b[0m\u001b[0;34m(\u001b[0m\u001b[0mFigure\u001b[0m\u001b[0;34m,\u001b[0m \u001b[0;32mlambda\u001b[0m \u001b[0mfig\u001b[0m\u001b[0;34m:\u001b[0m \u001b[0mprint_figure\u001b[0m\u001b[0;34m(\u001b[0m\u001b[0mfig\u001b[0m\u001b[0;34m,\u001b[0m \u001b[0;34m'png'\u001b[0m\u001b[0;34m,\u001b[0m \u001b[0;34m**\u001b[0m\u001b[0mkwargs\u001b[0m\u001b[0;34m)\u001b[0m\u001b[0;34m)\u001b[0m\u001b[0;34m\u001b[0m\u001b[0m\n\u001b[0m\u001b[1;32m    238\u001b[0m     \u001b[0;32mif\u001b[0m \u001b[0;34m'retina'\u001b[0m \u001b[0;32min\u001b[0m \u001b[0mformats\u001b[0m \u001b[0;32mor\u001b[0m \u001b[0;34m'png2x'\u001b[0m \u001b[0;32min\u001b[0m \u001b[0mformats\u001b[0m\u001b[0;34m:\u001b[0m\u001b[0;34m\u001b[0m\u001b[0m\n\u001b[1;32m    239\u001b[0m         \u001b[0mpng_formatter\u001b[0m\u001b[0;34m.\u001b[0m\u001b[0mfor_type\u001b[0m\u001b[0;34m(\u001b[0m\u001b[0mFigure\u001b[0m\u001b[0;34m,\u001b[0m \u001b[0;32mlambda\u001b[0m \u001b[0mfig\u001b[0m\u001b[0;34m:\u001b[0m \u001b[0mretina_figure\u001b[0m\u001b[0;34m(\u001b[0m\u001b[0mfig\u001b[0m\u001b[0;34m,\u001b[0m \u001b[0;34m**\u001b[0m\u001b[0mkwargs\u001b[0m\u001b[0;34m)\u001b[0m\u001b[0;34m)\u001b[0m\u001b[0;34m\u001b[0m\u001b[0m\n",
      "\u001b[0;32m~/anaconda3/lib/python3.6/site-packages/IPython/core/pylabtools.py\u001b[0m in \u001b[0;36mprint_figure\u001b[0;34m(fig, fmt, bbox_inches, **kwargs)\u001b[0m\n\u001b[1;32m    119\u001b[0m \u001b[0;34m\u001b[0m\u001b[0m\n\u001b[1;32m    120\u001b[0m     \u001b[0mbytes_io\u001b[0m \u001b[0;34m=\u001b[0m \u001b[0mBytesIO\u001b[0m\u001b[0;34m(\u001b[0m\u001b[0;34m)\u001b[0m\u001b[0;34m\u001b[0m\u001b[0m\n\u001b[0;32m--> 121\u001b[0;31m     \u001b[0mfig\u001b[0m\u001b[0;34m.\u001b[0m\u001b[0mcanvas\u001b[0m\u001b[0;34m.\u001b[0m\u001b[0mprint_figure\u001b[0m\u001b[0;34m(\u001b[0m\u001b[0mbytes_io\u001b[0m\u001b[0;34m,\u001b[0m \u001b[0;34m**\u001b[0m\u001b[0mkw\u001b[0m\u001b[0;34m)\u001b[0m\u001b[0;34m\u001b[0m\u001b[0m\n\u001b[0m\u001b[1;32m    122\u001b[0m     \u001b[0mdata\u001b[0m \u001b[0;34m=\u001b[0m \u001b[0mbytes_io\u001b[0m\u001b[0;34m.\u001b[0m\u001b[0mgetvalue\u001b[0m\u001b[0;34m(\u001b[0m\u001b[0;34m)\u001b[0m\u001b[0;34m\u001b[0m\u001b[0m\n\u001b[1;32m    123\u001b[0m     \u001b[0;32mif\u001b[0m \u001b[0mfmt\u001b[0m \u001b[0;34m==\u001b[0m \u001b[0;34m'svg'\u001b[0m\u001b[0;34m:\u001b[0m\u001b[0;34m\u001b[0m\u001b[0m\n",
      "\u001b[0;32m~/anaconda3/lib/python3.6/site-packages/matplotlib/backend_bases.py\u001b[0m in \u001b[0;36mprint_figure\u001b[0;34m(self, filename, dpi, facecolor, edgecolor, orientation, format, **kwargs)\u001b[0m\n\u001b[1;32m   2206\u001b[0m                     \u001b[0morientation\u001b[0m\u001b[0;34m=\u001b[0m\u001b[0morientation\u001b[0m\u001b[0;34m,\u001b[0m\u001b[0;34m\u001b[0m\u001b[0m\n\u001b[1;32m   2207\u001b[0m                     \u001b[0mdryrun\u001b[0m\u001b[0;34m=\u001b[0m\u001b[0;32mTrue\u001b[0m\u001b[0;34m,\u001b[0m\u001b[0;34m\u001b[0m\u001b[0m\n\u001b[0;32m-> 2208\u001b[0;31m                     **kwargs)\n\u001b[0m\u001b[1;32m   2209\u001b[0m                 \u001b[0mrenderer\u001b[0m \u001b[0;34m=\u001b[0m \u001b[0mself\u001b[0m\u001b[0;34m.\u001b[0m\u001b[0mfigure\u001b[0m\u001b[0;34m.\u001b[0m\u001b[0m_cachedRenderer\u001b[0m\u001b[0;34m\u001b[0m\u001b[0m\n\u001b[1;32m   2210\u001b[0m                 \u001b[0mbbox_inches\u001b[0m \u001b[0;34m=\u001b[0m \u001b[0mself\u001b[0m\u001b[0;34m.\u001b[0m\u001b[0mfigure\u001b[0m\u001b[0;34m.\u001b[0m\u001b[0mget_tightbbox\u001b[0m\u001b[0;34m(\u001b[0m\u001b[0mrenderer\u001b[0m\u001b[0;34m)\u001b[0m\u001b[0;34m\u001b[0m\u001b[0m\n",
      "\u001b[0;32m~/anaconda3/lib/python3.6/site-packages/matplotlib/backends/backend_agg.py\u001b[0m in \u001b[0;36mprint_png\u001b[0;34m(self, filename_or_obj, *args, **kwargs)\u001b[0m\n\u001b[1;32m    505\u001b[0m \u001b[0;34m\u001b[0m\u001b[0m\n\u001b[1;32m    506\u001b[0m     \u001b[0;32mdef\u001b[0m \u001b[0mprint_png\u001b[0m\u001b[0;34m(\u001b[0m\u001b[0mself\u001b[0m\u001b[0;34m,\u001b[0m \u001b[0mfilename_or_obj\u001b[0m\u001b[0;34m,\u001b[0m \u001b[0;34m*\u001b[0m\u001b[0margs\u001b[0m\u001b[0;34m,\u001b[0m \u001b[0;34m**\u001b[0m\u001b[0mkwargs\u001b[0m\u001b[0;34m)\u001b[0m\u001b[0;34m:\u001b[0m\u001b[0;34m\u001b[0m\u001b[0m\n\u001b[0;32m--> 507\u001b[0;31m         \u001b[0mFigureCanvasAgg\u001b[0m\u001b[0;34m.\u001b[0m\u001b[0mdraw\u001b[0m\u001b[0;34m(\u001b[0m\u001b[0mself\u001b[0m\u001b[0;34m)\u001b[0m\u001b[0;34m\u001b[0m\u001b[0m\n\u001b[0m\u001b[1;32m    508\u001b[0m         \u001b[0mrenderer\u001b[0m \u001b[0;34m=\u001b[0m \u001b[0mself\u001b[0m\u001b[0;34m.\u001b[0m\u001b[0mget_renderer\u001b[0m\u001b[0;34m(\u001b[0m\u001b[0;34m)\u001b[0m\u001b[0;34m\u001b[0m\u001b[0m\n\u001b[1;32m    509\u001b[0m         \u001b[0moriginal_dpi\u001b[0m \u001b[0;34m=\u001b[0m \u001b[0mrenderer\u001b[0m\u001b[0;34m.\u001b[0m\u001b[0mdpi\u001b[0m\u001b[0;34m\u001b[0m\u001b[0m\n",
      "\u001b[0;32m~/anaconda3/lib/python3.6/site-packages/matplotlib/backends/backend_agg.py\u001b[0m in \u001b[0;36mdraw\u001b[0;34m(self)\u001b[0m\n\u001b[1;32m    428\u001b[0m             \u001b[0;32mif\u001b[0m \u001b[0mtoolbar\u001b[0m\u001b[0;34m:\u001b[0m\u001b[0;34m\u001b[0m\u001b[0m\n\u001b[1;32m    429\u001b[0m                 \u001b[0mtoolbar\u001b[0m\u001b[0;34m.\u001b[0m\u001b[0mset_cursor\u001b[0m\u001b[0;34m(\u001b[0m\u001b[0mcursors\u001b[0m\u001b[0;34m.\u001b[0m\u001b[0mWAIT\u001b[0m\u001b[0;34m)\u001b[0m\u001b[0;34m\u001b[0m\u001b[0m\n\u001b[0;32m--> 430\u001b[0;31m             \u001b[0mself\u001b[0m\u001b[0;34m.\u001b[0m\u001b[0mfigure\u001b[0m\u001b[0;34m.\u001b[0m\u001b[0mdraw\u001b[0m\u001b[0;34m(\u001b[0m\u001b[0mself\u001b[0m\u001b[0;34m.\u001b[0m\u001b[0mrenderer\u001b[0m\u001b[0;34m)\u001b[0m\u001b[0;34m\u001b[0m\u001b[0m\n\u001b[0m\u001b[1;32m    431\u001b[0m         \u001b[0;32mfinally\u001b[0m\u001b[0;34m:\u001b[0m\u001b[0;34m\u001b[0m\u001b[0m\n\u001b[1;32m    432\u001b[0m             \u001b[0;32mif\u001b[0m \u001b[0mtoolbar\u001b[0m\u001b[0;34m:\u001b[0m\u001b[0;34m\u001b[0m\u001b[0m\n",
      "\u001b[0;32m~/anaconda3/lib/python3.6/site-packages/matplotlib/artist.py\u001b[0m in \u001b[0;36mdraw_wrapper\u001b[0;34m(artist, renderer, *args, **kwargs)\u001b[0m\n\u001b[1;32m     53\u001b[0m                 \u001b[0mrenderer\u001b[0m\u001b[0;34m.\u001b[0m\u001b[0mstart_filter\u001b[0m\u001b[0;34m(\u001b[0m\u001b[0;34m)\u001b[0m\u001b[0;34m\u001b[0m\u001b[0m\n\u001b[1;32m     54\u001b[0m \u001b[0;34m\u001b[0m\u001b[0m\n\u001b[0;32m---> 55\u001b[0;31m             \u001b[0;32mreturn\u001b[0m \u001b[0mdraw\u001b[0m\u001b[0;34m(\u001b[0m\u001b[0martist\u001b[0m\u001b[0;34m,\u001b[0m \u001b[0mrenderer\u001b[0m\u001b[0;34m,\u001b[0m \u001b[0;34m*\u001b[0m\u001b[0margs\u001b[0m\u001b[0;34m,\u001b[0m \u001b[0;34m**\u001b[0m\u001b[0mkwargs\u001b[0m\u001b[0;34m)\u001b[0m\u001b[0;34m\u001b[0m\u001b[0m\n\u001b[0m\u001b[1;32m     56\u001b[0m         \u001b[0;32mfinally\u001b[0m\u001b[0;34m:\u001b[0m\u001b[0;34m\u001b[0m\u001b[0m\n\u001b[1;32m     57\u001b[0m             \u001b[0;32mif\u001b[0m \u001b[0martist\u001b[0m\u001b[0;34m.\u001b[0m\u001b[0mget_agg_filter\u001b[0m\u001b[0;34m(\u001b[0m\u001b[0;34m)\u001b[0m \u001b[0;32mis\u001b[0m \u001b[0;32mnot\u001b[0m \u001b[0;32mNone\u001b[0m\u001b[0;34m:\u001b[0m\u001b[0;34m\u001b[0m\u001b[0m\n",
      "\u001b[0;32m~/anaconda3/lib/python3.6/site-packages/matplotlib/figure.py\u001b[0m in \u001b[0;36mdraw\u001b[0;34m(self, renderer)\u001b[0m\n\u001b[1;32m   1293\u001b[0m \u001b[0;34m\u001b[0m\u001b[0m\n\u001b[1;32m   1294\u001b[0m             mimage._draw_list_compositing_images(\n\u001b[0;32m-> 1295\u001b[0;31m                 renderer, self, artists, self.suppressComposite)\n\u001b[0m\u001b[1;32m   1296\u001b[0m \u001b[0;34m\u001b[0m\u001b[0m\n\u001b[1;32m   1297\u001b[0m             \u001b[0mrenderer\u001b[0m\u001b[0;34m.\u001b[0m\u001b[0mclose_group\u001b[0m\u001b[0;34m(\u001b[0m\u001b[0;34m'figure'\u001b[0m\u001b[0;34m)\u001b[0m\u001b[0;34m\u001b[0m\u001b[0m\n",
      "\u001b[0;32m~/anaconda3/lib/python3.6/site-packages/matplotlib/image.py\u001b[0m in \u001b[0;36m_draw_list_compositing_images\u001b[0;34m(renderer, parent, artists, suppress_composite)\u001b[0m\n\u001b[1;32m    136\u001b[0m     \u001b[0;32mif\u001b[0m \u001b[0mnot_composite\u001b[0m \u001b[0;32mor\u001b[0m \u001b[0;32mnot\u001b[0m \u001b[0mhas_images\u001b[0m\u001b[0;34m:\u001b[0m\u001b[0;34m\u001b[0m\u001b[0m\n\u001b[1;32m    137\u001b[0m         \u001b[0;32mfor\u001b[0m \u001b[0ma\u001b[0m \u001b[0;32min\u001b[0m \u001b[0martists\u001b[0m\u001b[0;34m:\u001b[0m\u001b[0;34m\u001b[0m\u001b[0m\n\u001b[0;32m--> 138\u001b[0;31m             \u001b[0ma\u001b[0m\u001b[0;34m.\u001b[0m\u001b[0mdraw\u001b[0m\u001b[0;34m(\u001b[0m\u001b[0mrenderer\u001b[0m\u001b[0;34m)\u001b[0m\u001b[0;34m\u001b[0m\u001b[0m\n\u001b[0m\u001b[1;32m    139\u001b[0m     \u001b[0;32melse\u001b[0m\u001b[0;34m:\u001b[0m\u001b[0;34m\u001b[0m\u001b[0m\n\u001b[1;32m    140\u001b[0m         \u001b[0;31m# Composite any adjacent images together\u001b[0m\u001b[0;34m\u001b[0m\u001b[0;34m\u001b[0m\u001b[0m\n",
      "\u001b[0;32m~/anaconda3/lib/python3.6/site-packages/matplotlib/artist.py\u001b[0m in \u001b[0;36mdraw_wrapper\u001b[0;34m(artist, renderer, *args, **kwargs)\u001b[0m\n\u001b[1;32m     53\u001b[0m                 \u001b[0mrenderer\u001b[0m\u001b[0;34m.\u001b[0m\u001b[0mstart_filter\u001b[0m\u001b[0;34m(\u001b[0m\u001b[0;34m)\u001b[0m\u001b[0;34m\u001b[0m\u001b[0m\n\u001b[1;32m     54\u001b[0m \u001b[0;34m\u001b[0m\u001b[0m\n\u001b[0;32m---> 55\u001b[0;31m             \u001b[0;32mreturn\u001b[0m \u001b[0mdraw\u001b[0m\u001b[0;34m(\u001b[0m\u001b[0martist\u001b[0m\u001b[0;34m,\u001b[0m \u001b[0mrenderer\u001b[0m\u001b[0;34m,\u001b[0m \u001b[0;34m*\u001b[0m\u001b[0margs\u001b[0m\u001b[0;34m,\u001b[0m \u001b[0;34m**\u001b[0m\u001b[0mkwargs\u001b[0m\u001b[0;34m)\u001b[0m\u001b[0;34m\u001b[0m\u001b[0m\n\u001b[0m\u001b[1;32m     56\u001b[0m         \u001b[0;32mfinally\u001b[0m\u001b[0;34m:\u001b[0m\u001b[0;34m\u001b[0m\u001b[0m\n\u001b[1;32m     57\u001b[0m             \u001b[0;32mif\u001b[0m \u001b[0martist\u001b[0m\u001b[0;34m.\u001b[0m\u001b[0mget_agg_filter\u001b[0m\u001b[0;34m(\u001b[0m\u001b[0;34m)\u001b[0m \u001b[0;32mis\u001b[0m \u001b[0;32mnot\u001b[0m \u001b[0;32mNone\u001b[0m\u001b[0;34m:\u001b[0m\u001b[0;34m\u001b[0m\u001b[0m\n",
      "\u001b[0;32m~/anaconda3/lib/python3.6/site-packages/matplotlib/axes/_base.py\u001b[0m in \u001b[0;36mdraw\u001b[0;34m(self, renderer, inframe)\u001b[0m\n\u001b[1;32m   2397\u001b[0m             \u001b[0mrenderer\u001b[0m\u001b[0;34m.\u001b[0m\u001b[0mstop_rasterizing\u001b[0m\u001b[0;34m(\u001b[0m\u001b[0;34m)\u001b[0m\u001b[0;34m\u001b[0m\u001b[0m\n\u001b[1;32m   2398\u001b[0m \u001b[0;34m\u001b[0m\u001b[0m\n\u001b[0;32m-> 2399\u001b[0;31m         \u001b[0mmimage\u001b[0m\u001b[0;34m.\u001b[0m\u001b[0m_draw_list_compositing_images\u001b[0m\u001b[0;34m(\u001b[0m\u001b[0mrenderer\u001b[0m\u001b[0;34m,\u001b[0m \u001b[0mself\u001b[0m\u001b[0;34m,\u001b[0m \u001b[0martists\u001b[0m\u001b[0;34m)\u001b[0m\u001b[0;34m\u001b[0m\u001b[0m\n\u001b[0m\u001b[1;32m   2400\u001b[0m \u001b[0;34m\u001b[0m\u001b[0m\n\u001b[1;32m   2401\u001b[0m         \u001b[0mrenderer\u001b[0m\u001b[0;34m.\u001b[0m\u001b[0mclose_group\u001b[0m\u001b[0;34m(\u001b[0m\u001b[0;34m'axes'\u001b[0m\u001b[0;34m)\u001b[0m\u001b[0;34m\u001b[0m\u001b[0m\n",
      "\u001b[0;32m~/anaconda3/lib/python3.6/site-packages/matplotlib/image.py\u001b[0m in \u001b[0;36m_draw_list_compositing_images\u001b[0;34m(renderer, parent, artists, suppress_composite)\u001b[0m\n\u001b[1;32m    136\u001b[0m     \u001b[0;32mif\u001b[0m \u001b[0mnot_composite\u001b[0m \u001b[0;32mor\u001b[0m \u001b[0;32mnot\u001b[0m \u001b[0mhas_images\u001b[0m\u001b[0;34m:\u001b[0m\u001b[0;34m\u001b[0m\u001b[0m\n\u001b[1;32m    137\u001b[0m         \u001b[0;32mfor\u001b[0m \u001b[0ma\u001b[0m \u001b[0;32min\u001b[0m \u001b[0martists\u001b[0m\u001b[0;34m:\u001b[0m\u001b[0;34m\u001b[0m\u001b[0m\n\u001b[0;32m--> 138\u001b[0;31m             \u001b[0ma\u001b[0m\u001b[0;34m.\u001b[0m\u001b[0mdraw\u001b[0m\u001b[0;34m(\u001b[0m\u001b[0mrenderer\u001b[0m\u001b[0;34m)\u001b[0m\u001b[0;34m\u001b[0m\u001b[0m\n\u001b[0m\u001b[1;32m    139\u001b[0m     \u001b[0;32melse\u001b[0m\u001b[0;34m:\u001b[0m\u001b[0;34m\u001b[0m\u001b[0m\n\u001b[1;32m    140\u001b[0m         \u001b[0;31m# Composite any adjacent images together\u001b[0m\u001b[0;34m\u001b[0m\u001b[0;34m\u001b[0m\u001b[0m\n",
      "\u001b[0;32m~/anaconda3/lib/python3.6/site-packages/matplotlib/artist.py\u001b[0m in \u001b[0;36mdraw_wrapper\u001b[0;34m(artist, renderer, *args, **kwargs)\u001b[0m\n\u001b[1;32m     53\u001b[0m                 \u001b[0mrenderer\u001b[0m\u001b[0;34m.\u001b[0m\u001b[0mstart_filter\u001b[0m\u001b[0;34m(\u001b[0m\u001b[0;34m)\u001b[0m\u001b[0;34m\u001b[0m\u001b[0m\n\u001b[1;32m     54\u001b[0m \u001b[0;34m\u001b[0m\u001b[0m\n\u001b[0;32m---> 55\u001b[0;31m             \u001b[0;32mreturn\u001b[0m \u001b[0mdraw\u001b[0m\u001b[0;34m(\u001b[0m\u001b[0martist\u001b[0m\u001b[0;34m,\u001b[0m \u001b[0mrenderer\u001b[0m\u001b[0;34m,\u001b[0m \u001b[0;34m*\u001b[0m\u001b[0margs\u001b[0m\u001b[0;34m,\u001b[0m \u001b[0;34m**\u001b[0m\u001b[0mkwargs\u001b[0m\u001b[0;34m)\u001b[0m\u001b[0;34m\u001b[0m\u001b[0m\n\u001b[0m\u001b[1;32m     56\u001b[0m         \u001b[0;32mfinally\u001b[0m\u001b[0;34m:\u001b[0m\u001b[0;34m\u001b[0m\u001b[0m\n\u001b[1;32m     57\u001b[0m             \u001b[0;32mif\u001b[0m \u001b[0martist\u001b[0m\u001b[0;34m.\u001b[0m\u001b[0mget_agg_filter\u001b[0m\u001b[0;34m(\u001b[0m\u001b[0;34m)\u001b[0m \u001b[0;32mis\u001b[0m \u001b[0;32mnot\u001b[0m \u001b[0;32mNone\u001b[0m\u001b[0;34m:\u001b[0m\u001b[0;34m\u001b[0m\u001b[0m\n",
      "\u001b[0;32m~/anaconda3/lib/python3.6/site-packages/matplotlib/collections.py\u001b[0m in \u001b[0;36mdraw\u001b[0;34m(self, renderer)\u001b[0m\n\u001b[1;32m    843\u001b[0m     \u001b[0;32mdef\u001b[0m \u001b[0mdraw\u001b[0m\u001b[0;34m(\u001b[0m\u001b[0mself\u001b[0m\u001b[0;34m,\u001b[0m \u001b[0mrenderer\u001b[0m\u001b[0;34m)\u001b[0m\u001b[0;34m:\u001b[0m\u001b[0;34m\u001b[0m\u001b[0m\n\u001b[1;32m    844\u001b[0m         \u001b[0mself\u001b[0m\u001b[0;34m.\u001b[0m\u001b[0mset_sizes\u001b[0m\u001b[0;34m(\u001b[0m\u001b[0mself\u001b[0m\u001b[0;34m.\u001b[0m\u001b[0m_sizes\u001b[0m\u001b[0;34m,\u001b[0m \u001b[0mself\u001b[0m\u001b[0;34m.\u001b[0m\u001b[0mfigure\u001b[0m\u001b[0;34m.\u001b[0m\u001b[0mdpi\u001b[0m\u001b[0;34m)\u001b[0m\u001b[0;34m\u001b[0m\u001b[0m\n\u001b[0;32m--> 845\u001b[0;31m         \u001b[0mCollection\u001b[0m\u001b[0;34m.\u001b[0m\u001b[0mdraw\u001b[0m\u001b[0;34m(\u001b[0m\u001b[0mself\u001b[0m\u001b[0;34m,\u001b[0m \u001b[0mrenderer\u001b[0m\u001b[0;34m)\u001b[0m\u001b[0;34m\u001b[0m\u001b[0m\n\u001b[0m\u001b[1;32m    846\u001b[0m \u001b[0;34m\u001b[0m\u001b[0m\n\u001b[1;32m    847\u001b[0m \u001b[0;34m\u001b[0m\u001b[0m\n",
      "\u001b[0;32m~/anaconda3/lib/python3.6/site-packages/matplotlib/artist.py\u001b[0m in \u001b[0;36mdraw_wrapper\u001b[0;34m(artist, renderer, *args, **kwargs)\u001b[0m\n\u001b[1;32m     53\u001b[0m                 \u001b[0mrenderer\u001b[0m\u001b[0;34m.\u001b[0m\u001b[0mstart_filter\u001b[0m\u001b[0;34m(\u001b[0m\u001b[0;34m)\u001b[0m\u001b[0;34m\u001b[0m\u001b[0m\n\u001b[1;32m     54\u001b[0m \u001b[0;34m\u001b[0m\u001b[0m\n\u001b[0;32m---> 55\u001b[0;31m             \u001b[0;32mreturn\u001b[0m \u001b[0mdraw\u001b[0m\u001b[0;34m(\u001b[0m\u001b[0martist\u001b[0m\u001b[0;34m,\u001b[0m \u001b[0mrenderer\u001b[0m\u001b[0;34m,\u001b[0m \u001b[0;34m*\u001b[0m\u001b[0margs\u001b[0m\u001b[0;34m,\u001b[0m \u001b[0;34m**\u001b[0m\u001b[0mkwargs\u001b[0m\u001b[0;34m)\u001b[0m\u001b[0;34m\u001b[0m\u001b[0m\n\u001b[0m\u001b[1;32m     56\u001b[0m         \u001b[0;32mfinally\u001b[0m\u001b[0;34m:\u001b[0m\u001b[0;34m\u001b[0m\u001b[0m\n\u001b[1;32m     57\u001b[0m             \u001b[0;32mif\u001b[0m \u001b[0martist\u001b[0m\u001b[0;34m.\u001b[0m\u001b[0mget_agg_filter\u001b[0m\u001b[0;34m(\u001b[0m\u001b[0;34m)\u001b[0m \u001b[0;32mis\u001b[0m \u001b[0;32mnot\u001b[0m \u001b[0;32mNone\u001b[0m\u001b[0;34m:\u001b[0m\u001b[0;34m\u001b[0m\u001b[0m\n",
      "\u001b[0;32m~/anaconda3/lib/python3.6/site-packages/matplotlib/collections.py\u001b[0m in \u001b[0;36mdraw\u001b[0;34m(self, renderer)\u001b[0m\n\u001b[1;32m    311\u001b[0m             renderer.draw_markers(\n\u001b[1;32m    312\u001b[0m                 \u001b[0mgc\u001b[0m\u001b[0;34m,\u001b[0m \u001b[0mpaths\u001b[0m\u001b[0;34m[\u001b[0m\u001b[0;36m0\u001b[0m\u001b[0;34m]\u001b[0m\u001b[0;34m,\u001b[0m \u001b[0mcombined_transform\u001b[0m\u001b[0;34m.\u001b[0m\u001b[0mfrozen\u001b[0m\u001b[0;34m(\u001b[0m\u001b[0;34m)\u001b[0m\u001b[0;34m,\u001b[0m\u001b[0;34m\u001b[0m\u001b[0m\n\u001b[0;32m--> 313\u001b[0;31m                 mpath.Path(offsets), transOffset, tuple(facecolors[0]))\n\u001b[0m\u001b[1;32m    314\u001b[0m         \u001b[0;32melse\u001b[0m\u001b[0;34m:\u001b[0m\u001b[0;34m\u001b[0m\u001b[0m\n\u001b[1;32m    315\u001b[0m             renderer.draw_path_collection(\n",
      "\u001b[0;32m~/anaconda3/lib/python3.6/site-packages/matplotlib/backends/backend_agg.py\u001b[0m in \u001b[0;36mdraw_markers\u001b[0;34m(self, *kl, **kw)\u001b[0m\n\u001b[1;32m    115\u001b[0m     \u001b[0;31m# maybe there is better way to do it.\u001b[0m\u001b[0;34m\u001b[0m\u001b[0;34m\u001b[0m\u001b[0m\n\u001b[1;32m    116\u001b[0m     \u001b[0;32mdef\u001b[0m \u001b[0mdraw_markers\u001b[0m\u001b[0;34m(\u001b[0m\u001b[0mself\u001b[0m\u001b[0;34m,\u001b[0m \u001b[0;34m*\u001b[0m\u001b[0mkl\u001b[0m\u001b[0;34m,\u001b[0m \u001b[0;34m**\u001b[0m\u001b[0mkw\u001b[0m\u001b[0;34m)\u001b[0m\u001b[0;34m:\u001b[0m\u001b[0;34m\u001b[0m\u001b[0m\n\u001b[0;32m--> 117\u001b[0;31m         \u001b[0;32mreturn\u001b[0m \u001b[0mself\u001b[0m\u001b[0;34m.\u001b[0m\u001b[0m_renderer\u001b[0m\u001b[0;34m.\u001b[0m\u001b[0mdraw_markers\u001b[0m\u001b[0;34m(\u001b[0m\u001b[0;34m*\u001b[0m\u001b[0mkl\u001b[0m\u001b[0;34m,\u001b[0m \u001b[0;34m**\u001b[0m\u001b[0mkw\u001b[0m\u001b[0;34m)\u001b[0m\u001b[0;34m\u001b[0m\u001b[0m\n\u001b[0m\u001b[1;32m    118\u001b[0m \u001b[0;34m\u001b[0m\u001b[0m\n\u001b[1;32m    119\u001b[0m     \u001b[0;32mdef\u001b[0m \u001b[0mdraw_path_collection\u001b[0m\u001b[0;34m(\u001b[0m\u001b[0mself\u001b[0m\u001b[0;34m,\u001b[0m \u001b[0;34m*\u001b[0m\u001b[0mkl\u001b[0m\u001b[0;34m,\u001b[0m \u001b[0;34m**\u001b[0m\u001b[0mkw\u001b[0m\u001b[0;34m)\u001b[0m\u001b[0;34m:\u001b[0m\u001b[0;34m\u001b[0m\u001b[0m\n",
      "\u001b[0;31mValueError\u001b[0m: object too deep for desired array"
     ]
    },
    {
     "data": {
      "text/plain": [
       "<matplotlib.figure.Figure at 0x7f9b123104a8>"
      ]
     },
     "metadata": {},
     "output_type": "display_data"
    }
   ],
   "source": [
    "visualize_clusters(reduced_vectors_2, freq_nouns, dimensions, annotate, predictions_2)\n",
    "visualize_clusters(reduced_vectors_5, freq_nouns, dimensions, annotate, predictions_5)\n",
    "visualize_clusters(reduced_vectors_deps, freq_nouns, dimensions, annotate, predictions_deps)"
   ]
  },
  {
   "cell_type": "code",
   "execution_count": null,
   "metadata": {
    "collapsed": true
   },
   "outputs": [],
   "source": [
    "import time\n",
    "\n",
    "from sklearn.manifold import TSNE\n",
    "\n",
    "n_sne = 7000\n",
    "\n",
    "time_start = time.time()\n",
    "tsne = TSNE(n_components=2, verbose=1, perplexity=40, n_iter=300)\n",
    "tsne_results = tsne.fit_transform(v_2_arr)\n",
    "\n",
    "print (format(time.time()-time_start))"
   ]
  }
 ],
 "metadata": {
  "kernelspec": {
   "display_name": "Python 3",
   "language": "python",
   "name": "python3"
  },
  "language_info": {
   "codemirror_mode": {
    "name": "ipython",
    "version": 3
   },
   "file_extension": ".py",
   "mimetype": "text/x-python",
   "name": "python",
   "nbconvert_exporter": "python",
   "pygments_lexer": "ipython3",
   "version": "3.6.3"
  }
 },
 "nbformat": 4,
 "nbformat_minor": 2
}
